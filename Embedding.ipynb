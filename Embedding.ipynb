{
 "cells": [
  {
   "cell_type": "markdown",
   "metadata": {},
   "source": [
    "# Embedding\n",
    "\n",
    "##\n",
    "\n",
    "### 2022-1 RecommenderSystem Project\n",
    "\n",
    "#### Enviroment\n",
    "\n",
    "- python ->\t3.9.7\n",
    "- pandas ->\t1.4.1\n",
    "- numpy ->\t1.21.5\n",
    "- nltk ->\t3.7\n",
    "\n",
    "#### Data\n",
    "\n",
    "- beer_reviews.csv (<https://www.kaggle.com/datasets/rdoume/beerreviews>)\n",
    "\n",
    "#### Author\n",
    "\n",
    "- Lee Junhee\n",
    "\n",
    "#### Reference\n",
    "\n",
    "- <https://velog.io/@rsj9987/%EB%A6%AC%EB%B7%B0-%EB%B6%84%EC%84%9D%EC%9D%84-%ED%86%B5%ED%95%9C-%EB%A7%A5%EC%A3%BC-%EC%B6%94%EC%B2%9C-%EC%95%8C%EA%B3%A0%EB%A6%AC%EC%A6%98#2-5-%ED%86%A0%ED%81%B0-%EA%B0%80%EC%A4%91%EC%B9%98-%EB%8D%B0%EC%9D%B4%ED%84%B0-%EC%83%9D%EC%84%B1>\n",
    "\n",
    "---"
   ]
  },
  {
   "cell_type": "markdown",
   "metadata": {},
   "source": [
    "#### 데이터 살피기\n",
    "\n",
    "필요한 패키지를 추가한다."
   ]
  },
  {
   "cell_type": "code",
   "execution_count": 1,
   "metadata": {},
   "outputs": [],
   "source": [
    "import pandas as pd\n",
    "import numpy as np\n",
    "\n",
    "import matplotlib.pyplot as plt\n",
    "\n",
    "# 자연어 처리 라이브러리 토큰화를 위해 사용\n",
    "import nltk\n",
    "# nltk.tokenize.word_tokenize 함수를 사용하기 위해 딱 한번 주석을 해제하여 실행해야한다.\n",
    "# nltk.download('punkt')\n",
    "\n",
    "# 불용어를 위해 쓰이는 라이브러리\n",
    "import requests\n",
    "import re"
   ]
  },
  {
   "cell_type": "markdown",
   "metadata": {},
   "source": [
    "CSV 파일에서 데이터를 읽어 온다."
   ]
  },
  {
   "cell_type": "code",
   "execution_count": 2,
   "metadata": {},
   "outputs": [],
   "source": [
    "beerReviews = pd.read_csv(\"./data/merged_data.csv\")"
   ]
  },
  {
   "cell_type": "markdown",
   "metadata": {},
   "source": [
    "상위 5개의 데이터를 살펴본다."
   ]
  },
  {
   "cell_type": "code",
   "execution_count": 3,
   "metadata": {},
   "outputs": [
    {
     "data": {
      "text/html": [
       "<div>\n",
       "<style scoped>\n",
       "    .dataframe tbody tr th:only-of-type {\n",
       "        vertical-align: middle;\n",
       "    }\n",
       "\n",
       "    .dataframe tbody tr th {\n",
       "        vertical-align: top;\n",
       "    }\n",
       "\n",
       "    .dataframe thead th {\n",
       "        text-align: right;\n",
       "    }\n",
       "</style>\n",
       "<table border=\"1\" class=\"dataframe\">\n",
       "  <thead>\n",
       "    <tr style=\"text-align: right;\">\n",
       "      <th></th>\n",
       "      <th>Unnamed: 0</th>\n",
       "      <th>brewery_id</th>\n",
       "      <th>brewery_name</th>\n",
       "      <th>review_time</th>\n",
       "      <th>review_overall</th>\n",
       "      <th>review_aroma</th>\n",
       "      <th>review_appearance</th>\n",
       "      <th>review_profilename</th>\n",
       "      <th>beer_style</th>\n",
       "      <th>review_palate</th>\n",
       "      <th>review_taste</th>\n",
       "      <th>beer_name</th>\n",
       "      <th>beer_abv</th>\n",
       "      <th>beer_beerid</th>\n",
       "      <th>Description</th>\n",
       "    </tr>\n",
       "  </thead>\n",
       "  <tbody>\n",
       "    <tr>\n",
       "      <th>0</th>\n",
       "      <td>10</td>\n",
       "      <td>163</td>\n",
       "      <td>Amstel Brouwerij B. V.</td>\n",
       "      <td>1010963392</td>\n",
       "      <td>3.0</td>\n",
       "      <td>2.0</td>\n",
       "      <td>3.0</td>\n",
       "      <td>fodeeoz</td>\n",
       "      <td>Light Lager</td>\n",
       "      <td>2.5</td>\n",
       "      <td>2.5</td>\n",
       "      <td>Amstel Light</td>\n",
       "      <td>3.5</td>\n",
       "      <td>436</td>\n",
       "      <td>ABV in the USA is 4.1%\\t</td>\n",
       "    </tr>\n",
       "    <tr>\n",
       "      <th>1</th>\n",
       "      <td>18</td>\n",
       "      <td>163</td>\n",
       "      <td>Amstel Brouwerij B. V.</td>\n",
       "      <td>1010861086</td>\n",
       "      <td>2.5</td>\n",
       "      <td>3.0</td>\n",
       "      <td>3.0</td>\n",
       "      <td>jdhilt</td>\n",
       "      <td>Light Lager</td>\n",
       "      <td>2.0</td>\n",
       "      <td>2.0</td>\n",
       "      <td>Amstel Light</td>\n",
       "      <td>3.5</td>\n",
       "      <td>436</td>\n",
       "      <td>ABV in the USA is 4.1%\\t</td>\n",
       "    </tr>\n",
       "    <tr>\n",
       "      <th>2</th>\n",
       "      <td>30</td>\n",
       "      <td>163</td>\n",
       "      <td>Amstel Brouwerij B. V.</td>\n",
       "      <td>1002109880</td>\n",
       "      <td>3.0</td>\n",
       "      <td>2.0</td>\n",
       "      <td>2.0</td>\n",
       "      <td>xXTequila</td>\n",
       "      <td>Light Lager</td>\n",
       "      <td>2.0</td>\n",
       "      <td>3.0</td>\n",
       "      <td>Amstel Light</td>\n",
       "      <td>3.5</td>\n",
       "      <td>436</td>\n",
       "      <td>ABV in the USA is 4.1%\\t</td>\n",
       "    </tr>\n",
       "    <tr>\n",
       "      <th>3</th>\n",
       "      <td>40</td>\n",
       "      <td>163</td>\n",
       "      <td>Amstel Brouwerij B. V.</td>\n",
       "      <td>988202869</td>\n",
       "      <td>3.0</td>\n",
       "      <td>3.0</td>\n",
       "      <td>3.0</td>\n",
       "      <td>Brent</td>\n",
       "      <td>Light Lager</td>\n",
       "      <td>2.0</td>\n",
       "      <td>2.0</td>\n",
       "      <td>Amstel Light</td>\n",
       "      <td>3.5</td>\n",
       "      <td>436</td>\n",
       "      <td>ABV in the USA is 4.1%\\t</td>\n",
       "    </tr>\n",
       "    <tr>\n",
       "      <th>4</th>\n",
       "      <td>750</td>\n",
       "      <td>163</td>\n",
       "      <td>Amstel Brouwerij B. V.</td>\n",
       "      <td>1264904623</td>\n",
       "      <td>3.5</td>\n",
       "      <td>2.5</td>\n",
       "      <td>3.5</td>\n",
       "      <td>brownbeer</td>\n",
       "      <td>Light Lager</td>\n",
       "      <td>3.0</td>\n",
       "      <td>3.0</td>\n",
       "      <td>Amstel Light</td>\n",
       "      <td>3.5</td>\n",
       "      <td>436</td>\n",
       "      <td>ABV in the USA is 4.1%\\t</td>\n",
       "    </tr>\n",
       "  </tbody>\n",
       "</table>\n",
       "</div>"
      ],
      "text/plain": [
       "   Unnamed: 0  brewery_id            brewery_name  review_time  \\\n",
       "0          10         163  Amstel Brouwerij B. V.   1010963392   \n",
       "1          18         163  Amstel Brouwerij B. V.   1010861086   \n",
       "2          30         163  Amstel Brouwerij B. V.   1002109880   \n",
       "3          40         163  Amstel Brouwerij B. V.    988202869   \n",
       "4         750         163  Amstel Brouwerij B. V.   1264904623   \n",
       "\n",
       "   review_overall  review_aroma  review_appearance review_profilename  \\\n",
       "0             3.0           2.0                3.0            fodeeoz   \n",
       "1             2.5           3.0                3.0             jdhilt   \n",
       "2             3.0           2.0                2.0          xXTequila   \n",
       "3             3.0           3.0                3.0              Brent   \n",
       "4             3.5           2.5                3.5          brownbeer   \n",
       "\n",
       "    beer_style  review_palate  review_taste     beer_name  beer_abv  \\\n",
       "0  Light Lager            2.5           2.5  Amstel Light       3.5   \n",
       "1  Light Lager            2.0           2.0  Amstel Light       3.5   \n",
       "2  Light Lager            2.0           3.0  Amstel Light       3.5   \n",
       "3  Light Lager            2.0           2.0  Amstel Light       3.5   \n",
       "4  Light Lager            3.0           3.0  Amstel Light       3.5   \n",
       "\n",
       "   beer_beerid               Description  \n",
       "0          436  ABV in the USA is 4.1%\\t  \n",
       "1          436  ABV in the USA is 4.1%\\t  \n",
       "2          436  ABV in the USA is 4.1%\\t  \n",
       "3          436  ABV in the USA is 4.1%\\t  \n",
       "4          436  ABV in the USA is 4.1%\\t  "
      ]
     },
     "execution_count": 3,
     "metadata": {},
     "output_type": "execute_result"
    }
   ],
   "source": [
    "beerReviews.head()"
   ]
  },
  {
   "cell_type": "markdown",
   "metadata": {},
   "source": [
    "하위 5의 데이터를 살펴본다."
   ]
  },
  {
   "cell_type": "code",
   "execution_count": 4,
   "metadata": {},
   "outputs": [
    {
     "data": {
      "text/html": [
       "<div>\n",
       "<style scoped>\n",
       "    .dataframe tbody tr th:only-of-type {\n",
       "        vertical-align: middle;\n",
       "    }\n",
       "\n",
       "    .dataframe tbody tr th {\n",
       "        vertical-align: top;\n",
       "    }\n",
       "\n",
       "    .dataframe thead th {\n",
       "        text-align: right;\n",
       "    }\n",
       "</style>\n",
       "<table border=\"1\" class=\"dataframe\">\n",
       "  <thead>\n",
       "    <tr style=\"text-align: right;\">\n",
       "      <th></th>\n",
       "      <th>Unnamed: 0</th>\n",
       "      <th>brewery_id</th>\n",
       "      <th>brewery_name</th>\n",
       "      <th>review_time</th>\n",
       "      <th>review_overall</th>\n",
       "      <th>review_aroma</th>\n",
       "      <th>review_appearance</th>\n",
       "      <th>review_profilename</th>\n",
       "      <th>beer_style</th>\n",
       "      <th>review_palate</th>\n",
       "      <th>review_taste</th>\n",
       "      <th>beer_name</th>\n",
       "      <th>beer_abv</th>\n",
       "      <th>beer_beerid</th>\n",
       "      <th>Description</th>\n",
       "    </tr>\n",
       "  </thead>\n",
       "  <tbody>\n",
       "    <tr>\n",
       "      <th>452949</th>\n",
       "      <td>1683163</td>\n",
       "      <td>14359</td>\n",
       "      <td>The Defiant Brewing Company</td>\n",
       "      <td>1175746381</td>\n",
       "      <td>3.5</td>\n",
       "      <td>4.0</td>\n",
       "      <td>4.0</td>\n",
       "      <td>maddogruss</td>\n",
       "      <td>American IPA</td>\n",
       "      <td>4.0</td>\n",
       "      <td>4.0</td>\n",
       "      <td>India Pale Ale</td>\n",
       "      <td>6.2</td>\n",
       "      <td>35185</td>\n",
       "      <td>This ale is traditionally highly hopped and ro...</td>\n",
       "    </tr>\n",
       "    <tr>\n",
       "      <th>452950</th>\n",
       "      <td>1683164</td>\n",
       "      <td>14359</td>\n",
       "      <td>The Defiant Brewing Company</td>\n",
       "      <td>1171081089</td>\n",
       "      <td>4.0</td>\n",
       "      <td>4.5</td>\n",
       "      <td>4.0</td>\n",
       "      <td>dherling</td>\n",
       "      <td>American IPA</td>\n",
       "      <td>4.0</td>\n",
       "      <td>4.5</td>\n",
       "      <td>India Pale Ale</td>\n",
       "      <td>6.2</td>\n",
       "      <td>35185</td>\n",
       "      <td>Green Man India Pale Ale is delectably hoppy w...</td>\n",
       "    </tr>\n",
       "    <tr>\n",
       "      <th>452951</th>\n",
       "      <td>1683165</td>\n",
       "      <td>14359</td>\n",
       "      <td>The Defiant Brewing Company</td>\n",
       "      <td>1171081089</td>\n",
       "      <td>4.0</td>\n",
       "      <td>4.5</td>\n",
       "      <td>4.0</td>\n",
       "      <td>dherling</td>\n",
       "      <td>American IPA</td>\n",
       "      <td>4.0</td>\n",
       "      <td>4.5</td>\n",
       "      <td>India Pale Ale</td>\n",
       "      <td>6.2</td>\n",
       "      <td>35185</td>\n",
       "      <td>This ale is traditionally highly hopped and ro...</td>\n",
       "    </tr>\n",
       "    <tr>\n",
       "      <th>452952</th>\n",
       "      <td>1683166</td>\n",
       "      <td>14359</td>\n",
       "      <td>The Defiant Brewing Company</td>\n",
       "      <td>1170979828</td>\n",
       "      <td>4.0</td>\n",
       "      <td>4.0</td>\n",
       "      <td>4.5</td>\n",
       "      <td>cbl2</td>\n",
       "      <td>American IPA</td>\n",
       "      <td>4.0</td>\n",
       "      <td>4.0</td>\n",
       "      <td>India Pale Ale</td>\n",
       "      <td>6.2</td>\n",
       "      <td>35185</td>\n",
       "      <td>Green Man India Pale Ale is delectably hoppy w...</td>\n",
       "    </tr>\n",
       "    <tr>\n",
       "      <th>452953</th>\n",
       "      <td>1683167</td>\n",
       "      <td>14359</td>\n",
       "      <td>The Defiant Brewing Company</td>\n",
       "      <td>1170979828</td>\n",
       "      <td>4.0</td>\n",
       "      <td>4.0</td>\n",
       "      <td>4.5</td>\n",
       "      <td>cbl2</td>\n",
       "      <td>American IPA</td>\n",
       "      <td>4.0</td>\n",
       "      <td>4.0</td>\n",
       "      <td>India Pale Ale</td>\n",
       "      <td>6.2</td>\n",
       "      <td>35185</td>\n",
       "      <td>This ale is traditionally highly hopped and ro...</td>\n",
       "    </tr>\n",
       "  </tbody>\n",
       "</table>\n",
       "</div>"
      ],
      "text/plain": [
       "        Unnamed: 0  brewery_id                 brewery_name  review_time  \\\n",
       "452949     1683163       14359  The Defiant Brewing Company   1175746381   \n",
       "452950     1683164       14359  The Defiant Brewing Company   1171081089   \n",
       "452951     1683165       14359  The Defiant Brewing Company   1171081089   \n",
       "452952     1683166       14359  The Defiant Brewing Company   1170979828   \n",
       "452953     1683167       14359  The Defiant Brewing Company   1170979828   \n",
       "\n",
       "        review_overall  review_aroma  review_appearance review_profilename  \\\n",
       "452949             3.5           4.0                4.0         maddogruss   \n",
       "452950             4.0           4.5                4.0           dherling   \n",
       "452951             4.0           4.5                4.0           dherling   \n",
       "452952             4.0           4.0                4.5               cbl2   \n",
       "452953             4.0           4.0                4.5               cbl2   \n",
       "\n",
       "          beer_style  review_palate  review_taste       beer_name  beer_abv  \\\n",
       "452949  American IPA            4.0           4.0  India Pale Ale       6.2   \n",
       "452950  American IPA            4.0           4.5  India Pale Ale       6.2   \n",
       "452951  American IPA            4.0           4.5  India Pale Ale       6.2   \n",
       "452952  American IPA            4.0           4.0  India Pale Ale       6.2   \n",
       "452953  American IPA            4.0           4.0  India Pale Ale       6.2   \n",
       "\n",
       "        beer_beerid                                        Description  \n",
       "452949        35185  This ale is traditionally highly hopped and ro...  \n",
       "452950        35185  Green Man India Pale Ale is delectably hoppy w...  \n",
       "452951        35185  This ale is traditionally highly hopped and ro...  \n",
       "452952        35185  Green Man India Pale Ale is delectably hoppy w...  \n",
       "452953        35185  This ale is traditionally highly hopped and ro...  "
      ]
     },
     "execution_count": 4,
     "metadata": {},
     "output_type": "execute_result"
    }
   ],
   "source": [
    "beerReviews.tail()"
   ]
  },
  {
   "cell_type": "markdown",
   "metadata": {},
   "source": [
    "#### Embedding 과정\n",
    "\n",
    "각 맥주들을 표현한 의미있는 Embedding을 위해 Description 열을 이용한다.\n",
    "\n",
    "Description은 맥주의 설명을 적은 문장이므로, 각 문장의 단어들을 Embedding하고 결과를 이용하여 맥주를 표현하는 Embedding vector를 정의한다.\n",
    "\n",
    "Description을 사용하기 전에 임의 데이터의 Description 값을 출력해본다."
   ]
  },
  {
   "cell_type": "code",
   "execution_count": 24,
   "metadata": {},
   "outputs": [
    {
     "name": "stdout",
     "output_type": "stream",
     "text": [
      "idx: 0\n",
      "beer_name: Amstel Light\n",
      "description: ABV in the USA is 4.1%\t\n",
      "\n",
      "idx: 452952\n",
      "beer_name: India Pale Ale\n",
      "description: Green Man India Pale Ale is delectably hoppy with a properly balanced body. Generous hop additions give it a wonderful bitterness and pleasant floral nose, while our combination of traditional British malts creates a rich, satisfying flavor and alluring copper color. This authentic English-style IPA is our flagship ale.\t\n",
      "\n"
     ]
    }
   ],
   "source": [
    "def print_beer_with_description_by_id(dataIdx):\n",
    "\tglobal beerReviews\n",
    "\tprint(f\"idx: {dataIdx}\\nbeer_name: { beerReviews['beer_name'].iloc[dataIdx] }\\ndescription: {beerReviews['Description'].iloc[dataIdx]}\\n\")\n",
    "\n",
    "print_beer_with_description_by_id(0)\n",
    "print_beer_with_description_by_id(452952)"
   ]
  },
  {
   "cell_type": "markdown",
   "metadata": {},
   "source": [
    "두개의 데이터 중 상위의 데이터(Amstel Light)의 경우는 Description에서 맥주의 특징을 잘 설명하지 않고 있다. 아래의 데이터(India Pale Ale)는 Description에 맥주에 대한 설명히 자세하게 적혀있다.\n",
    "\n",
    "위의 데이터의 경우, Embedding vector를 얻는 것이 힘들어 보이고 아래 데이터의 경우, 적절한 임베딩 벡터를 얻을 수 있을거라 예상한다.\n",
    "\n",
    "임베딩을 위해서 각 문장을 수치화 해야한다. 문장을 수치화 하기 위한 방법으로 **Bag of Words 모델**을 사용하여 단어의 빈도수에 대한 집합으로 나타낸다. nltk 패키지를 사용하였다.\n",
    "\n",
    "위의 과정을 위해 일단 Description을 따로 뽑아낸다."
   ]
  },
  {
   "cell_type": "code",
   "execution_count": 6,
   "metadata": {},
   "outputs": [
    {
     "data": {
      "text/plain": [
       "0                                  ABV in the USA is 4.1%\\t\n",
       "1                                  ABV in the USA is 4.1%\\t\n",
       "2                                  ABV in the USA is 4.1%\\t\n",
       "3                                  ABV in the USA is 4.1%\\t\n",
       "4                                  ABV in the USA is 4.1%\\t\n",
       "                                ...                        \n",
       "452949    This ale is traditionally highly hopped and ro...\n",
       "452950    Green Man India Pale Ale is delectably hoppy w...\n",
       "452951    This ale is traditionally highly hopped and ro...\n",
       "452952    Green Man India Pale Ale is delectably hoppy w...\n",
       "452953    This ale is traditionally highly hopped and ro...\n",
       "Name: Description, Length: 452954, dtype: object"
      ]
     },
     "execution_count": 6,
     "metadata": {},
     "output_type": "execute_result"
    }
   ],
   "source": [
    "descriptions = beerReviews[\"Description\"]\n",
    "descriptions"
   ]
  },
  {
   "cell_type": "markdown",
   "metadata": {},
   "source": [
    "Descriptions는 맥주에 대한 사용자들의 평가 데이터에서 가져온 데이터 이기 때문에 중복이 되어 나타난다.\n",
    "\n",
    "맥주에 대한 Description을 Dataframe로 만든다."
   ]
  },
  {
   "cell_type": "code",
   "execution_count": 7,
   "metadata": {},
   "outputs": [
    {
     "name": "stdout",
     "output_type": "stream",
     "text": [
      "                                      beer_descriptions\n",
      "0                              ABV in the USA is 4.1%\\t\n",
      "1     'Oak Aged Imperial Porter Brewed with Chocolat...\n",
      "2                              Formerly In-Heat Wheat\\t\n",
      "3     An authentic example of a Bavarian Hefeweizen....\n",
      "4     Our Hefeweizen is a light, unfiltered wheat be...\n",
      "...                                                 ...\n",
      "1398  Foster is our Black Wheat IPA, brewed with a l...\n",
      "1399  Batch 2: Barrel aged for 18 months in hand sel...\n",
      "1400  Ephraim (1823-1913) was our great-great grandf...\n",
      "1401  James was our Uncle (Edward James Hill Jr.). H...\n",
      "1402  Fear and Trembling is Hill Farmstead’s first c...\n",
      "\n",
      "[1403 rows x 1 columns]\n"
     ]
    }
   ],
   "source": [
    "beerDescriptions = pd.DataFrame(descriptions.unique(), columns=[\"beer_descriptions\"])\n",
    "print(beerDescriptions)"
   ]
  },
  {
   "cell_type": "markdown",
   "metadata": {},
   "source": [
    "각 Description을 단어로 토큰화 한다."
   ]
  },
  {
   "cell_type": "code",
   "execution_count": 8,
   "metadata": {},
   "outputs": [
    {
     "name": "stdout",
     "output_type": "stream",
     "text": [
      "[list(['ABV', 'in', 'the', 'USA', 'is', '4.1', '%'])\n",
      " list([\"'Oak\", 'Aged', 'Imperial', 'Porter', 'Brewed', 'with', \"Chocolate'Caldera\", 'Kettle', 'SeriesJune', '2011', '-', 'first', 'release', 'in', 'waxed', '22', 'oz', '.', 'bottles'])\n",
      " list(['Formerly', 'In-Heat', 'Wheat'])]\n"
     ]
    }
   ],
   "source": [
    "tokenizedDescriptions = beerDescriptions[\"beer_descriptions\"].apply(nltk.tokenize.word_tokenize).to_numpy()\n",
    "# 3개만 출력\n",
    "print(tokenizedDescriptions[:3])"
   ]
  },
  {
   "cell_type": "markdown",
   "metadata": {},
   "source": [
    "토큰화된 단어들을 하나의 리스트로 만든다. 그리고 중복된 단어들을 지운 단어의 집합을 만든다. 모든 단어들은 소문자화 한다."
   ]
  },
  {
   "cell_type": "code",
   "execution_count": 9,
   "metadata": {},
   "outputs": [
    {
     "name": "stdout",
     "output_type": "stream",
     "text": [
      "Number of words: 87896\n",
      "Number of unique words: 9674\n"
     ]
    }
   ],
   "source": [
    "allWords = np.concatenate(tokenizedDescriptions)\n",
    "lower_case = lambda word: str.lower(word)\n",
    "allWords = [lower_case(word) for word in allWords]\n",
    "words = set(allWords)\n",
    "words = list(words)\n",
    "print(f\"Number of words: {len(allWords)}\")\n",
    "print(f\"Number of unique words: {len(words)}\")\n"
   ]
  },
  {
   "cell_type": "markdown",
   "metadata": {},
   "source": [
    "재료나 특징에 중심을 두어 품사를 선택했다. 고유명사를 제외한 명사와 형용사만을 포함하고 나머지는 제거하였다."
   ]
  },
  {
   "cell_type": "code",
   "execution_count": 10,
   "metadata": {},
   "outputs": [],
   "source": [
    "featureAllWords = []\n",
    "for word in nltk.tag.pos_tag(allWords):\n",
    "    if word[1] in ['NN', 'NNS', 'JJ', 'JJR', 'JJS']: # 고유명사를 제외한 명사, 형용사만을 포함\n",
    "        featureAllWords.append(word[0])\n",
    "\n",
    "words = set(featureAllWords)\n",
    "words = list(words)"
   ]
  },
  {
   "cell_type": "markdown",
   "metadata": {},
   "source": [
    "고유한 한 가지 단어가 나온 빈도수를 값으로 갖는 DataFrame를 만든다."
   ]
  },
  {
   "cell_type": "code",
   "execution_count": 11,
   "metadata": {},
   "outputs": [
    {
     "data": {
      "text/html": [
       "<div>\n",
       "<style scoped>\n",
       "    .dataframe tbody tr th:only-of-type {\n",
       "        vertical-align: middle;\n",
       "    }\n",
       "\n",
       "    .dataframe tbody tr th {\n",
       "        vertical-align: top;\n",
       "    }\n",
       "\n",
       "    .dataframe thead th {\n",
       "        text-align: right;\n",
       "    }\n",
       "</style>\n",
       "<table border=\"1\" class=\"dataframe\">\n",
       "  <thead>\n",
       "    <tr style=\"text-align: right;\">\n",
       "      <th></th>\n",
       "      <th>counts</th>\n",
       "    </tr>\n",
       "  </thead>\n",
       "  <tbody>\n",
       "    <tr>\n",
       "      <th>trade</th>\n",
       "      <td>4</td>\n",
       "    </tr>\n",
       "    <tr>\n",
       "      <th>honeyville™</th>\n",
       "      <td>1</td>\n",
       "    </tr>\n",
       "    <tr>\n",
       "      <th>ch</th>\n",
       "      <td>1</td>\n",
       "    </tr>\n",
       "    <tr>\n",
       "      <th>coppery-red</th>\n",
       "      <td>1</td>\n",
       "    </tr>\n",
       "    <tr>\n",
       "      <th>strongbeer-season</th>\n",
       "      <td>1</td>\n",
       "    </tr>\n",
       "    <tr>\n",
       "      <th>...</th>\n",
       "      <td>...</td>\n",
       "    </tr>\n",
       "    <tr>\n",
       "      <th>content</th>\n",
       "      <td>26</td>\n",
       "    </tr>\n",
       "    <tr>\n",
       "      <th>inhuman</th>\n",
       "      <td>1</td>\n",
       "    </tr>\n",
       "    <tr>\n",
       "      <th>barley</th>\n",
       "      <td>172</td>\n",
       "    </tr>\n",
       "    <tr>\n",
       "      <th>passion</th>\n",
       "      <td>9</td>\n",
       "    </tr>\n",
       "    <tr>\n",
       "      <th>meal.experience</th>\n",
       "      <td>1</td>\n",
       "    </tr>\n",
       "  </tbody>\n",
       "</table>\n",
       "<p>7187 rows × 1 columns</p>\n",
       "</div>"
      ],
      "text/plain": [
       "                   counts\n",
       "trade                   4\n",
       "honeyville™             1\n",
       "ch                      1\n",
       "coppery-red             1\n",
       "strongbeer-season       1\n",
       "...                   ...\n",
       "content                26\n",
       "inhuman                 1\n",
       "barley                172\n",
       "passion                 9\n",
       "meal.experience         1\n",
       "\n",
       "[7187 rows x 1 columns]"
      ]
     },
     "execution_count": 11,
     "metadata": {},
     "output_type": "execute_result"
    }
   ],
   "source": [
    "wordCounts = dict.fromkeys(words, 0)\n",
    "for word in featureAllWords:\n",
    "\twordCounts[word] += 1\n",
    "\n",
    "wordCounts = pd.DataFrame.from_dict(wordCounts, orient='index', columns=[\"counts\"])\n",
    "wordCounts"
   ]
  },
  {
   "cell_type": "markdown",
   "metadata": {},
   "source": [
    "영어 불용어를 삭제한다. 불용어는 이미 만들어진 것을 가져와 사용했다."
   ]
  },
  {
   "cell_type": "code",
   "execution_count": 12,
   "metadata": {},
   "outputs": [
    {
     "data": {
      "text/html": [
       "<div>\n",
       "<style scoped>\n",
       "    .dataframe tbody tr th:only-of-type {\n",
       "        vertical-align: middle;\n",
       "    }\n",
       "\n",
       "    .dataframe tbody tr th {\n",
       "        vertical-align: top;\n",
       "    }\n",
       "\n",
       "    .dataframe thead th {\n",
       "        text-align: right;\n",
       "    }\n",
       "</style>\n",
       "<table border=\"1\" class=\"dataframe\">\n",
       "  <thead>\n",
       "    <tr style=\"text-align: right;\">\n",
       "      <th></th>\n",
       "      <th>counts</th>\n",
       "    </tr>\n",
       "  </thead>\n",
       "  <tbody>\n",
       "    <tr>\n",
       "      <th>trade</th>\n",
       "      <td>4</td>\n",
       "    </tr>\n",
       "    <tr>\n",
       "      <th>honeyville™</th>\n",
       "      <td>1</td>\n",
       "    </tr>\n",
       "    <tr>\n",
       "      <th>coppery-red</th>\n",
       "      <td>1</td>\n",
       "    </tr>\n",
       "    <tr>\n",
       "      <th>strongbeer-season</th>\n",
       "      <td>1</td>\n",
       "    </tr>\n",
       "    <tr>\n",
       "      <th>parsley</th>\n",
       "      <td>1</td>\n",
       "    </tr>\n",
       "    <tr>\n",
       "      <th>...</th>\n",
       "      <td>...</td>\n",
       "    </tr>\n",
       "    <tr>\n",
       "      <th>content</th>\n",
       "      <td>26</td>\n",
       "    </tr>\n",
       "    <tr>\n",
       "      <th>inhuman</th>\n",
       "      <td>1</td>\n",
       "    </tr>\n",
       "    <tr>\n",
       "      <th>barley</th>\n",
       "      <td>172</td>\n",
       "    </tr>\n",
       "    <tr>\n",
       "      <th>passion</th>\n",
       "      <td>9</td>\n",
       "    </tr>\n",
       "    <tr>\n",
       "      <th>meal.experience</th>\n",
       "      <td>1</td>\n",
       "    </tr>\n",
       "  </tbody>\n",
       "</table>\n",
       "<p>6959 rows × 1 columns</p>\n",
       "</div>"
      ],
      "text/plain": [
       "                   counts\n",
       "trade                   4\n",
       "honeyville™             1\n",
       "coppery-red             1\n",
       "strongbeer-season       1\n",
       "parsley                 1\n",
       "...                   ...\n",
       "content                26\n",
       "inhuman                 1\n",
       "barley                172\n",
       "passion                 9\n",
       "meal.experience         1\n",
       "\n",
       "[6959 rows x 1 columns]"
      ]
     },
     "execution_count": 12,
     "metadata": {},
     "output_type": "execute_result"
    }
   ],
   "source": [
    "stopwordsList = requests.get(\"https://gist.githubusercontent.com/rg089/35e00abf8941d72d419224cfd5b5925d/raw/12d899b70156fd0041fa9778d657330b024b959c/stopwords.txt\").content\n",
    "stopwords = set(stopwordsList.decode().splitlines()) \n",
    "\n",
    "for index in wordCounts.index:\n",
    "\tif index in stopwords:\n",
    "\t\twordCounts = wordCounts.drop(index)\n",
    "\n",
    "wordCounts"
   ]
  },
  {
   "cell_type": "markdown",
   "metadata": {},
   "source": [
    "숫자와 문장부호도 보인다. regular expression을 이용하여 삭제하자."
   ]
  },
  {
   "cell_type": "code",
   "execution_count": 13,
   "metadata": {},
   "outputs": [
    {
     "data": {
      "text/html": [
       "<div>\n",
       "<style scoped>\n",
       "    .dataframe tbody tr th:only-of-type {\n",
       "        vertical-align: middle;\n",
       "    }\n",
       "\n",
       "    .dataframe tbody tr th {\n",
       "        vertical-align: top;\n",
       "    }\n",
       "\n",
       "    .dataframe thead th {\n",
       "        text-align: right;\n",
       "    }\n",
       "</style>\n",
       "<table border=\"1\" class=\"dataframe\">\n",
       "  <thead>\n",
       "    <tr style=\"text-align: right;\">\n",
       "      <th></th>\n",
       "      <th>counts</th>\n",
       "    </tr>\n",
       "  </thead>\n",
       "  <tbody>\n",
       "    <tr>\n",
       "      <th>trade</th>\n",
       "      <td>4</td>\n",
       "    </tr>\n",
       "    <tr>\n",
       "      <th>honeyville™</th>\n",
       "      <td>1</td>\n",
       "    </tr>\n",
       "    <tr>\n",
       "      <th>coppery-red</th>\n",
       "      <td>1</td>\n",
       "    </tr>\n",
       "    <tr>\n",
       "      <th>strongbeer-season</th>\n",
       "      <td>1</td>\n",
       "    </tr>\n",
       "    <tr>\n",
       "      <th>parsley</th>\n",
       "      <td>1</td>\n",
       "    </tr>\n",
       "    <tr>\n",
       "      <th>...</th>\n",
       "      <td>...</td>\n",
       "    </tr>\n",
       "    <tr>\n",
       "      <th>content</th>\n",
       "      <td>26</td>\n",
       "    </tr>\n",
       "    <tr>\n",
       "      <th>inhuman</th>\n",
       "      <td>1</td>\n",
       "    </tr>\n",
       "    <tr>\n",
       "      <th>barley</th>\n",
       "      <td>172</td>\n",
       "    </tr>\n",
       "    <tr>\n",
       "      <th>passion</th>\n",
       "      <td>9</td>\n",
       "    </tr>\n",
       "    <tr>\n",
       "      <th>meal.experience</th>\n",
       "      <td>1</td>\n",
       "    </tr>\n",
       "  </tbody>\n",
       "</table>\n",
       "<p>6858 rows × 1 columns</p>\n",
       "</div>"
      ],
      "text/plain": [
       "                   counts\n",
       "trade                   4\n",
       "honeyville™             1\n",
       "coppery-red             1\n",
       "strongbeer-season       1\n",
       "parsley                 1\n",
       "...                   ...\n",
       "content                26\n",
       "inhuman                 1\n",
       "barley                172\n",
       "passion                 9\n",
       "meal.experience         1\n",
       "\n",
       "[6858 rows x 1 columns]"
      ]
     },
     "execution_count": 13,
     "metadata": {},
     "output_type": "execute_result"
    }
   ],
   "source": [
    "r = re.compile(\"[0-9\\W]+\")\n",
    "\n",
    "for index in wordCounts.index:\n",
    "\tif r.match(index) != None :\n",
    "\t\twordCounts = wordCounts.drop(index)\n",
    "\n",
    "wordCounts"
   ]
  },
  {
   "cell_type": "markdown",
   "metadata": {},
   "source": [
    "기술 통계량을 살펴보자."
   ]
  },
  {
   "cell_type": "code",
   "execution_count": 14,
   "metadata": {},
   "outputs": [
    {
     "data": {
      "text/html": [
       "<div>\n",
       "<style scoped>\n",
       "    .dataframe tbody tr th:only-of-type {\n",
       "        vertical-align: middle;\n",
       "    }\n",
       "\n",
       "    .dataframe tbody tr th {\n",
       "        vertical-align: top;\n",
       "    }\n",
       "\n",
       "    .dataframe thead th {\n",
       "        text-align: right;\n",
       "    }\n",
       "</style>\n",
       "<table border=\"1\" class=\"dataframe\">\n",
       "  <thead>\n",
       "    <tr style=\"text-align: right;\">\n",
       "      <th></th>\n",
       "      <th>counts</th>\n",
       "    </tr>\n",
       "  </thead>\n",
       "  <tbody>\n",
       "    <tr>\n",
       "      <th>count</th>\n",
       "      <td>6858.000000</td>\n",
       "    </tr>\n",
       "    <tr>\n",
       "      <th>mean</th>\n",
       "      <td>5.138379</td>\n",
       "    </tr>\n",
       "    <tr>\n",
       "      <th>std</th>\n",
       "      <td>23.276225</td>\n",
       "    </tr>\n",
       "    <tr>\n",
       "      <th>min</th>\n",
       "      <td>1.000000</td>\n",
       "    </tr>\n",
       "    <tr>\n",
       "      <th>25%</th>\n",
       "      <td>1.000000</td>\n",
       "    </tr>\n",
       "    <tr>\n",
       "      <th>50%</th>\n",
       "      <td>1.000000</td>\n",
       "    </tr>\n",
       "    <tr>\n",
       "      <th>75%</th>\n",
       "      <td>3.000000</td>\n",
       "    </tr>\n",
       "    <tr>\n",
       "      <th>max</th>\n",
       "      <td>1041.000000</td>\n",
       "    </tr>\n",
       "  </tbody>\n",
       "</table>\n",
       "</div>"
      ],
      "text/plain": [
       "            counts\n",
       "count  6858.000000\n",
       "mean      5.138379\n",
       "std      23.276225\n",
       "min       1.000000\n",
       "25%       1.000000\n",
       "50%       1.000000\n",
       "75%       3.000000\n",
       "max    1041.000000"
      ]
     },
     "execution_count": 14,
     "metadata": {},
     "output_type": "execute_result"
    }
   ],
   "source": [
    "wordCounts.describe()"
   ]
  },
  {
   "cell_type": "markdown",
   "metadata": {},
   "source": [
    "단어 갯수 6858 어림잡아 50% 이상 단어의 빈도수가 1임을 알 수 있다. 그리고 가장 큰 빈도수는 1041이다.\n",
    "\n",
    "100개의 묶음으로 그래프를 그렸을 때, 첫번째 구간 (약 0~10) 가 가장 많은 수가 나왔다."
   ]
  },
  {
   "cell_type": "code",
   "execution_count": 15,
   "metadata": {},
   "outputs": [
    {
     "data": {
      "image/png": "[encoded data removed]",
      "text/plain": [
       "<Figure size 432x288 with 1 Axes>"
      ]
     },
     "metadata": {
      "needs_background": "light"
     },
     "output_type": "display_data"
    }
   ],
   "source": [
    "plt.hist(wordCounts, bins=100)\n",
    "plt.show()\n"
   ]
  },
  {
   "cell_type": "markdown",
   "metadata": {},
   "source": [
    "한 번 나온 단어는 맥주들을 표현하는 단어라고 보기에 적합하지 않다.\n",
    "\n",
    "전체 맥주에서 맥주를 표현한 단어라면 한 번 나오지는 않았을 것이다.\n",
    "\n",
    "즉, 빈도가 적은 단어들은 전체적인 맥주의 특징을 나타낼 수 있는 단어라고 보기 어렵다. 그러므로 **10개 이하의 개수인 데이터를 제거한다.**"
   ]
  },
  {
   "cell_type": "code",
   "execution_count": 16,
   "metadata": {},
   "outputs": [
    {
     "name": "stdout",
     "output_type": "stream",
     "text": [
      "10회 이하의 발생빈도 단어 수: 6341\n"
     ]
    },
    {
     "data": {
      "text/html": [
       "<div>\n",
       "<style scoped>\n",
       "    .dataframe tbody tr th:only-of-type {\n",
       "        vertical-align: middle;\n",
       "    }\n",
       "\n",
       "    .dataframe tbody tr th {\n",
       "        vertical-align: top;\n",
       "    }\n",
       "\n",
       "    .dataframe thead th {\n",
       "        text-align: right;\n",
       "    }\n",
       "</style>\n",
       "<table border=\"1\" class=\"dataframe\">\n",
       "  <thead>\n",
       "    <tr style=\"text-align: right;\">\n",
       "      <th></th>\n",
       "      <th>counts</th>\n",
       "    </tr>\n",
       "  </thead>\n",
       "  <tbody>\n",
       "    <tr>\n",
       "      <th>count</th>\n",
       "      <td>517.000000</td>\n",
       "    </tr>\n",
       "    <tr>\n",
       "      <th>mean</th>\n",
       "      <td>44.804642</td>\n",
       "    </tr>\n",
       "    <tr>\n",
       "      <th>std</th>\n",
       "      <td>73.876459</td>\n",
       "    </tr>\n",
       "    <tr>\n",
       "      <th>min</th>\n",
       "      <td>11.000000</td>\n",
       "    </tr>\n",
       "    <tr>\n",
       "      <th>25%</th>\n",
       "      <td>15.000000</td>\n",
       "    </tr>\n",
       "    <tr>\n",
       "      <th>50%</th>\n",
       "      <td>22.000000</td>\n",
       "    </tr>\n",
       "    <tr>\n",
       "      <th>75%</th>\n",
       "      <td>44.000000</td>\n",
       "    </tr>\n",
       "    <tr>\n",
       "      <th>max</th>\n",
       "      <td>1041.000000</td>\n",
       "    </tr>\n",
       "  </tbody>\n",
       "</table>\n",
       "</div>"
      ],
      "text/plain": [
       "            counts\n",
       "count   517.000000\n",
       "mean     44.804642\n",
       "std      73.876459\n",
       "min      11.000000\n",
       "25%      15.000000\n",
       "50%      22.000000\n",
       "75%      44.000000\n",
       "max    1041.000000"
      ]
     },
     "execution_count": 16,
     "metadata": {},
     "output_type": "execute_result"
    }
   ],
   "source": [
    "maxThreshold = 10\n",
    "\n",
    "print(f\"{maxThreshold}회 이하의 발생빈도 단어 수: {len(wordCounts[wordCounts.counts <= maxThreshold].index)}\")\n",
    "wordCounts = wordCounts.drop(wordCounts[wordCounts.counts <= maxThreshold].index)\n",
    "wordCounts.describe()"
   ]
  },
  {
   "cell_type": "code",
   "execution_count": 17,
   "metadata": {},
   "outputs": [
    {
     "data": {
      "image/png": "[encoded data removed]",
      "text/plain": [
       "<Figure size 432x288 with 1 Axes>"
      ]
     },
     "metadata": {
      "needs_background": "light"
     },
     "output_type": "display_data"
    }
   ],
   "source": [
    "plt.hist(wordCounts, bins=10)\n",
    "plt.show()"
   ]
  },
  {
   "cell_type": "markdown",
   "metadata": {},
   "source": [
    "517개의 단어가 선정 되었다. 10~200의 빈도수를 가진 단어의 갯수가 가장 많다. 200 이상의 갯수는 무의미하다고 판단되므로 제거한다."
   ]
  },
  {
   "cell_type": "code",
   "execution_count": 18,
   "metadata": {},
   "outputs": [
    {
     "name": "stdout",
     "output_type": "stream",
     "text": [
      "200회 이상의 발생빈도 단어 수: 14\n"
     ]
    },
    {
     "data": {
      "text/html": [
       "<div>\n",
       "<style scoped>\n",
       "    .dataframe tbody tr th:only-of-type {\n",
       "        vertical-align: middle;\n",
       "    }\n",
       "\n",
       "    .dataframe tbody tr th {\n",
       "        vertical-align: top;\n",
       "    }\n",
       "\n",
       "    .dataframe thead th {\n",
       "        text-align: right;\n",
       "    }\n",
       "</style>\n",
       "<table border=\"1\" class=\"dataframe\">\n",
       "  <thead>\n",
       "    <tr style=\"text-align: right;\">\n",
       "      <th></th>\n",
       "      <th>counts</th>\n",
       "    </tr>\n",
       "  </thead>\n",
       "  <tbody>\n",
       "    <tr>\n",
       "      <th>count</th>\n",
       "      <td>503.000000</td>\n",
       "    </tr>\n",
       "    <tr>\n",
       "      <th>mean</th>\n",
       "      <td>35.980119</td>\n",
       "    </tr>\n",
       "    <tr>\n",
       "      <th>std</th>\n",
       "      <td>35.027644</td>\n",
       "    </tr>\n",
       "    <tr>\n",
       "      <th>min</th>\n",
       "      <td>11.000000</td>\n",
       "    </tr>\n",
       "    <tr>\n",
       "      <th>25%</th>\n",
       "      <td>14.500000</td>\n",
       "    </tr>\n",
       "    <tr>\n",
       "      <th>50%</th>\n",
       "      <td>21.000000</td>\n",
       "    </tr>\n",
       "    <tr>\n",
       "      <th>75%</th>\n",
       "      <td>42.000000</td>\n",
       "    </tr>\n",
       "    <tr>\n",
       "      <th>max</th>\n",
       "      <td>199.000000</td>\n",
       "    </tr>\n",
       "  </tbody>\n",
       "</table>\n",
       "</div>"
      ],
      "text/plain": [
       "           counts\n",
       "count  503.000000\n",
       "mean    35.980119\n",
       "std     35.027644\n",
       "min     11.000000\n",
       "25%     14.500000\n",
       "50%     21.000000\n",
       "75%     42.000000\n",
       "max    199.000000"
      ]
     },
     "execution_count": 18,
     "metadata": {},
     "output_type": "execute_result"
    }
   ],
   "source": [
    "minThreshold = 200\n",
    "\n",
    "print(f\"{minThreshold}회 이상의 발생빈도 단어 수: {len(wordCounts[minThreshold < wordCounts.counts].index)}\")\n",
    "wordCounts = wordCounts.drop(wordCounts[minThreshold < wordCounts.counts].index)\n",
    "wordCounts.describe()"
   ]
  },
  {
   "cell_type": "code",
   "execution_count": 19,
   "metadata": {},
   "outputs": [
    {
     "data": {
      "image/png": "[encoded data removed]",
      "text/plain": [
       "<Figure size 432x288 with 1 Axes>"
      ]
     },
     "metadata": {
      "needs_background": "light"
     },
     "output_type": "display_data"
    }
   ],
   "source": [
    "plt.hist(wordCounts, bins=10)\n",
    "plt.show()"
   ]
  },
  {
   "cell_type": "markdown",
   "metadata": {},
   "source": [
    "단어 사전을 list에 저장해둔다."
   ]
  },
  {
   "cell_type": "code",
   "execution_count": 20,
   "metadata": {},
   "outputs": [
    {
     "name": "stdout",
     "output_type": "stream",
     "text": [
      "number of words: 503\n",
      "['abbey', 'abv', 'addition', 'additions', 'aftertaste', 'age', 'alcohol', 'ales', 'alt', 'amarillo', 'amber', 'america', 'american-style', 'amounts', 'ancient', 'anniversary', 'appearance', 'apple', 'aroma', 'aromas', 'aromatic', 'assertive', 'authentic', 'autumn', 'award', 'award-winning', 'awards', 'backbone', 'balance', 'balanced', 'bamberg', 'banana', 'barley', 'barleywine', 'barrel', 'barrels', 'base', 'bastard', 'batch', 'bavaria', 'bavarian', 'beans', 'beautiful', 'beers', 'belgian', 'belgian-style', 'belgium', 'berries', 'beverage', 'big', 'bit', 'bite', 'bitter', 'bitterness', 'bittersweet', 'black', 'blend', 'blonde', 'blue', 'bock', 'body', 'boil', 'bold', 'bottle', 'bottles', 'bouquet', 'bourbon', 'brand', 'bread', 'bready', 'brettanomyces', 'brew', 'brewer', 'breweries', 'brewers', 'brewery', 'brewhouse', 'brewing', 'brewmaster', 'brews', 'bright', 'brilliant', 'british', 'bronze', 'brooklyn', 'brother', 'brown', 'california', 'calories', 'canadian', 'candy', 'caramel', 'carbonation', 'cascade', 'casks', 'category', 'celebration', 'cellar', 'centennial', 'century', 'character', 'characteristics', 'cherries', 'cherry', 'chinook', 'choice', 'christmas', 'cinnamon', 'citra', 'citrus', 'citrusy', 'city', 'classic', 'clean', 'clear', 'cloudy', 'clove', 'coast', 'coastal', 'cocoa', 'coffee', 'cold', 'collaboration', 'color', 'colour', 'columbus', 'combination', 'combines', 'company', 'complex', 'complexity', 'content', 'cool', 'copper', 'coriander', 'corn', 'country', 'craft', 'cream', 'creamy', 'crisp', 'crystal', 'cup', 'czech', 'day', 'days', 'deep', 'degrees', 'delicate', 'delicious', 'delightful', 'dense', 'depth', 'distinct', 'distinctive', 'double', 'draft', 'drink', 'drinkability', 'drinkable', 'drinkers', 'drinking', 'dry', 'dry-hopped', 'dubbel', 'duck-rabbit', 'dunkel', 'early', 'earthy', 'east', 'easy', 'edition', 'elegant', 'england', 'english', 'english-style', 'esb', 'espresso', 'esters', 'european', 'experience', 'extra', 'faint', 'fall', 'family', 'famous', 'farm', 'farmhouse', 'favorite', 'feel', 'fermentation', 'festival', 'fine', 'finest', 'finish', 'finishes', 'firm', 'flagship', 'flanders', 'flavorful', 'flavors', 'flavour', 'flavours', 'floral', 'food', 'france', 'free', 'french', 'fresh', 'friends', 'fruit', 'fruitiness', 'fruits', 'fruity', 'full-bodied', 'full-flavored', 'fuller', 'gabf', 'generous', 'gentle', 'german', 'german-style', 'germany', 'ginger', 'glass', 'gold', 'golden', 'goldings', 'good', 'grain', 'grains', 'grapefruit', 'gravity', 'great', 'green', 'hallertau', 'hand', 'harvest', 'head', 'hearty', 'heat', 'heavy', 'hefeweizen', 'helles', 'herbal', 'heritage', 'high', 'highest', 'hint', 'hints', 'historic', 'history', 'holiday', 'homage', 'honey', 'honor', 'hopping', 'hoppy', 'hot', 'house', 'hue', 'ibus', 'ice', 'ideal', 'imperial', 'india', 'ingredients', 'intense', 'international', 'interpretation', 'ipa', 'irish', 'january', 'kent', 'kettle', 'kriek', 'label', 'lagers', 'lambic', 'large', 'late', 'layers', 'legendary', 'lemon', 'liberty', 'life', 'light', 'lighter', 'limited', 'liquid', 'local', 'london', 'long', 'lots', 'low', 'mahogany', 'malted', 'maltiness', 'malty', 'man', 'maple', 'maris', 'mash', 'massive', 'medal', 'medium', 'medium-bodied', 'mellow', 'michigan', 'mild', 'milk', 'minute', 'modern', 'molasses', 'monks', 'month', 'months', 'mouth', 'mouthfeel', 'munich', 'natural', 'nice', 'noble', 'north', 'northern', 'northwest', 'nose', 'note', 'notes', 'november', 'nut', 'nutty', 'oak', 'oatmeal', 'oats', 'oktoberfest', 'orange', 'organic', 'original', 'pacific', 'pacman', 'palate', 'pale', 'peel', 'peppers', 'perfect', 'perle', 'pils', 'pilsner', 'pine', 'piney', 'place', 'pleasant', 'popular', 'porter', 'portion', 'pounds', 'premium', 'presence', 'process', 'profile', 'pronounced', 'proprietary', 'pumpkin', 'pure', 'quality', 'range', 'raspberries', 'raspberry', 'real', 'recipe', 'red', 'refreshing', 'region', 'release', 'reminiscent', 'result', 'revolution', 'rice', 'richness', 'roast', 'roasted', 'roasty', 'robust', 'rogue', 'round', 'ruby', 'rye', 'saaz', 'saison', 'schlenkerla', 'scotch', 'scotland', 'scottish', 'season', 'seasonal', 'select', 'series', 'session', 'signature', 'silky', 'silver', 'simcoe', 'single', 'sip', 'slight', 'small', 'smoke', 'smoked', 'smoky', 'smooth', 'smoothness', 'soft', 'sour', 'southern', 'special', 'specialty', 'spice', 'spices', 'spiciness', 'spicy', 'spirit', 'spring', 'st.', 'state', 'states', 'stone', 'stout', 'stouts', 'strain', 'strength', 'strong', 'styles', 'subtle', 'sugar', 'summer', 'sun', 'sweet', 'sweetness', 'syrup', 'tan', 'tanks', 'tart', 'taste', 'temperature', 'tettnang', 'thing', 'time', 'toasted', 'toasty', 'today', 'toffee', 'tones', 'top-fermented', 'touch', 'tradition', 'traditional', 'traditions', 'trappist', 'tribute', 'triple', 'tropical', 'true', 'twist', 'two-row', 'types', 'typical', 'ufo', 'undertones', 'unfiltered', 'unique', 'vanilla', 'varies', 'varieties', 'variety', 'velvety', 'version', 'vienna', 'volume', 'warm', 'warmer', 'water', 'wax', 'weather', 'weeks', 'weizen', 'well-balanced', 'west', 'wheat', 'whiskey', 'white', 'wild', 'willamette', 'wine', 'winner', 'winter', 'wisconsin', 'wonderful', 'wood', 'year', 'years', 'yeast', 'young']\n"
     ]
    }
   ],
   "source": [
    "# TODO: 사전에 있는 노이즈를 주관적인 판단하에 수동으로 제거\n",
    "wordLexicon = wordCounts.index.to_list()\n",
    "wordLexicon.sort()\n",
    "print(f\"number of words: {len(wordLexicon)}\")\n",
    "print(wordLexicon)"
   ]
  },
  {
   "cell_type": "code",
   "execution_count": 21,
   "metadata": {},
   "outputs": [],
   "source": [
    "# TODO: 모든 맥주에 대해서 맥주가 가진 사전 단어의 인덱스 리스트를 형성"
   ]
  },
  {
   "cell_type": "markdown",
   "metadata": {},
   "source": [
    "맥주가 가진 단어들은 유사한 단어라고 생각하고, Autoencoder 구조를 만들어서 학습시킨다."
   ]
  },
  {
   "cell_type": "code",
   "execution_count": 22,
   "metadata": {},
   "outputs": [],
   "source": [
    "# TODO: 맥주가 가진 단어들의 인덱스의 크기 2짜리 순서쌍을 생성한다."
   ]
  },
  {
   "cell_type": "code",
   "execution_count": null,
   "metadata": {},
   "outputs": [],
   "source": [
    "# TODO: Autoencoder 구조 생성"
   ]
  },
  {
   "cell_type": "code",
   "execution_count": null,
   "metadata": {},
   "outputs": [],
   "source": [
    "# TODO: 학습"
   ]
  },
  {
   "cell_type": "code",
   "execution_count": null,
   "metadata": {},
   "outputs": [],
   "source": [
    "# TODO: Embedding matrix를 통해 모든 단어들의 임베딩 벡터를 구함"
   ]
  },
  {
   "cell_type": "code",
   "execution_count": null,
   "metadata": {},
   "outputs": [],
   "source": [
    "# TODO: 맥주의 임베딩 벡터를 구함, 맥주가 가진 단어 임베딩 벡터의 평균을 맥주의 임베딩 벡터로 본다."
   ]
  },
  {
   "cell_type": "code",
   "execution_count": null,
   "metadata": {},
   "outputs": [],
   "source": [
    "# TODO: 맥주의 임베딩 벡터 저장"
   ]
  }
 ],
 "metadata": {
  "interpreter": {
   "hash": "26c4ab516554bc256cdfa78737bf92fc9060afab0605f45fe3ff7e696f68312b"
  },
  "kernelspec": {
   "display_name": "Python 3.9.7 ('RecommenderSystem')",
   "language": "python",
   "name": "python3"
  },
  "language_info": {
   "codemirror_mode": {
    "name": "ipython",
    "version": 3
   },
   "file_extension": ".py",
   "mimetype": "text/x-python",
   "name": "python",
   "nbconvert_exporter": "python",
   "pygments_lexer": "ipython3",
   "version": "3.9.7"
  },
  "orig_nbformat": 4
 },
 "nbformat": 4,
 "nbformat_minor": 2
}
