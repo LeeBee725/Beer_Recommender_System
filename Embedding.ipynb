{
 "cells": [
  {
   "cell_type": "markdown",
   "metadata": {},
   "source": [
    "# Embedding\n",
    "\n",
    "##\n",
    "\n",
    "### 2022-1 RecommenderSystem Project\n",
    "\n",
    "#### Enviroment\n",
    "\n",
    "- python ->\t3.9.7\n",
    "- pandas ->\t1.4.1\n",
    "- numpy ->\t1.21.5\n",
    "- nltk ->\t3.7\n",
    "\n",
    "#### Data\n",
    "\n",
    "- beer_reviews.csv (<https://www.kaggle.com/datasets/rdoume/beerreviews>)\n",
    "\n",
    "#### Author\n",
    "\n",
    "- Lee Junhee\n",
    "\n",
    "#### Reference\n",
    "\n",
    "- <https://velog.io/@rsj9987/%EB%A6%AC%EB%B7%B0-%EB%B6%84%EC%84%9D%EC%9D%84-%ED%86%B5%ED%95%9C-%EB%A7%A5%EC%A3%BC-%EC%B6%94%EC%B2%9C-%EC%95%8C%EA%B3%A0%EB%A6%AC%EC%A6%98#2-5-%ED%86%A0%ED%81%B0-%EA%B0%80%EC%A4%91%EC%B9%98-%EB%8D%B0%EC%9D%B4%ED%84%B0-%EC%83%9D%EC%84%B1>\n",
    "\n",
    "---"
   ]
  },
  {
   "cell_type": "markdown",
   "metadata": {},
   "source": [
    "#### 데이터 살피기\n",
    "\n",
    "필요한 패키지를 추가한다."
   ]
  },
  {
   "cell_type": "code",
   "execution_count": 2,
   "metadata": {},
   "outputs": [],
   "source": [
    "import pandas as pd\n",
    "import numpy as np\n",
    "\n",
    "import matplotlib.pyplot as plt\n",
    "\n",
    "# 자연어 처리 라이브러리 토큰화를 위해 사용\n",
    "import nltk\n",
    "# nltk.tokenize.word_tokenize 함수를 사용하기 위해 딱 한번 주석을 해제하여 실행해야한다.\n",
    "# nltk.download('punkt')\n",
    "\n",
    "# 불용어를 위해 쓰이는 라이브러리\n",
    "import requests\n",
    "import re"
   ]
  },
  {
   "cell_type": "markdown",
   "metadata": {},
   "source": [
    "CSV 파일에서 데이터를 읽어 온다."
   ]
  },
  {
   "cell_type": "code",
   "execution_count": 3,
   "metadata": {},
   "outputs": [],
   "source": [
    "beerReviews = pd.read_csv(\"./data/merged_data.csv\")"
   ]
  },
  {
   "cell_type": "markdown",
   "metadata": {},
   "source": [
    "상위 5개의 데이터를 살펴본다."
   ]
  },
  {
   "cell_type": "code",
   "execution_count": 4,
   "metadata": {},
   "outputs": [
    {
     "data": {
      "text/html": [
       "<div>\n",
       "<style scoped>\n",
       "    .dataframe tbody tr th:only-of-type {\n",
       "        vertical-align: middle;\n",
       "    }\n",
       "\n",
       "    .dataframe tbody tr th {\n",
       "        vertical-align: top;\n",
       "    }\n",
       "\n",
       "    .dataframe thead th {\n",
       "        text-align: right;\n",
       "    }\n",
       "</style>\n",
       "<table border=\"1\" class=\"dataframe\">\n",
       "  <thead>\n",
       "    <tr style=\"text-align: right;\">\n",
       "      <th></th>\n",
       "      <th>Unnamed: 0</th>\n",
       "      <th>brewery_id</th>\n",
       "      <th>brewery_name</th>\n",
       "      <th>review_time</th>\n",
       "      <th>review_overall</th>\n",
       "      <th>review_aroma</th>\n",
       "      <th>review_appearance</th>\n",
       "      <th>review_profilename</th>\n",
       "      <th>beer_style</th>\n",
       "      <th>review_palate</th>\n",
       "      <th>review_taste</th>\n",
       "      <th>beer_name</th>\n",
       "      <th>beer_abv</th>\n",
       "      <th>beer_beerid</th>\n",
       "      <th>Description</th>\n",
       "    </tr>\n",
       "  </thead>\n",
       "  <tbody>\n",
       "    <tr>\n",
       "      <th>0</th>\n",
       "      <td>10</td>\n",
       "      <td>163</td>\n",
       "      <td>Amstel Brouwerij B. V.</td>\n",
       "      <td>1010963392</td>\n",
       "      <td>3.0</td>\n",
       "      <td>2.0</td>\n",
       "      <td>3.0</td>\n",
       "      <td>fodeeoz</td>\n",
       "      <td>Light Lager</td>\n",
       "      <td>2.5</td>\n",
       "      <td>2.5</td>\n",
       "      <td>Amstel Light</td>\n",
       "      <td>3.5</td>\n",
       "      <td>436</td>\n",
       "      <td>ABV in the USA is 4.1%\\t</td>\n",
       "    </tr>\n",
       "    <tr>\n",
       "      <th>1</th>\n",
       "      <td>18</td>\n",
       "      <td>163</td>\n",
       "      <td>Amstel Brouwerij B. V.</td>\n",
       "      <td>1010861086</td>\n",
       "      <td>2.5</td>\n",
       "      <td>3.0</td>\n",
       "      <td>3.0</td>\n",
       "      <td>jdhilt</td>\n",
       "      <td>Light Lager</td>\n",
       "      <td>2.0</td>\n",
       "      <td>2.0</td>\n",
       "      <td>Amstel Light</td>\n",
       "      <td>3.5</td>\n",
       "      <td>436</td>\n",
       "      <td>ABV in the USA is 4.1%\\t</td>\n",
       "    </tr>\n",
       "    <tr>\n",
       "      <th>2</th>\n",
       "      <td>30</td>\n",
       "      <td>163</td>\n",
       "      <td>Amstel Brouwerij B. V.</td>\n",
       "      <td>1002109880</td>\n",
       "      <td>3.0</td>\n",
       "      <td>2.0</td>\n",
       "      <td>2.0</td>\n",
       "      <td>xXTequila</td>\n",
       "      <td>Light Lager</td>\n",
       "      <td>2.0</td>\n",
       "      <td>3.0</td>\n",
       "      <td>Amstel Light</td>\n",
       "      <td>3.5</td>\n",
       "      <td>436</td>\n",
       "      <td>ABV in the USA is 4.1%\\t</td>\n",
       "    </tr>\n",
       "    <tr>\n",
       "      <th>3</th>\n",
       "      <td>40</td>\n",
       "      <td>163</td>\n",
       "      <td>Amstel Brouwerij B. V.</td>\n",
       "      <td>988202869</td>\n",
       "      <td>3.0</td>\n",
       "      <td>3.0</td>\n",
       "      <td>3.0</td>\n",
       "      <td>Brent</td>\n",
       "      <td>Light Lager</td>\n",
       "      <td>2.0</td>\n",
       "      <td>2.0</td>\n",
       "      <td>Amstel Light</td>\n",
       "      <td>3.5</td>\n",
       "      <td>436</td>\n",
       "      <td>ABV in the USA is 4.1%\\t</td>\n",
       "    </tr>\n",
       "    <tr>\n",
       "      <th>4</th>\n",
       "      <td>750</td>\n",
       "      <td>163</td>\n",
       "      <td>Amstel Brouwerij B. V.</td>\n",
       "      <td>1264904623</td>\n",
       "      <td>3.5</td>\n",
       "      <td>2.5</td>\n",
       "      <td>3.5</td>\n",
       "      <td>brownbeer</td>\n",
       "      <td>Light Lager</td>\n",
       "      <td>3.0</td>\n",
       "      <td>3.0</td>\n",
       "      <td>Amstel Light</td>\n",
       "      <td>3.5</td>\n",
       "      <td>436</td>\n",
       "      <td>ABV in the USA is 4.1%\\t</td>\n",
       "    </tr>\n",
       "  </tbody>\n",
       "</table>\n",
       "</div>"
      ],
      "text/plain": [
       "   Unnamed: 0  brewery_id            brewery_name  review_time  \\\n",
       "0          10         163  Amstel Brouwerij B. V.   1010963392   \n",
       "1          18         163  Amstel Brouwerij B. V.   1010861086   \n",
       "2          30         163  Amstel Brouwerij B. V.   1002109880   \n",
       "3          40         163  Amstel Brouwerij B. V.    988202869   \n",
       "4         750         163  Amstel Brouwerij B. V.   1264904623   \n",
       "\n",
       "   review_overall  review_aroma  review_appearance review_profilename  \\\n",
       "0             3.0           2.0                3.0            fodeeoz   \n",
       "1             2.5           3.0                3.0             jdhilt   \n",
       "2             3.0           2.0                2.0          xXTequila   \n",
       "3             3.0           3.0                3.0              Brent   \n",
       "4             3.5           2.5                3.5          brownbeer   \n",
       "\n",
       "    beer_style  review_palate  review_taste     beer_name  beer_abv  \\\n",
       "0  Light Lager            2.5           2.5  Amstel Light       3.5   \n",
       "1  Light Lager            2.0           2.0  Amstel Light       3.5   \n",
       "2  Light Lager            2.0           3.0  Amstel Light       3.5   \n",
       "3  Light Lager            2.0           2.0  Amstel Light       3.5   \n",
       "4  Light Lager            3.0           3.0  Amstel Light       3.5   \n",
       "\n",
       "   beer_beerid               Description  \n",
       "0          436  ABV in the USA is 4.1%\\t  \n",
       "1          436  ABV in the USA is 4.1%\\t  \n",
       "2          436  ABV in the USA is 4.1%\\t  \n",
       "3          436  ABV in the USA is 4.1%\\t  \n",
       "4          436  ABV in the USA is 4.1%\\t  "
      ]
     },
     "execution_count": 4,
     "metadata": {},
     "output_type": "execute_result"
    }
   ],
   "source": [
    "beerReviews.head()"
   ]
  },
  {
   "cell_type": "markdown",
   "metadata": {},
   "source": [
    "하위 5의 데이터를 살펴본다."
   ]
  },
  {
   "cell_type": "code",
   "execution_count": 5,
   "metadata": {},
   "outputs": [
    {
     "data": {
      "text/html": [
       "<div>\n",
       "<style scoped>\n",
       "    .dataframe tbody tr th:only-of-type {\n",
       "        vertical-align: middle;\n",
       "    }\n",
       "\n",
       "    .dataframe tbody tr th {\n",
       "        vertical-align: top;\n",
       "    }\n",
       "\n",
       "    .dataframe thead th {\n",
       "        text-align: right;\n",
       "    }\n",
       "</style>\n",
       "<table border=\"1\" class=\"dataframe\">\n",
       "  <thead>\n",
       "    <tr style=\"text-align: right;\">\n",
       "      <th></th>\n",
       "      <th>Unnamed: 0</th>\n",
       "      <th>brewery_id</th>\n",
       "      <th>brewery_name</th>\n",
       "      <th>review_time</th>\n",
       "      <th>review_overall</th>\n",
       "      <th>review_aroma</th>\n",
       "      <th>review_appearance</th>\n",
       "      <th>review_profilename</th>\n",
       "      <th>beer_style</th>\n",
       "      <th>review_palate</th>\n",
       "      <th>review_taste</th>\n",
       "      <th>beer_name</th>\n",
       "      <th>beer_abv</th>\n",
       "      <th>beer_beerid</th>\n",
       "      <th>Description</th>\n",
       "    </tr>\n",
       "  </thead>\n",
       "  <tbody>\n",
       "    <tr>\n",
       "      <th>452949</th>\n",
       "      <td>1683163</td>\n",
       "      <td>14359</td>\n",
       "      <td>The Defiant Brewing Company</td>\n",
       "      <td>1175746381</td>\n",
       "      <td>3.5</td>\n",
       "      <td>4.0</td>\n",
       "      <td>4.0</td>\n",
       "      <td>maddogruss</td>\n",
       "      <td>American IPA</td>\n",
       "      <td>4.0</td>\n",
       "      <td>4.0</td>\n",
       "      <td>India Pale Ale</td>\n",
       "      <td>6.2</td>\n",
       "      <td>35185</td>\n",
       "      <td>This ale is traditionally highly hopped and ro...</td>\n",
       "    </tr>\n",
       "    <tr>\n",
       "      <th>452950</th>\n",
       "      <td>1683164</td>\n",
       "      <td>14359</td>\n",
       "      <td>The Defiant Brewing Company</td>\n",
       "      <td>1171081089</td>\n",
       "      <td>4.0</td>\n",
       "      <td>4.5</td>\n",
       "      <td>4.0</td>\n",
       "      <td>dherling</td>\n",
       "      <td>American IPA</td>\n",
       "      <td>4.0</td>\n",
       "      <td>4.5</td>\n",
       "      <td>India Pale Ale</td>\n",
       "      <td>6.2</td>\n",
       "      <td>35185</td>\n",
       "      <td>Green Man India Pale Ale is delectably hoppy w...</td>\n",
       "    </tr>\n",
       "    <tr>\n",
       "      <th>452951</th>\n",
       "      <td>1683165</td>\n",
       "      <td>14359</td>\n",
       "      <td>The Defiant Brewing Company</td>\n",
       "      <td>1171081089</td>\n",
       "      <td>4.0</td>\n",
       "      <td>4.5</td>\n",
       "      <td>4.0</td>\n",
       "      <td>dherling</td>\n",
       "      <td>American IPA</td>\n",
       "      <td>4.0</td>\n",
       "      <td>4.5</td>\n",
       "      <td>India Pale Ale</td>\n",
       "      <td>6.2</td>\n",
       "      <td>35185</td>\n",
       "      <td>This ale is traditionally highly hopped and ro...</td>\n",
       "    </tr>\n",
       "    <tr>\n",
       "      <th>452952</th>\n",
       "      <td>1683166</td>\n",
       "      <td>14359</td>\n",
       "      <td>The Defiant Brewing Company</td>\n",
       "      <td>1170979828</td>\n",
       "      <td>4.0</td>\n",
       "      <td>4.0</td>\n",
       "      <td>4.5</td>\n",
       "      <td>cbl2</td>\n",
       "      <td>American IPA</td>\n",
       "      <td>4.0</td>\n",
       "      <td>4.0</td>\n",
       "      <td>India Pale Ale</td>\n",
       "      <td>6.2</td>\n",
       "      <td>35185</td>\n",
       "      <td>Green Man India Pale Ale is delectably hoppy w...</td>\n",
       "    </tr>\n",
       "    <tr>\n",
       "      <th>452953</th>\n",
       "      <td>1683167</td>\n",
       "      <td>14359</td>\n",
       "      <td>The Defiant Brewing Company</td>\n",
       "      <td>1170979828</td>\n",
       "      <td>4.0</td>\n",
       "      <td>4.0</td>\n",
       "      <td>4.5</td>\n",
       "      <td>cbl2</td>\n",
       "      <td>American IPA</td>\n",
       "      <td>4.0</td>\n",
       "      <td>4.0</td>\n",
       "      <td>India Pale Ale</td>\n",
       "      <td>6.2</td>\n",
       "      <td>35185</td>\n",
       "      <td>This ale is traditionally highly hopped and ro...</td>\n",
       "    </tr>\n",
       "  </tbody>\n",
       "</table>\n",
       "</div>"
      ],
      "text/plain": [
       "        Unnamed: 0  brewery_id                 brewery_name  review_time  \\\n",
       "452949     1683163       14359  The Defiant Brewing Company   1175746381   \n",
       "452950     1683164       14359  The Defiant Brewing Company   1171081089   \n",
       "452951     1683165       14359  The Defiant Brewing Company   1171081089   \n",
       "452952     1683166       14359  The Defiant Brewing Company   1170979828   \n",
       "452953     1683167       14359  The Defiant Brewing Company   1170979828   \n",
       "\n",
       "        review_overall  review_aroma  review_appearance review_profilename  \\\n",
       "452949             3.5           4.0                4.0         maddogruss   \n",
       "452950             4.0           4.5                4.0           dherling   \n",
       "452951             4.0           4.5                4.0           dherling   \n",
       "452952             4.0           4.0                4.5               cbl2   \n",
       "452953             4.0           4.0                4.5               cbl2   \n",
       "\n",
       "          beer_style  review_palate  review_taste       beer_name  beer_abv  \\\n",
       "452949  American IPA            4.0           4.0  India Pale Ale       6.2   \n",
       "452950  American IPA            4.0           4.5  India Pale Ale       6.2   \n",
       "452951  American IPA            4.0           4.5  India Pale Ale       6.2   \n",
       "452952  American IPA            4.0           4.0  India Pale Ale       6.2   \n",
       "452953  American IPA            4.0           4.0  India Pale Ale       6.2   \n",
       "\n",
       "        beer_beerid                                        Description  \n",
       "452949        35185  This ale is traditionally highly hopped and ro...  \n",
       "452950        35185  Green Man India Pale Ale is delectably hoppy w...  \n",
       "452951        35185  This ale is traditionally highly hopped and ro...  \n",
       "452952        35185  Green Man India Pale Ale is delectably hoppy w...  \n",
       "452953        35185  This ale is traditionally highly hopped and ro...  "
      ]
     },
     "execution_count": 5,
     "metadata": {},
     "output_type": "execute_result"
    }
   ],
   "source": [
    "beerReviews.tail()"
   ]
  },
  {
   "cell_type": "markdown",
   "metadata": {},
   "source": [
    "#### Embedding 과정\n",
    "\n",
    "각 맥주들을 표현한 의미있는 Embedding을 위해 Description 열을 이용한다.\n",
    "\n",
    "Description은 맥주의 설명을 적은 문장이므로, 각 문장의 단어들을 Embedding하고 결과를 이용하여 맥주를 표현하는 Embedding vector를 정의한다.\n",
    "\n",
    "Description을 사용하기 전에 임의 데이터의 Description 값을 출력해본다."
   ]
  },
  {
   "cell_type": "code",
   "execution_count": 6,
   "metadata": {},
   "outputs": [
    {
     "name": "stdout",
     "output_type": "stream",
     "text": [
      "idx: 0\n",
      "beer_name: Amstel Light\n",
      "description: ABV in the USA is 4.1%\t\n",
      "\n",
      "idx: 452952\n",
      "beer_name: India Pale Ale\n",
      "description: Green Man India Pale Ale is delectably hoppy with a properly balanced body. Generous hop additions give it a wonderful bitterness and pleasant floral nose, while our combination of traditional British malts creates a rich, satisfying flavor and alluring copper color. This authentic English-style IPA is our flagship ale.\t\n",
      "\n"
     ]
    }
   ],
   "source": [
    "def print_beer_with_description_by_id(dataIdx):\n",
    "\tglobal beerReviews\n",
    "\tprint(f\"idx: {dataIdx}\\nbeer_name: { beerReviews['beer_name'].iloc[dataIdx] }\\ndescription: {beerReviews['Description'].iloc[dataIdx]}\\n\")\n",
    "\n",
    "print_beer_with_description_by_id(0)\n",
    "print_beer_with_description_by_id(452952)"
   ]
  },
  {
   "cell_type": "markdown",
   "metadata": {},
   "source": [
    "두개의 데이터 중 상위의 데이터(Amstel Light)의 경우는 Description에서 맥주의 특징을 잘 설명하지 않고 있다. 아래의 데이터(India Pale Ale)는 Description에 맥주에 대한 설명히 자세하게 적혀있다.\n",
    "\n",
    "위의 데이터의 경우, Embedding vector를 얻는 것이 힘들어 보이고 아래 데이터의 경우, 적절한 임베딩 벡터를 얻을 수 있을거라 예상한다.\n",
    "\n",
    "임베딩을 위해서 각 문장을 수치화 해야한다. 문장을 수치화 하기 위한 방법으로 **Bag of Words 모델**을 사용하여 단어의 빈도수에 대한 집합으로 나타낸다. nltk 패키지를 사용하였다.\n",
    "\n",
    "위의 과정을 위해 일단 Description을 따로 뽑아낸다."
   ]
  },
  {
   "cell_type": "code",
   "execution_count": 7,
   "metadata": {},
   "outputs": [
    {
     "data": {
      "text/plain": [
       "0                                  ABV in the USA is 4.1%\\t\n",
       "1                                  ABV in the USA is 4.1%\\t\n",
       "2                                  ABV in the USA is 4.1%\\t\n",
       "3                                  ABV in the USA is 4.1%\\t\n",
       "4                                  ABV in the USA is 4.1%\\t\n",
       "                                ...                        \n",
       "452949    This ale is traditionally highly hopped and ro...\n",
       "452950    Green Man India Pale Ale is delectably hoppy w...\n",
       "452951    This ale is traditionally highly hopped and ro...\n",
       "452952    Green Man India Pale Ale is delectably hoppy w...\n",
       "452953    This ale is traditionally highly hopped and ro...\n",
       "Name: Description, Length: 452954, dtype: object"
      ]
     },
     "execution_count": 7,
     "metadata": {},
     "output_type": "execute_result"
    }
   ],
   "source": [
    "descriptions = beerReviews[\"Description\"]\n",
    "descriptions"
   ]
  },
  {
   "cell_type": "markdown",
   "metadata": {},
   "source": [
    "Descriptions는 맥주에 대한 사용자들의 평가 데이터에서 가져온 데이터 이기 때문에 중복이 되어 나타난다.\n",
    "\n",
    "맥주에 대한 Description을 Dataframe로 만든다."
   ]
  },
  {
   "cell_type": "code",
   "execution_count": 8,
   "metadata": {},
   "outputs": [
    {
     "name": "stdout",
     "output_type": "stream",
     "text": [
      "                                      beer_descriptions\n",
      "0                              ABV in the USA is 4.1%\\t\n",
      "1     'Oak Aged Imperial Porter Brewed with Chocolat...\n",
      "2                              Formerly In-Heat Wheat\\t\n",
      "3     An authentic example of a Bavarian Hefeweizen....\n",
      "4     Our Hefeweizen is a light, unfiltered wheat be...\n",
      "...                                                 ...\n",
      "1398  Foster is our Black Wheat IPA, brewed with a l...\n",
      "1399  Batch 2: Barrel aged for 18 months in hand sel...\n",
      "1400  Ephraim (1823-1913) was our great-great grandf...\n",
      "1401  James was our Uncle (Edward James Hill Jr.). H...\n",
      "1402  Fear and Trembling is Hill Farmstead’s first c...\n",
      "\n",
      "[1403 rows x 1 columns]\n"
     ]
    }
   ],
   "source": [
    "beerDescriptions = pd.DataFrame(descriptions.unique(), columns=[\"beer_descriptions\"])\n",
    "print(beerDescriptions)"
   ]
  },
  {
   "cell_type": "markdown",
   "metadata": {},
   "source": [
    "각 Description을 단어로 토큰화 한다."
   ]
  },
  {
   "cell_type": "code",
   "execution_count": 9,
   "metadata": {},
   "outputs": [
    {
     "name": "stdout",
     "output_type": "stream",
     "text": [
      "[list(['ABV', 'in', 'the', 'USA', 'is', '4.1', '%'])\n",
      " list([\"'Oak\", 'Aged', 'Imperial', 'Porter', 'Brewed', 'with', \"Chocolate'Caldera\", 'Kettle', 'SeriesJune', '2011', '-', 'first', 'release', 'in', 'waxed', '22', 'oz', '.', 'bottles'])\n",
      " list(['Formerly', 'In-Heat', 'Wheat'])]\n"
     ]
    }
   ],
   "source": [
    "tokenizedDescriptions = beerDescriptions[\"beer_descriptions\"].apply(nltk.tokenize.word_tokenize).to_numpy()\n",
    "# 3개만 출력\n",
    "print(tokenizedDescriptions[:3])"
   ]
  },
  {
   "cell_type": "markdown",
   "metadata": {},
   "source": [
    "토큰화된 단어들을 하나의 리스트로 만든다. 그리고 중복된 단어들을 지운 단어의 집합을 만든다. 모든 단어들은 소문자화 한다."
   ]
  },
  {
   "cell_type": "code",
   "execution_count": 10,
   "metadata": {},
   "outputs": [
    {
     "name": "stdout",
     "output_type": "stream",
     "text": [
      "Number of words: 87896\n",
      "Number of unique words: 9674\n"
     ]
    }
   ],
   "source": [
    "allWords = np.concatenate(tokenizedDescriptions)\n",
    "lower_case = lambda word: str.lower(word)\n",
    "allWords = [lower_case(word) for word in allWords]\n",
    "words = set(allWords)\n",
    "words = list(words)\n",
    "print(f\"Number of words: {len(allWords)}\")\n",
    "print(f\"Number of unique words: {len(words)}\")\n"
   ]
  },
  {
   "cell_type": "markdown",
   "metadata": {},
   "source": [
    "특징에 중심을 두어 품사를 선택했다. 형용사만을 포함하고 나머지는 제거하였다."
   ]
  },
  {
   "cell_type": "code",
   "execution_count": 11,
   "metadata": {},
   "outputs": [],
   "source": [
    "featureAllWords = []\n",
    "for word in nltk.tag.pos_tag(allWords):\n",
    "    if word[1] in ['JJ', 'JJR', 'JJS', ]: # 고유명사를 제외한 명사, 형용사만을 포함\n",
    "        featureAllWords.append(word[0])\n",
    "\n",
    "words = set(featureAllWords)\n",
    "words = list(words)"
   ]
  },
  {
   "cell_type": "markdown",
   "metadata": {},
   "source": [
    "고유한 한 가지 단어가 나온 빈도수를 값으로 갖는 DataFrame를 만든다."
   ]
  },
  {
   "cell_type": "code",
   "execution_count": 12,
   "metadata": {},
   "outputs": [
    {
     "data": {
      "text/html": [
       "<div>\n",
       "<style scoped>\n",
       "    .dataframe tbody tr th:only-of-type {\n",
       "        vertical-align: middle;\n",
       "    }\n",
       "\n",
       "    .dataframe tbody tr th {\n",
       "        vertical-align: top;\n",
       "    }\n",
       "\n",
       "    .dataframe thead th {\n",
       "        text-align: right;\n",
       "    }\n",
       "</style>\n",
       "<table border=\"1\" class=\"dataframe\">\n",
       "  <thead>\n",
       "    <tr style=\"text-align: right;\">\n",
       "      <th></th>\n",
       "      <th>counts</th>\n",
       "    </tr>\n",
       "  </thead>\n",
       "  <tbody>\n",
       "    <tr>\n",
       "      <th>//www.littlekingsbeer.com/main.html</th>\n",
       "      <td>1</td>\n",
       "    </tr>\n",
       "    <tr>\n",
       "      <th>driven</th>\n",
       "      <td>1</td>\n",
       "    </tr>\n",
       "    <tr>\n",
       "      <th>cara-vienne</th>\n",
       "      <td>1</td>\n",
       "    </tr>\n",
       "    <tr>\n",
       "      <th>watered-down</th>\n",
       "      <td>1</td>\n",
       "    </tr>\n",
       "    <tr>\n",
       "      <th>flask-shaped</th>\n",
       "      <td>1</td>\n",
       "    </tr>\n",
       "    <tr>\n",
       "      <th>...</th>\n",
       "      <td>...</td>\n",
       "    </tr>\n",
       "    <tr>\n",
       "      <th>ommegang</th>\n",
       "      <td>1</td>\n",
       "    </tr>\n",
       "    <tr>\n",
       "      <th>smoky</th>\n",
       "      <td>6</td>\n",
       "    </tr>\n",
       "    <tr>\n",
       "      <th>russet-brown</th>\n",
       "      <td>1</td>\n",
       "    </tr>\n",
       "    <tr>\n",
       "      <th>dreamlike</th>\n",
       "      <td>1</td>\n",
       "    </tr>\n",
       "    <tr>\n",
       "      <th>tasty</th>\n",
       "      <td>10</td>\n",
       "    </tr>\n",
       "  </tbody>\n",
       "</table>\n",
       "<p>2442 rows × 1 columns</p>\n",
       "</div>"
      ],
      "text/plain": [
       "                                     counts\n",
       "//www.littlekingsbeer.com/main.html       1\n",
       "driven                                    1\n",
       "cara-vienne                               1\n",
       "watered-down                              1\n",
       "flask-shaped                              1\n",
       "...                                     ...\n",
       "ommegang                                  1\n",
       "smoky                                     6\n",
       "russet-brown                              1\n",
       "dreamlike                                 1\n",
       "tasty                                    10\n",
       "\n",
       "[2442 rows x 1 columns]"
      ]
     },
     "execution_count": 12,
     "metadata": {},
     "output_type": "execute_result"
    }
   ],
   "source": [
    "wordCounts = dict.fromkeys(words, 0)\n",
    "for word in featureAllWords:\n",
    "\twordCounts[word] += 1\n",
    "\n",
    "wordCounts = pd.DataFrame.from_dict(wordCounts, orient='index', columns=[\"counts\"])\n",
    "wordCounts"
   ]
  },
  {
   "cell_type": "markdown",
   "metadata": {},
   "source": [
    "영어 불용어를 삭제한다. 불용어는 이미 만들어진 것을 가져와 사용했다."
   ]
  },
  {
   "cell_type": "code",
   "execution_count": 13,
   "metadata": {},
   "outputs": [
    {
     "data": {
      "text/html": [
       "<div>\n",
       "<style scoped>\n",
       "    .dataframe tbody tr th:only-of-type {\n",
       "        vertical-align: middle;\n",
       "    }\n",
       "\n",
       "    .dataframe tbody tr th {\n",
       "        vertical-align: top;\n",
       "    }\n",
       "\n",
       "    .dataframe thead th {\n",
       "        text-align: right;\n",
       "    }\n",
       "</style>\n",
       "<table border=\"1\" class=\"dataframe\">\n",
       "  <thead>\n",
       "    <tr style=\"text-align: right;\">\n",
       "      <th></th>\n",
       "      <th>counts</th>\n",
       "    </tr>\n",
       "  </thead>\n",
       "  <tbody>\n",
       "    <tr>\n",
       "      <th>//www.littlekingsbeer.com/main.html</th>\n",
       "      <td>1</td>\n",
       "    </tr>\n",
       "    <tr>\n",
       "      <th>driven</th>\n",
       "      <td>1</td>\n",
       "    </tr>\n",
       "    <tr>\n",
       "      <th>cara-vienne</th>\n",
       "      <td>1</td>\n",
       "    </tr>\n",
       "    <tr>\n",
       "      <th>watered-down</th>\n",
       "      <td>1</td>\n",
       "    </tr>\n",
       "    <tr>\n",
       "      <th>flask-shaped</th>\n",
       "      <td>1</td>\n",
       "    </tr>\n",
       "    <tr>\n",
       "      <th>...</th>\n",
       "      <td>...</td>\n",
       "    </tr>\n",
       "    <tr>\n",
       "      <th>ommegang</th>\n",
       "      <td>1</td>\n",
       "    </tr>\n",
       "    <tr>\n",
       "      <th>smoky</th>\n",
       "      <td>6</td>\n",
       "    </tr>\n",
       "    <tr>\n",
       "      <th>russet-brown</th>\n",
       "      <td>1</td>\n",
       "    </tr>\n",
       "    <tr>\n",
       "      <th>dreamlike</th>\n",
       "      <td>1</td>\n",
       "    </tr>\n",
       "    <tr>\n",
       "      <th>tasty</th>\n",
       "      <td>10</td>\n",
       "    </tr>\n",
       "  </tbody>\n",
       "</table>\n",
       "<p>2328 rows × 1 columns</p>\n",
       "</div>"
      ],
      "text/plain": [
       "                                     counts\n",
       "//www.littlekingsbeer.com/main.html       1\n",
       "driven                                    1\n",
       "cara-vienne                               1\n",
       "watered-down                              1\n",
       "flask-shaped                              1\n",
       "...                                     ...\n",
       "ommegang                                  1\n",
       "smoky                                     6\n",
       "russet-brown                              1\n",
       "dreamlike                                 1\n",
       "tasty                                    10\n",
       "\n",
       "[2328 rows x 1 columns]"
      ]
     },
     "execution_count": 13,
     "metadata": {},
     "output_type": "execute_result"
    }
   ],
   "source": [
    "stopwordsList = requests.get(\"https://gist.githubusercontent.com/rg089/35e00abf8941d72d419224cfd5b5925d/raw/12d899b70156fd0041fa9778d657330b024b959c/stopwords.txt\").content\n",
    "stopwords = set(stopwordsList.decode().splitlines()) \n",
    "\n",
    "for index in wordCounts.index:\n",
    "\tif index in stopwords:\n",
    "\t\twordCounts = wordCounts.drop(index)\n",
    "\n",
    "wordCounts"
   ]
  },
  {
   "cell_type": "markdown",
   "metadata": {},
   "source": [
    "숫자와 문장부호도 보인다. regular expression을 이용하여 삭제하자."
   ]
  },
  {
   "cell_type": "code",
   "execution_count": 14,
   "metadata": {},
   "outputs": [
    {
     "data": {
      "text/html": [
       "<div>\n",
       "<style scoped>\n",
       "    .dataframe tbody tr th:only-of-type {\n",
       "        vertical-align: middle;\n",
       "    }\n",
       "\n",
       "    .dataframe tbody tr th {\n",
       "        vertical-align: top;\n",
       "    }\n",
       "\n",
       "    .dataframe thead th {\n",
       "        text-align: right;\n",
       "    }\n",
       "</style>\n",
       "<table border=\"1\" class=\"dataframe\">\n",
       "  <thead>\n",
       "    <tr style=\"text-align: right;\">\n",
       "      <th></th>\n",
       "      <th>counts</th>\n",
       "    </tr>\n",
       "  </thead>\n",
       "  <tbody>\n",
       "    <tr>\n",
       "      <th>driven</th>\n",
       "      <td>1</td>\n",
       "    </tr>\n",
       "    <tr>\n",
       "      <th>cara-vienne</th>\n",
       "      <td>1</td>\n",
       "    </tr>\n",
       "    <tr>\n",
       "      <th>watered-down</th>\n",
       "      <td>1</td>\n",
       "    </tr>\n",
       "    <tr>\n",
       "      <th>flask-shaped</th>\n",
       "      <td>1</td>\n",
       "    </tr>\n",
       "    <tr>\n",
       "      <th>sudden</th>\n",
       "      <td>1</td>\n",
       "    </tr>\n",
       "    <tr>\n",
       "      <th>...</th>\n",
       "      <td>...</td>\n",
       "    </tr>\n",
       "    <tr>\n",
       "      <th>ommegang</th>\n",
       "      <td>1</td>\n",
       "    </tr>\n",
       "    <tr>\n",
       "      <th>smoky</th>\n",
       "      <td>6</td>\n",
       "    </tr>\n",
       "    <tr>\n",
       "      <th>russet-brown</th>\n",
       "      <td>1</td>\n",
       "    </tr>\n",
       "    <tr>\n",
       "      <th>dreamlike</th>\n",
       "      <td>1</td>\n",
       "    </tr>\n",
       "    <tr>\n",
       "      <th>tasty</th>\n",
       "      <td>10</td>\n",
       "    </tr>\n",
       "  </tbody>\n",
       "</table>\n",
       "<p>2252 rows × 1 columns</p>\n",
       "</div>"
      ],
      "text/plain": [
       "              counts\n",
       "driven             1\n",
       "cara-vienne        1\n",
       "watered-down       1\n",
       "flask-shaped       1\n",
       "sudden             1\n",
       "...              ...\n",
       "ommegang           1\n",
       "smoky              6\n",
       "russet-brown       1\n",
       "dreamlike          1\n",
       "tasty             10\n",
       "\n",
       "[2252 rows x 1 columns]"
      ]
     },
     "execution_count": 14,
     "metadata": {},
     "output_type": "execute_result"
    }
   ],
   "source": [
    "r = re.compile(\"[0-9\\W]+\")\n",
    "\n",
    "for index in wordCounts.index:\n",
    "\tif r.match(index) != None :\n",
    "\t\twordCounts = wordCounts.drop(index)\n",
    "\n",
    "wordCounts"
   ]
  },
  {
   "cell_type": "markdown",
   "metadata": {},
   "source": [
    "기술 통계량을 살펴보자."
   ]
  },
  {
   "cell_type": "code",
   "execution_count": 15,
   "metadata": {},
   "outputs": [
    {
     "data": {
      "text/html": [
       "<div>\n",
       "<style scoped>\n",
       "    .dataframe tbody tr th:only-of-type {\n",
       "        vertical-align: middle;\n",
       "    }\n",
       "\n",
       "    .dataframe tbody tr th {\n",
       "        vertical-align: top;\n",
       "    }\n",
       "\n",
       "    .dataframe thead th {\n",
       "        text-align: right;\n",
       "    }\n",
       "</style>\n",
       "<table border=\"1\" class=\"dataframe\">\n",
       "  <thead>\n",
       "    <tr style=\"text-align: right;\">\n",
       "      <th></th>\n",
       "      <th>counts</th>\n",
       "    </tr>\n",
       "  </thead>\n",
       "  <tbody>\n",
       "    <tr>\n",
       "      <th>count</th>\n",
       "      <td>2252.000000</td>\n",
       "    </tr>\n",
       "    <tr>\n",
       "      <th>mean</th>\n",
       "      <td>4.642096</td>\n",
       "    </tr>\n",
       "    <tr>\n",
       "      <th>std</th>\n",
       "      <td>14.353436</td>\n",
       "    </tr>\n",
       "    <tr>\n",
       "      <th>min</th>\n",
       "      <td>1.000000</td>\n",
       "    </tr>\n",
       "    <tr>\n",
       "      <th>25%</th>\n",
       "      <td>1.000000</td>\n",
       "    </tr>\n",
       "    <tr>\n",
       "      <th>50%</th>\n",
       "      <td>1.000000</td>\n",
       "    </tr>\n",
       "    <tr>\n",
       "      <th>75%</th>\n",
       "      <td>2.000000</td>\n",
       "    </tr>\n",
       "    <tr>\n",
       "      <th>max</th>\n",
       "      <td>219.000000</td>\n",
       "    </tr>\n",
       "  </tbody>\n",
       "</table>\n",
       "</div>"
      ],
      "text/plain": [
       "            counts\n",
       "count  2252.000000\n",
       "mean      4.642096\n",
       "std      14.353436\n",
       "min       1.000000\n",
       "25%       1.000000\n",
       "50%       1.000000\n",
       "75%       2.000000\n",
       "max     219.000000"
      ]
     },
     "execution_count": 15,
     "metadata": {},
     "output_type": "execute_result"
    }
   ],
   "source": [
    "wordCounts.describe()"
   ]
  },
  {
   "cell_type": "markdown",
   "metadata": {},
   "source": [
    "단어 갯수 2252 어림잡아 50% 이상 단어의 빈도수가 1임을 알 수 있다. 그리고 가장 큰 빈도수는 219이다.\n",
    "\n",
    "100개의 묶음으로 그래프를 그렸을 때, 첫번째 구간 (약 0~10) 가 가장 많은 수가 나왔다."
   ]
  },
  {
   "cell_type": "code",
   "execution_count": 16,
   "metadata": {},
   "outputs": [
    {
     "data": {
      "image/png": "[encoded data removed]",
      "text/plain": [
       "<Figure size 432x288 with 1 Axes>"
      ]
     },
     "metadata": {
      "needs_background": "light"
     },
     "output_type": "display_data"
    }
   ],
   "source": [
    "plt.hist(wordCounts, bins=100)\n",
    "plt.show()\n"
   ]
  },
  {
   "cell_type": "markdown",
   "metadata": {},
   "source": [
    "한 번 나온 단어는 맥주들을 표현하는 단어라고 보기에 적합하지 않다.\n",
    "\n",
    "전체 맥주에서 맥주를 표현한 단어라면 한 번 나오지는 않았을 것이다.\n",
    "\n",
    "즉, 빈도가 적은 단어들은 전체적인 맥주의 특징을 나타낼 수 있는 단어라고 보기 어렵다. 그러므로 **10개 이하의 개수인 데이터를 제거한다.**"
   ]
  },
  {
   "cell_type": "code",
   "execution_count": 17,
   "metadata": {},
   "outputs": [
    {
     "name": "stdout",
     "output_type": "stream",
     "text": [
      "10회 이하의 발생빈도 단어 수: 2082\n"
     ]
    },
    {
     "data": {
      "text/html": [
       "<div>\n",
       "<style scoped>\n",
       "    .dataframe tbody tr th:only-of-type {\n",
       "        vertical-align: middle;\n",
       "    }\n",
       "\n",
       "    .dataframe tbody tr th {\n",
       "        vertical-align: top;\n",
       "    }\n",
       "\n",
       "    .dataframe thead th {\n",
       "        text-align: right;\n",
       "    }\n",
       "</style>\n",
       "<table border=\"1\" class=\"dataframe\">\n",
       "  <thead>\n",
       "    <tr style=\"text-align: right;\">\n",
       "      <th></th>\n",
       "      <th>counts</th>\n",
       "    </tr>\n",
       "  </thead>\n",
       "  <tbody>\n",
       "    <tr>\n",
       "      <th>count</th>\n",
       "      <td>170.000000</td>\n",
       "    </tr>\n",
       "    <tr>\n",
       "      <th>mean</th>\n",
       "      <td>39.205882</td>\n",
       "    </tr>\n",
       "    <tr>\n",
       "      <th>std</th>\n",
       "      <td>37.556253</td>\n",
       "    </tr>\n",
       "    <tr>\n",
       "      <th>min</th>\n",
       "      <td>11.000000</td>\n",
       "    </tr>\n",
       "    <tr>\n",
       "      <th>25%</th>\n",
       "      <td>15.000000</td>\n",
       "    </tr>\n",
       "    <tr>\n",
       "      <th>50%</th>\n",
       "      <td>24.000000</td>\n",
       "    </tr>\n",
       "    <tr>\n",
       "      <th>75%</th>\n",
       "      <td>43.000000</td>\n",
       "    </tr>\n",
       "    <tr>\n",
       "      <th>max</th>\n",
       "      <td>219.000000</td>\n",
       "    </tr>\n",
       "  </tbody>\n",
       "</table>\n",
       "</div>"
      ],
      "text/plain": [
       "           counts\n",
       "count  170.000000\n",
       "mean    39.205882\n",
       "std     37.556253\n",
       "min     11.000000\n",
       "25%     15.000000\n",
       "50%     24.000000\n",
       "75%     43.000000\n",
       "max    219.000000"
      ]
     },
     "execution_count": 17,
     "metadata": {},
     "output_type": "execute_result"
    }
   ],
   "source": [
    "maxThreshold = 10\n",
    "\n",
    "print(f\"{maxThreshold}회 이하의 발생빈도 단어 수: {len(wordCounts[wordCounts.counts <= maxThreshold].index)}\")\n",
    "wordCounts = wordCounts.drop(wordCounts[wordCounts.counts <= maxThreshold].index)\n",
    "wordCounts.describe()"
   ]
  },
  {
   "cell_type": "code",
   "execution_count": 18,
   "metadata": {},
   "outputs": [
    {
     "data": {
      "image/png": "[encoded data removed]",
      "text/plain": [
       "<Figure size 432x288 with 1 Axes>"
      ]
     },
     "metadata": {
      "needs_background": "light"
     },
     "output_type": "display_data"
    }
   ],
   "source": [
    "plt.hist(wordCounts, bins=10)\n",
    "plt.show()"
   ]
  },
  {
   "cell_type": "markdown",
   "metadata": {},
   "source": [
    "170개의 단어가 선정 되었다. 단어 사전을 list에 저장해둔다."
   ]
  },
  {
   "cell_type": "code",
   "execution_count": 19,
   "metadata": {},
   "outputs": [
    {
     "name": "stdout",
     "output_type": "stream",
     "text": [
      "number of words: 170\n",
      "['abv', 'ale', 'amber', 'american', 'american-style', 'ancient', 'aromatic', 'assertive', 'authentic', 'award-winning', 'balanced', 'bavarian', 'beautiful', 'belgian', 'belgian-style', 'big', 'bitter', 'black', 'blue', 'bold', 'bright', 'british', 'brown', 'canadian', 'caramel', 'citrusy', 'classic', 'clean', 'clear', 'coastal', 'cold', 'complex', 'cool', 'creamy', 'crisp', 'crystal', 'dark', 'deep', 'delicate', 'delicious', 'delightful', 'distinct', 'distinctive', 'double', 'drinkable', 'dry', 'dry-hopped', 'duck-rabbit', 'early', 'earthy', 'east', 'easy', 'elegant', 'english', 'english-style', 'european', 'extra', 'famous', 'favorite', 'fine', 'finest', 'finish', 'flavorful', 'floral', 'free', 'french', 'fresh', 'full-bodied', 'full-flavored', 'generous', 'gentle', 'german', 'german-style', 'golden', 'good', 'great', 'green', 'herbal', 'high', 'highest', 'historic', 'hoppy', 'hot', 'ibu', 'imperial', 'india', 'intense', 'international', 'irish', 'lager', 'large', 'late', 'legendary', 'light', 'lighter', 'limited', 'local', 'long', 'low', 'malt', 'malted', 'maple', 'massive', 'medium-bodied', 'mellow', 'mild', 'modern', 'munich', 'natural', 'nice', 'noble', 'north', 'northern', 'northwest', 'nutty', 'oak', 'oktoberfest', 'organic', 'original', 'pale', 'perfect', 'pleasant', 'popular', 'premium', 'pronounced', 'proprietary', 'pumpkin', 'pure', 'real', 'red', 'refreshing', 'rich', 'roasted', 'roasty', 'robust', 'scottish', 'seasonal', 'select', 'silky', 'single', 'slight', 'small', 'smoked', 'smooth', 'soft', 'sour', 'southern', 'special', 'strong', 'subtle', 'sweet', 'tart', 'toasted', 'toasty', 'top-fermented', 'traditional', 'tropical', 'true', 'two-row', 'typical', 'ufo', 'unfiltered', 'unique', 'warm', 'well-balanced', 'west', 'white', 'wild', 'wonderful', 'young']\n"
     ]
    }
   ],
   "source": [
    "wordLexicon = wordCounts.index.to_list()\n",
    "wordLexicon.sort()\n",
    "print(f\"number of words: {len(wordLexicon)}\")\n",
    "print(wordLexicon)"
   ]
  },
  {
   "cell_type": "markdown",
   "metadata": {},
   "source": [
    "모든 맥주에 대해서 맥주가 가진 사전 단어의 인덱스 리스트를 만든다."
   ]
  },
  {
   "cell_type": "code",
   "execution_count": 23,
   "metadata": {},
   "outputs": [
    {
     "name": "stdout",
     "output_type": "stream",
     "text": [
      "[list(['ABV', 'in', 'the', 'USA', 'is', '4.1', '%'])\n",
      " list([\"'Oak\", 'Aged', 'Imperial', 'Porter', 'Brewed', 'with', \"Chocolate'Caldera\", 'Kettle', 'SeriesJune', '2011', '-', 'first', 'release', 'in', 'waxed', '22', 'oz', '.', 'bottles'])\n",
      " list(['Formerly', 'In-Heat', 'Wheat']) ...\n",
      " list(['Ephraim', '(', '1823-1913', ')', 'was', 'our', 'great-great', 'grandfather', ';', 'Hill', 'Farmstead', 'Brewery', 'resides', 'several', 'hundred', 'feet', 'downhill', 'from', 'the', 'land', 'that', 'he', 'and', 'his', 'father', 'settled', '.', 'In', 'his', 'honor', ',', 'this', 'Imperial', 'India', 'Pale', 'Ale', 'is', 'dutifully', 'crafted', 'from', 'American', 'malted', 'barley', ',', 'buckets', 'of', 'American', 'hops', ',', 'our', 'ale', 'yeast', 'and', 'water', 'from', 'our', 'well', '.', 'It', 'is', 'unfiltered', ',', 'naturally', 'carbonated', ',', 'and', 'double', 'dry', 'hopped', '.', 'Intensely', 'aromatic', 'and', 'saturated', 'with', 'resinous', 'hop', 'flavor', ',', 'this', 'is', 'the', 'ale', 'that', 'I', 'dream', 'to', 'have', 'shared', 'with', 'Ephraim', '.', '280', 'Theoretical', 'IBUPale', 'Malt', ';', 'Dextrose', ';', 'Centennial', ',', 'Chinook', ',', 'Columbus', ',', 'Simcoe', ',', 'and', 'Warrior', 'hops', ',', 'Ale', 'Yeast', ',', 'and', 'our', 'Well', 'Water', '.'])\n",
      " list(['James', 'was', 'our', 'Uncle', '(', 'Edward', 'James', 'Hill', 'Jr.', ')', '.', 'Hill', 'Farmstead', 'Brewery', 'rests', 'upon', 'the', 'land', 'that', 'was', 'once', 'home', 'to', 'him', 'and', 'his', 'four', 'siblings', '.', 'In', 'his', 'honor', ',', 'this', 'Black', 'Ale', 'is', 'dutifully', 'crafted', 'from', 'American', 'and', 'German', 'malted', 'barley', ',', 'American', 'hops', ',', 'our', 'ale', 'yeast', ',', 'and', 'water', 'from', 'James', '’', 'well', '.', 'It', 'is', 'unfiltered', ',', 'naturally', 'carbonated', ',', 'and', 'dry', 'hopped', '.', 'Roasty', 'and', 'smooth', ',', 'with', 'accents', 'of', 'chocolate', 'and', 'a', 'balanced', 'hoppy', 'finish', ',', 'this', 'is', 'the', 'ale', 'that', 'I', 'dream', 'to', 'have', 'shared', 'with', 'James.Pale', 'and', 'Caramel', 'Malt', ';', 'Roasted', 'Barley', ';', 'Centennial', 'and', 'Columbus', 'hops', ';', 'Ale', 'Yeast', ',', 'and', 'our', 'Well', 'Water', '.'])\n",
      " list(['Fear', 'and', 'Trembling', 'is', 'Hill', 'Farmstead', '’', 's', 'first', 'collaboration', '–', 'a', 'Baltic', 'Porter', 'brewed', 'with', 'malt', 'that', 'was', 'hand', 'smoked', 'over', 'maple', 'wood', 'by', 'our', 'Danish', 'friend', ',', 'and', 'former', 'colleague', ',', 'Anders', 'Kissmeyer', '.', 'This', 'bottled', 'version', 'was', 'blended', 'from', 'beer', 'aged', 'in', 'both', 'American', 'Oak', 'Cabernet', 'barrels', 'and', 'Bourbon', 'barrels', '.', 'As', 'a', 'student', 'of', 'philosophy', 'and', 'former', 'resident', 'of', 'Copenhagen', ',', 'it', 'is', 'fitting', 'that', 'our', 'brewer', 'named', 'our', 'first', 'collaboration', 'after', 'Denmark', '’', 's', 'great', 'thinker', ':', 'Søren', 'Kierkegaard', '.', 'All', 'three', 'contemplated', 'absurdity', ',', 'faith', ',', 'and', 'salvation', 'while', 'wandering', 'the', 'shores', 'of', 'the', 'Baltic', 'Sea…', '“', '…continue', 'to', 'work', 'out', 'your', 'salvation', 'with', 'fear', 'and', 'trembling…', '”'])]\n",
      "[[], [], [], [8, 61, 120, 151, 157], [1, 10, 26, 73, 89, 91, 93, 94, 100, 149, 150, 161, 162], [93, 130], [1, 111, 141, 147, 159], [48, 67, 99, 100, 126], [1, 39, 48, 99, 126, 155], [22, 66], [26, 30, 73, 82, 93, 117, 122, 130, 151, 161, 166], [2, 26, 31, 37, 40, 67, 122, 123], [1, 2, 8, 10, 22, 24, 99, 120, 143], [26, 99, 110, 143], [99, 120, 149, 152, 153, 155, 157], [60, 74, 93, 99, 118, 147, 157], [45, 61, 110], [120, 132, 157], [26, 27, 34, 61, 99, 136], [32, 99, 120, 131, 150], [2, 10, 24, 30, 34, 89, 99, 110, 131, 140, 143, 153, 155], [26, 62, 89, 99, 121, 143, 153, 155], [], [136], [2, 131, 136], [], [122], [10, 24, 49], [20, 58, 155], [28, 35, 73, 89, 93, 120, 121, 122, 124, 147, 149, 152], [32, 34, 60, 61, 63, 66, 70, 73, 89, 97, 99, 122, 128, 130, 158], [6, 24, 66, 67, 92, 99, 132, 147, 154], [24, 31, 33, 38, 61, 99, 143, 150, 152], [10, 22, 117, 134, 149, 150, 152], [1, 5, 81, 147, 162], [20, 45, 62, 69, 108, 161], [6, 42, 155], [16, 27, 50, 61, 63, 75, 81, 96, 99, 125, 130, 136, 148, 162], [10, 16, 20, 24, 49, 61, 63, 99, 103, 114, 124, 149], [1, 9, 22, 24, 26, 31, 36, 37, 45, 51, 68, 91, 99, 109, 118, 122, 131, 132, 133, 143, 146, 148], [7, 16, 22, 25, 45, 61, 75, 81, 99, 114, 152], [1, 10, 12, 24, 122, 131, 150, 152], [7, 22, 33, 36, 45, 61, 103, 131, 143], [6, 81], [8, 15, 89, 93, 99, 143], [99, 131, 136, 147], [12, 35, 38, 110, 119, 140, 143, 166], [126, 128], [1, 20, 26, 37, 66, 74, 79, 147, 163], [6, 20, 58, 66, 96], [1, 36, 44, 75, 105, 131, 143, 155], [1, 17, 24, 26, 31, 36, 93, 99, 122, 130, 132, 144, 152, 157], [10, 24, 27, 77, 150, 152], [24, 36, 75, 99], [1, 2, 10, 24, 31, 33, 59, 63, 93, 99, 121, 125, 131], [24, 44, 61, 75, 98, 99, 131, 143, 150], [], [1, 27, 34, 60, 61, 69, 110, 150], [1, 35, 99, 132], [], [1, 17, 26, 37, 78, 81, 129, 131, 148], [], [19, 33, 61], [26, 27, 33, 56, 69, 99, 132, 143], [1, 10, 26, 36, 99, 100, 114, 132], [1, 36, 44, 58, 67, 74, 99, 143, 149, 164], [15, 19, 30, 36, 99, 131, 132, 133, 143], [91], [2, 10, 16, 103, 143], [26, 31, 99, 109], [1, 6, 10, 24, 36, 41, 61, 99, 119, 131], [1, 33, 49, 58, 99, 105, 131], [1, 24, 36, 51, 62, 99, 131, 149], [31, 34, 36, 61, 114, 120, 143], [31, 58, 62, 78, 105, 143, 157], [1, 22, 39, 61, 100, 123, 131, 134, 149, 150], [], [16, 24, 25, 99, 155], [1, 2, 8, 9, 24, 61, 114, 131, 150, 152, 155], [1, 24, 43, 45, 91, 99, 109, 129], [24, 36, 58, 97], [10, 91, 99, 110, 141], [10, 99, 148, 155], [1, 36, 60, 67, 74, 118, 120, 131, 132, 134, 136], [1, 69, 78, 120, 131], [66, 150], [24, 56, 74, 131, 136], [1, 24, 99, 143, 150], [1, 67, 129, 155], [17, 34, 58, 61, 89, 93, 99, 132, 152, 155, 157], [27, 45, 60, 61, 100, 131], [27, 118, 157], [7, 15, 57, 99, 104, 131, 142], [1, 8, 10, 63, 81, 121, 131, 155, 168], [1, 42, 63, 67, 73, 97, 134], [60, 62, 89, 93, 100, 108], [61, 152, 155], [37, 62, 73, 89, 136, 143], [26, 31, 36, 75], [61, 99, 100, 123, 142, 149], [2, 19, 61, 99, 129], [6, 86, 97, 122, 132], [10, 24, 36, 138], [1, 101, 134], [2, 20, 24, 63, 77, 99, 121, 132, 140, 144], [1, 42, 60, 99, 129, 131, 141, 149], [], [162], [36, 45, 76, 78], [15, 19, 36, 132, 151], [16, 19, 36, 49, 61, 93, 99, 132], [], [1, 25, 42, 51, 108, 122, 130], [26, 59, 80, 89, 99, 149, 162], [108], [1, 33, 45, 59, 73, 99, 123, 148], [10, 27, 61, 130], [1, 26, 59, 93, 99, 108, 161], [35, 51, 120, 129, 131], [24, 26, 36, 107, 129, 143], [1, 10, 15, 17, 19, 48, 49, 67, 99, 118, 131, 132, 155], [10, 24, 143, 162], [34, 62, 79, 99, 106, 119, 123], [6, 30, 61, 62, 63, 66, 91, 96, 97, 99, 118, 130, 143], [9, 59, 73, 89, 99, 119, 123, 130, 137, 158], [10, 27, 45, 61, 73, 89, 99, 105, 119, 150, 155], [], [24, 66, 89, 93, 110], [], [16, 37], [6, 61, 93, 132], [26, 58, 59, 81, 130], [1, 26, 45, 59, 61, 128, 157, 164], [1, 16, 24, 42, 60, 67, 141, 155], [5, 26, 137, 162], [2, 6, 26, 31, 43, 60, 99, 115, 142, 147], [2, 10, 12, 97], [2, 24, 35, 89, 99, 131, 143], [99, 118, 120, 131, 132], [1, 10, 36, 68, 99, 124, 132, 134, 138, 155], [1, 36, 129], [31, 41, 68, 97, 100, 131, 132, 143, 163], [9, 33, 42, 51, 67, 92, 131, 143, 157], [134], [22, 132, 140], [10, 36, 44, 45, 133, 134, 143], [27, 51, 99, 100], [1, 26, 27, 30, 34, 38, 57, 61, 73, 89, 99, 132, 162], [1, 20, 25, 26, 34, 58, 155], [17, 40, 44, 59, 132, 143], [1, 2, 10, 24, 119, 131, 162], [1, 22, 31, 91, 162], [6, 31, 136, 159], [], [1, 2, 63, 131, 143], [1, 27, 30, 50, 61, 118, 143, 161], [1, 89, 118, 119, 130], [1, 34, 73, 143], [10, 34, 36, 45, 61, 89, 93, 95, 118, 147], [57, 89, 122, 143, 150], [], [2, 41, 89, 99, 142], [2, 36, 57, 66, 99, 162], [37, 99, 115, 133], [], [2, 36, 89, 98], [24, 30, 31, 36, 39, 67, 131, 143], [0, 17, 50, 119, 128, 167], [], [1, 17, 96, 99, 132], [1, 31, 45, 66, 99, 100, 140, 161, 167], [22, 27, 36, 45, 89, 131, 132], [24, 26, 36, 61, 89, 97, 99, 120, 132], [2, 36, 42, 57, 89, 143, 147], [2, 16, 22, 36, 61, 89, 98, 99, 110, 141, 143, 150, 152, 155], [6, 33, 61, 73, 89, 105, 127, 140, 144, 157], [18, 149], [37, 61, 73, 99, 120, 150], [61, 93, 94, 99, 121, 143], [1, 22, 61, 106, 120, 145, 150, 151, 168], [1, 24, 34, 134], [24, 84, 99, 131, 152], [19, 30, 101, 120, 126, 136, 155], [1, 31, 99, 115, 145, 149], [90, 129, 145], [1, 99, 115, 145, 147], [], [39, 82, 93, 99, 130, 155, 162], [1, 73, 136], [1, 28, 34, 69, 73, 98, 99, 130], [1, 62, 119, 130, 163], [1, 26, 36, 37, 115, 122, 129, 145, 153, 165], [1, 45, 46, 73, 74, 81, 140], [12, 33, 44, 49, 99, 119, 131, 158], [1, 61, 66, 131, 145, 150, 151], [1, 45, 61, 100, 117, 122, 131, 134, 136], [41, 108, 128, 132], [36, 99, 132, 134], [10, 24, 26], [], [1, 69, 99, 131, 148], [10, 114, 149], [1, 6, 61, 90, 100, 138, 146, 150, 157, 167], [1, 31, 37, 61, 99, 131, 134, 150], [1, 26, 74, 120, 132], [16, 28, 34, 45, 59, 61, 78, 93, 110, 125, 130, 137, 143, 147], [], [33, 67, 73, 130, 143], [1, 2, 9, 24, 27, 45, 61, 67, 75, 124, 132, 148, 157], [17, 36, 52, 60, 99, 122, 124, 132, 147, 148, 162], [8, 17, 36, 56, 89, 130, 133, 157], [], [17, 99, 103, 105, 131, 132, 134], [30, 33, 41, 89, 125, 131, 143], [89, 125], [143], [1, 93, 98], [93, 149], [12, 36, 38, 61], [2, 36, 99, 118, 131], [2, 37, 57, 67, 99, 131], [5, 100, 115, 121, 140, 154, 159, 164], [22, 76, 115, 120, 129, 159], [17, 36, 115, 145, 151, 155], [1, 10, 34, 45, 143], [6, 147, 157, 161], [1, 12, 34, 38, 45, 49, 61, 77, 105, 119, 166], [6, 60, 130], [1, 17, 36, 41, 63, 132, 148, 150], [24, 63, 89, 99, 150, 155, 162, 164], [1, 26, 97, 99, 148, 149], [24, 92, 149], [30, 36, 132, 143], [1, 6, 26, 60, 66, 162], [24, 36, 122, 131, 132, 155], [], [36, 89, 96, 112, 131, 132, 149], [1, 22, 36, 45, 61, 81, 148, 150], [28, 39, 44, 66, 73, 99, 108, 119, 130, 147, 155, 162], [1, 63, 66, 106, 149], [26, 36, 45, 61, 73, 99, 100, 121, 155, 156], [0, 62, 99, 148, 150], [24, 34, 120, 148], [1, 38, 62, 99, 104, 149], [6, 8, 12, 20, 27, 34, 99, 162], [], [99], [1, 36, 123], [15, 19, 24, 99, 131, 133], [], [1, 115, 154], [17, 30, 36, 60, 77, 133, 149], [1, 62, 89, 118, 143, 157], [99], [73, 75, 89, 118], [2, 27, 34, 38, 89, 99, 103, 140], [36, 100, 147, 162], [89, 100, 104, 137, 164], [31, 66, 87, 90, 97, 99, 115, 144, 155, 159], [12, 37, 73, 89, 130], [15, 19, 34, 62, 75, 82, 120], [1, 7, 61, 150], [35, 36, 61, 99, 120, 132, 150], [1, 57, 115, 128], [], [10, 31, 61, 73, 94, 119, 120, 148], [31, 114, 122, 131, 132, 150], [49, 63, 93, 114, 131, 148], [22, 99, 107, 132, 142], [1, 24, 81, 99, 129, 150], [61, 96, 132, 142], [1, 27, 32, 33, 61, 73, 131], [1, 36, 99, 133, 142], [], [24, 45, 131, 150], [10, 16, 36, 45, 131], [27, 61, 63, 99, 110, 155], [2, 38, 61, 99, 120, 132, 143], [25, 99], [74, 126, 128], [1, 98, 156], [169], [2, 24, 45, 97], [43, 59, 67, 75, 147], [24, 49, 63, 78, 99, 149], [58, 120], [10, 15, 17, 19, 24, 99, 133], [61, 99, 100, 128], [1, 22, 97, 101, 126, 136, 162, 163], [], [1, 2, 27, 30, 31, 67], [17, 78, 99, 126, 132], [42], [10, 24, 51, 62, 69, 93, 99, 140], [30, 34, 96, 127, 128, 130, 150], [26, 145, 151], [1, 24, 36], [2, 36, 98, 99, 121], [26, 31, 37, 161], [24, 26, 30, 95, 99, 131, 134], [60, 131, 139, 141], [1, 2, 12, 74, 98, 99, 148], [26, 35, 36, 66, 99, 106, 132], [99], [33, 35, 70, 74, 93, 119, 130, 147, 166], [], [2, 10, 38, 45, 59, 61, 74, 99], [2, 24, 26, 31, 61, 89], [1, 62, 73, 89, 130, 132], [1, 22, 75, 99, 148], [10, 31, 36, 99, 143, 149, 155], [36, 59, 95, 124, 134], [26, 99, 120, 131, 142], [], [91, 96, 142, 162], [31, 99, 142], [17, 36, 51, 64, 93, 99, 131, 143, 147, 149, 155, 162], [19, 69, 86, 115, 133], [16, 78, 81], [1, 45, 46, 61, 92, 150], [], [], [1, 10, 31, 46, 134], [10, 73, 89, 97, 99, 119, 120, 131, 148, 155], [], [1, 16, 36, 44, 51, 74, 93, 99, 104, 105, 108, 127, 131, 143, 155], [63, 156], [1, 15, 16, 45, 61, 99, 119, 152], [10, 15, 34, 76, 109, 131, 132], [115], [2, 17, 22, 34, 35, 36, 89, 99, 100, 119, 132, 166], [61, 114], [19, 24, 33, 37, 44, 81, 99, 132, 133, 148, 149], [38, 130, 144], [28, 30, 37, 51, 66, 73, 82, 120, 143, 144], [33, 36, 148], [38, 67, 99, 143, 150], [75, 81, 89, 131, 136], [1, 9, 36, 99, 132, 143, 149], [10, 24, 33, 36, 66, 69, 131, 133, 138, 147], [1, 31, 45, 61, 73, 104, 156], [30, 46, 155, 157], [36, 87, 93, 132, 134], [8, 17, 22, 31, 36, 49, 51, 71, 75, 89, 99, 100, 105, 108, 110, 121], [36, 89, 99, 142, 147], [1, 34, 93, 97, 120, 130, 161], [61, 75, 84, 92, 115], [155, 169], [2, 36, 99, 142, 150], [1, 10, 36, 81, 99, 117, 132, 143], [89, 131, 143, 148, 155], [31, 148], [80, 157], [20, 105, 127, 130, 141], [17, 24, 30, 31, 33, 36, 61, 99, 120, 143, 149, 168], [1, 6, 30, 60, 61, 75, 99, 108, 123, 134], [1, 19, 101, 127, 143], [57, 99, 155], [24, 36, 61, 120, 133], [6, 12, 36, 37, 60, 96, 118, 127, 134, 141], [2, 10, 61, 66, 89, 99, 120, 122, 125, 143, 147], [10, 24, 45, 61, 99, 131, 132], [19, 132, 155, 162], [0, 31, 37, 89, 99], [], [], [16, 22, 24, 31, 110, 129, 150, 168], [75, 101, 120, 159], [1, 31, 81, 99, 148], [95, 129], [45, 61, 132, 155], [1, 19, 31, 149, 150], [126, 157], [], [49, 106, 130, 155], [44, 130], [1, 2, 33, 34, 93, 122, 130, 143, 157], [], [12, 73, 105, 120, 150, 167], [27, 34, 59, 60, 61, 89, 100, 110, 125, 137, 143, 162], [10, 34, 75, 99, 143, 148, 150, 153], [51, 64, 99, 119], [43, 96, 97, 157], [48, 99], [], [10, 67, 131], [17, 35, 36, 119], [10, 15, 16, 45], [1, 2, 24, 87, 121, 140], [1, 27, 38, 67, 89, 136, 152], [45, 81, 154], [24, 37, 99, 144], [], [1], [], [62], [60, 108, 120, 125], [38, 73, 75, 96, 105, 143, 150], [1, 66, 93, 150], [10, 31, 37, 131, 133, 144, 147, 149], [37, 61, 62, 67, 82, 104, 105, 115, 143], [24, 27, 42, 62, 70, 79, 89, 108, 143, 144, 149], [17, 45, 61, 131, 132], [15, 24, 32, 36, 37, 97, 132, 142, 150], [39, 75], [17, 39, 67, 97, 132, 149, 155], [99, 105, 118, 132], [17, 26, 61, 80, 99, 100, 120, 123, 127], [1, 10, 51, 74, 91, 93, 99, 105, 128], [1, 34, 131, 149, 151, 155, 162], [1, 7, 19], [2, 36, 67, 150], [], [36, 51, 76, 93, 110, 120, 159], [36, 43, 78, 99, 132, 143, 148], [25, 26, 30, 45, 61, 89, 121, 155, 156, 165], [17, 36, 99, 132, 141, 142, 150, 155], [1, 162], [6, 31, 45, 67, 78, 118, 124, 149, 162, 167], [1, 36], [26, 36, 118, 134], [2, 99], [100, 115], [26, 27, 41, 51, 61, 89, 93, 130, 143], [1, 17, 36, 57], [30, 58, 60, 61, 62, 99, 100, 129, 143], [1, 73, 147, 162], [148], [27, 34, 66, 89], [1, 41, 61, 99, 119, 131], [24, 27, 33, 61, 82, 150, 162], [], [19, 30, 36, 131, 132], [26, 30, 120, 123, 155, 162], [25, 26, 45, 128], [98], [16, 104, 143], [66, 81, 143], [10, 56, 89, 99, 143, 150], [1, 97, 130, 136, 166], [26, 150, 155, 168], [59, 99, 142, 143, 162], [8, 9, 157], [33, 36, 89, 99, 131, 137, 155], [26, 87, 122, 166], [34, 45, 61, 95, 99, 110, 144], [1, 61, 80, 143], [80], [1, 73, 119, 121, 130], [], [1], [93], [33, 61, 101, 127, 143], [1, 118, 131, 158], [6, 22, 24, 37, 70, 86, 99, 128, 131, 143], [1, 16, 45, 93, 131], [1, 2, 16, 24, 131, 150], [1, 66, 73, 93, 131, 144, 150, 164], [1, 2, 10, 16, 86, 131, 150, 163], [16, 30, 40, 44, 61, 66, 81, 109, 161, 169], [1, 30, 31, 81, 97], [1, 37, 38, 99, 108, 129, 131, 136, 150, 162], [1, 45, 49, 115, 145, 156, 167], [1, 44, 45, 105, 115], [1, 8, 155], [1, 6, 24, 37, 45, 61, 62, 131, 168], [1, 2, 5, 24, 33, 43, 154], [1, 22, 35, 36, 119, 131, 150], [27, 34, 89, 93, 99, 120, 127], [36, 74, 89, 128, 151], [24, 99, 119, 120, 131], [45, 61, 89, 99, 119, 149, 150, 162], [45, 99, 121, 150, 161], [48], [36, 108, 117, 138, 149], [99, 147, 149, 156, 162], [17, 24, 36, 90, 132, 150, 162], [1, 2, 36, 99], [10, 99, 132, 142], [148], [1, 32, 36, 66, 104, 139, 148, 150], [], [97, 119, 130, 131, 155], [45, 61, 89], [10, 16, 22, 36, 49, 99, 132, 143], [17, 78, 151], [42, 66, 100, 108, 130, 139, 155], [118, 155], [1, 22, 24, 44, 132], [35, 60, 79, 101, 127, 147], [16, 24, 28, 36, 39, 57, 59, 93, 121, 129, 132, 134, 144, 148], [1, 91, 100, 130, 161], [10, 17, 37, 45, 99, 109, 132], [6, 38, 73, 98, 162], [34, 56, 60, 61, 89, 131, 132], [16, 28, 59, 63, 93, 127, 140, 144], [34, 59, 99, 104, 143, 158], [16, 28, 42, 59, 66, 99, 127, 144, 150], [], [22, 151], [1, 60, 97, 122], [24, 27, 34, 42, 59, 99], [31], [99, 150], [2, 24, 93, 99, 138, 143], [], [36, 75, 89, 93, 97, 100, 120, 127], [12, 24, 99, 129, 150], [2, 12, 24, 31, 33, 37, 138, 155], [1, 30, 90, 93, 97, 115, 147], [1, 19, 32, 66, 67, 126], [36, 81, 89, 94, 100, 120, 149, 155], [26, 89, 99, 100, 162], [36, 51, 119, 147, 150, 155, 163], [6, 34, 39, 45, 61, 81, 125, 128, 162], [33, 37, 51, 120, 127, 129], [26, 89, 124, 131, 161], [1, 12, 61, 69, 147], [2, 27, 28, 34, 61, 66, 75, 93, 132, 143], [10, 86, 115, 129, 162], [99, 144, 156, 165], [1, 73, 78, 128, 162], [1, 78, 99], [1, 91, 128, 161], [78, 87, 96, 99, 162], [22, 60, 67, 73, 99, 132], [89, 155], [24, 69, 120, 136, 152], [115], [22, 33, 36, 37, 99, 131, 132, 134, 143, 150, 152], [86, 99, 115], [1, 10, 37, 125, 131], [], [22, 93, 99, 130], [115], [], [], [], [26, 99, 155, 162], [], [], [45, 46, 49, 140], [45], [22, 31, 37, 39, 162], [1, 36, 99, 132, 134], [], [12, 24, 61, 63, 67, 86, 121], [1, 45, 61, 119, 132, 134], [78, 110, 155], [], [], [1, 2, 37, 56, 131, 142], [], [], [], [], [67, 82, 89, 123, 130, 156], [], [], [10, 27, 31, 52, 61, 143], [36, 99], [1, 99, 129], [17, 19, 45, 77, 99], [37, 42, 59, 69, 73, 155], [31, 45, 56, 61, 67, 69, 93, 131, 134, 143, 151, 155, 157], [], [37, 57, 109, 129, 143, 163], [24, 36, 89, 97, 120, 131, 132, 150], [36, 45, 89, 93, 132], [33, 86], [0, 1, 10, 31, 38, 56, 67, 69, 95, 134], [30, 63, 99, 119, 143, 155], [1, 12, 15, 19, 31, 45, 61, 73, 99, 143, 148, 150, 155, 163], [36, 69, 75, 99, 132, 138], [35, 36, 93, 99, 120, 163], [33, 45, 99], [15, 36, 39, 49, 61, 74, 115, 129, 163], [84], [], [1, 162], [1, 8, 27, 34, 73, 99, 119, 120, 130, 157, 163], [], [33, 36, 48, 73, 119, 122, 131, 155], [], [10, 26, 31, 69, 86, 99, 134], [1, 39, 45, 59, 74, 130], [26, 27, 34, 44, 45, 74, 81, 99, 110, 143, 144], [96, 115], [10, 26, 31, 45, 63, 69, 99], [26, 40, 130, 136, 149, 155], [82, 94], [10, 18, 20, 35, 44, 78, 99, 119], [1, 25, 45, 62, 100, 104, 115, 131], [2, 36, 89, 103, 136, 164], [48, 92, 119, 129, 131, 132, 136, 153], [24, 89, 91, 136, 143, 144, 155], [58, 99, 132, 134, 147], [1, 15, 26, 62, 106, 130, 157, 166], [1, 6, 36, 58, 117, 122, 131], [118, 139], [10, 45, 61, 63, 150], [1, 2, 20, 24, 99, 143, 144, 168], [115], [1, 24, 90, 115, 131], [1, 2, 24, 49, 108, 145], [], [1, 22, 128, 145, 150], [], [1, 2, 6, 16, 38, 45, 61, 67, 99, 166], [16, 36, 69, 78], [57, 89, 110, 123, 131, 144, 157], [], [24, 37, 73, 99, 115, 119, 131, 132, 162], [7, 20, 31, 45, 61, 66, 130, 151, 156, 162, 166], [], [2, 36, 68, 99, 131, 132, 143, 149], [8, 81, 95, 105, 143, 144, 147, 164], [26, 128, 149, 150, 155], [9, 20, 161], [1, 155, 158], [99], [], [99, 144], [24, 36], [45, 99], [], [26, 130, 151], [26, 42, 60, 67, 76, 89, 99, 100, 119, 120, 149], [166], [], [27, 28, 38, 42, 61, 73, 93, 99, 105, 130, 144, 147, 149, 151, 155, 156, 159, 161], [10, 27, 120], [1, 20, 32, 34, 61, 82, 93, 120, 155], [1, 115, 167], [16, 86], [66], [1], [99], [10, 42, 78, 89, 122, 143, 148], [1, 24, 31, 37, 52, 61, 97, 148, 152], [34, 108, 120, 130, 162], [9, 95, 162], [], [34, 131], [42, 66, 93, 108, 144, 149, 151, 161], [49, 99, 126, 127, 143, 150, 161, 168], [27, 30, 34, 61, 78, 97], [10, 15, 117, 131, 148, 162], [1, 53, 105, 120, 155, 164], [7, 8, 31, 36, 58, 78, 99, 120, 127, 143, 148], [10, 26, 31, 46, 89], [10, 118, 131, 162], [], [22, 99, 149], [2, 36, 75, 84, 86, 99, 100], [20, 74, 130], [10, 20, 27, 34, 73, 89, 98, 99], [1, 5, 36, 131], [8, 26, 130], [1, 145, 162], [33, 61, 99, 131, 143], [1, 63, 67, 70, 73, 119, 148], [1, 45, 99, 119], [8], [37, 63, 74, 102, 155], [16, 26, 45, 63], [19, 28, 73, 93, 99, 143, 162], [1, 38, 59, 66, 96, 115, 126, 132], [27, 34, 120, 130], [25, 37, 46, 95, 99, 129, 147, 150, 153], [6, 17, 36, 99, 117, 131, 148], [36, 149, 153], [], [28, 63, 74, 93, 150, 166], [31, 45, 59, 61, 133, 150], [143, 162], [1, 117], [119, 162], [17, 39, 74, 155, 166], [], [], [66], [76, 89, 99, 167], [36, 37, 61, 131, 132, 143], [16, 63, 73, 81, 150], [60], [155], [], [], [], [15, 46, 61, 156], [33, 56, 59, 97, 110, 129, 148, 159], [10, 34, 37, 44, 45, 61, 99, 152, 155, 159], [33, 36, 39, 45, 131, 132, 143], [24, 36, 77, 121, 134], [61, 131, 148, 159, 164], [1, 22, 24, 33, 36, 41, 42, 61, 99, 105, 120, 143, 147, 154, 162], [27, 61, 63, 73, 93, 130, 155], [12, 33, 36, 37, 59, 70, 99, 105, 132, 162], [10, 15, 19, 24, 36, 45, 75, 166], [], [], [1, 24, 36, 114, 132, 143], [12, 45], [10, 15, 36, 95, 120, 129, 143], [], [1, 10, 26, 30, 34, 61, 89, 93, 99, 149], [86, 162], [17, 27, 33, 36, 41, 61, 67, 78], [], [], [27, 81, 89], [], [1, 10, 38, 99, 121, 143, 150, 168], [155], [], [], [60, 89, 97, 99, 120, 130], [1, 17, 20, 22, 27, 35, 66, 74, 75, 119, 122, 143], [30, 66, 93, 99, 119, 122, 130, 147], [], [33, 36, 61, 103, 138, 143], [1, 9, 24, 118, 153, 157], [1, 31, 99, 119, 141, 162], [1, 26, 31, 38, 78, 100, 144, 159, 161], [1, 62], [1, 31, 51, 101, 131], [17, 166], [1, 58, 115, 145, 167], [12, 41, 96, 98, 99, 144, 168], [], [10, 12, 22, 24, 27, 28, 45, 58, 94, 99, 103, 120, 129, 144, 149, 155, 162], [37, 73, 99, 144, 155, 161, 168], [24, 89, 95, 99, 132], [], [19, 134], [26, 33, 36, 61, 138, 143], [34, 89, 91, 93, 128], [118], [33, 132, 162], [1, 24, 31, 36, 61, 118, 131, 133, 134, 143], [1, 6, 10, 24, 67, 86, 92, 129], [], [1, 17, 24, 31, 36, 96, 99, 131, 148, 150], [], [1, 16, 36, 37, 42, 57, 61, 99, 131, 132, 148], [1, 96, 99], [31, 33, 37, 38, 66, 73, 89, 99, 103, 147, 152], [99, 142], [1, 6, 10, 60, 73, 93, 99, 119], [1, 24, 96, 99], [98], [25, 93, 131, 136, 143, 149], [], [1, 17, 36, 61, 131, 138, 143, 150, 152], [2, 24, 41, 44, 89, 99, 110, 121, 131, 140, 143, 149], [], [17, 36, 61, 99, 134, 136, 143], [1, 34, 75, 110, 120], [], [118, 136], [], [10, 78, 156], [], [1, 99, 127], [1, 22, 34, 81, 143, 155], [1, 17, 22, 36, 46, 99, 132], [31, 99, 138, 142, 143, 149, 157], [10, 26, 36, 99, 115, 129, 145, 162], [39, 102], [30], [30, 38, 89, 130, 143], [1, 22, 36, 100, 102, 115, 129, 145, 148, 167], [102], [1, 42, 60, 115, 134, 143, 147, 162], [66], [], [24, 66, 79], [15, 73, 162], [1, 34, 119, 124, 130, 132, 162], [141], [2, 26, 99, 131, 137, 143, 162], [], [1, 22, 26, 41, 115, 145, 151, 162], [], [2, 45, 66, 140], [1, 20, 28, 66, 73, 156], [1, 42, 114, 128, 143, 152, 163], [32, 97, 108], [31, 118, 141, 167, 169], [99, 115], [], [45], [79, 145], [1, 61, 97, 115, 129, 145, 150], [93, 167], [], [26, 99, 142, 144], [8, 27, 30, 61, 81, 143], [96], [1, 89, 126, 136], [52, 56, 100, 130, 155], [], [1, 10, 35, 99, 119, 131], [2, 24, 37, 39, 58, 79, 89, 99, 117, 132, 143, 150], [1, 61, 63, 103, 150], [24, 31, 35, 36, 61, 67, 86, 99, 149], [92, 162], [10, 33, 39, 42, 61, 73, 80, 89, 143, 158, 162], [19, 31, 41, 131, 133, 144, 150], [75, 90, 100, 131, 141], [35, 114, 132, 150], [1, 27, 34, 46, 56, 61, 63, 119, 136], [42, 66, 137], [24, 99, 109, 140], [31], [7, 26, 39, 61, 89, 99, 110, 130], [24, 36, 37, 38, 52, 66, 67, 93, 148, 155], [1, 59, 73, 86, 93, 99, 144, 163], [37, 61, 81, 99], [10, 27, 34, 61, 73, 74, 89, 95, 99, 144], [31, 33, 36, 38, 59, 61, 118, 120, 143, 144, 148, 150, 157], [18, 26, 34, 87, 89, 118, 129, 130, 143, 166], [27, 43, 63, 79, 156], [36, 62, 89, 132], [], [16, 78, 109, 150], [], [], [10, 52, 89, 95, 99, 119, 137, 139], [24, 27, 36, 61, 81, 89, 119, 143], [36, 89, 93, 99, 148], [], [36, 86], [16, 56, 147], [2, 36, 61, 91, 99, 110, 134, 136, 143, 157], [89, 93, 105], [], [166], [], [1, 22, 99, 119, 132, 142], [1, 99], [157], [142], [1, 93, 99, 119], [2, 89, 93], [93, 99, 119], [], [], [131, 132], [], [], [24, 31, 61, 81, 97, 99, 115, 121, 149, 156], [], [1, 2, 36, 59, 99], [1, 24, 61, 99, 149, 156], [27, 34, 61, 68, 74, 93, 130, 131], [100, 166], [2, 10, 20, 24, 36, 37, 38, 75, 99, 166], [36, 99, 131, 143], [141], [], [], [124, 130, 145, 155], [45, 61, 130, 151, 155], [45, 61, 117, 151], [5, 27, 61, 104, 155], [], [56, 66, 78, 81, 98, 110, 121, 148, 161, 162], [26, 36, 101, 108, 123, 131], [], [33, 131, 162], [], [], [26, 58, 89, 99], [6, 41, 51, 63, 66, 75, 93, 149], [2, 6, 90, 129, 141, 145, 149, 168, 169], [15, 24, 31, 36, 115, 139, 143, 148], [17, 96, 131, 167], [1, 39, 142, 162, 167], [10, 44, 99, 102], [2, 19, 20, 25, 37, 45, 46, 61, 77, 99, 164], [1, 26, 27, 31, 34, 35, 45, 91, 92, 99, 119], [24, 31, 99, 131], [24, 27, 34, 35, 37, 61, 77, 104, 110, 131, 140, 152, 162], [1, 16, 57, 99, 119, 120, 128, 148], [36, 132, 133, 163], [31, 61, 115, 151, 153], [1, 28, 35, 73, 131], [25, 37, 61, 73, 94, 119, 131], [19, 33, 37, 131, 133], [1, 16, 45, 99, 119, 120, 150, 162], [20, 26, 119, 151], [7, 10, 35, 61, 92, 97, 99, 119, 136, 152], [6, 25, 99, 102], [22, 26, 35, 37, 119, 120, 149], [10, 16, 36, 153], [], [1, 22, 26, 31, 36, 61, 77, 114, 150, 152, 163], [1, 2, 24, 26, 30, 33, 37, 61, 97, 120, 131], [], [1, 16, 31, 99, 119, 131, 148, 150], [58, 66, 119, 162], [1, 8, 24, 36, 39, 99, 132, 149], [1, 29, 36, 42, 117], [10, 73, 78, 120, 148, 168], [], [17, 22, 24, 33, 99, 119, 150], [1, 9, 35, 119, 130, 143, 164, 165], [10, 24, 31, 36, 45, 61, 97, 99, 105, 131], [27, 31, 45, 61, 63, 73, 77, 89, 99], [99], [1, 8, 99, 143, 149, 155], [], [1, 17, 108, 132, 148], [27, 36, 51, 74, 89, 109, 114, 118, 132], [], [36], [45, 93, 133], [1, 25, 31, 45, 119, 155], [66, 101, 131, 132], [2, 10, 45, 60, 61, 81, 96, 97, 99, 108], [89, 93, 99, 117, 161], [6, 26, 31, 60, 97, 120, 128, 148, 159], [10, 30, 36, 69, 131], [1, 5, 66, 82, 100, 150], [1, 10, 15, 44, 48, 62, 68, 93, 130, 136, 162], [15, 99, 131, 134, 141], [1, 17, 62, 142], [1, 8, 110, 129, 162], [1, 48, 66, 97, 100, 122, 155, 169], [16, 27, 34, 60, 61, 89, 164], [75], [89], [36, 99, 105, 124, 131, 144, 155], [], [1, 24, 31, 36, 99, 132], [], [], [73, 131], [16, 93, 127], [1, 6, 37, 60, 99, 131, 147], [1, 17, 45, 66, 67, 99, 105, 133, 148], [], [80], [10, 31, 57, 99, 154, 161], [1, 31, 36, 68, 99], [24, 77, 115], [1, 36, 99], [36, 43, 74, 93, 99, 147, 155, 163], [36, 51, 89, 99, 131, 132, 136], [10, 19, 61, 120, 130], [120, 132], [68, 75, 89, 141, 162], [34, 42, 81, 109, 136], [], [93, 130, 143, 162], [45, 99, 115, 142], [69], [10, 99], [17, 44, 68, 89, 143], [], [16, 36, 89], [16, 36, 99, 105, 131, 147, 148, 154], [1, 30, 41, 48, 56, 99, 149, 155], [], [0], [44, 49, 67, 100, 105, 144, 164], [31, 62, 89, 100, 143], [6], [1, 17, 99, 131, 132], [1, 10, 15, 44, 60, 99, 119, 132, 133], [1, 41, 73, 81, 114, 119], [1, 99, 122], [], [], [99, 142], [91], [], [], [115], [115], [17], [22, 49, 115, 148, 159], [], [], [6, 27, 33, 51, 52, 57, 77, 91], [2, 38, 58, 89, 99, 104, 143, 158], [123, 130, 147, 157], [89, 123], [131, 132], [16], [2, 5, 45, 78, 105, 147, 159], [66, 91, 145], [], [], [27, 49, 66, 110], [140, 154], [38, 89], [12, 104], [118, 130, 141, 145, 154], [], [98, 121], [], [], [1, 115, 118, 145, 169], [1, 24, 31, 66, 115, 162], [1, 20, 26, 27, 34, 45, 63, 96, 99, 100, 119, 141], [1, 10, 99, 150], [36, 75, 131, 141, 152], [41, 43, 81, 124, 148], [1, 20, 27, 99, 107, 113, 119, 166], [1, 115, 132], [24, 34, 35, 61, 103, 121, 137, 152], [2, 6, 36, 79, 98, 108, 118, 127, 131, 161], [26, 45, 61, 86, 99, 147], [86, 132], [12, 117, 121, 129, 145, 155, 161, 169], [], [], [], [145, 167], [16, 84, 143], [], [1, 36, 61, 66, 115, 143, 150], [75, 87, 157], [7, 26, 31, 97, 103], [26, 73, 74, 89, 100, 137], [], [1, 26, 67, 91, 168], [1, 17, 33, 36, 37, 93, 131, 132, 134], [], [10, 25, 34, 51, 73, 93, 140, 143, 161], [99], [66, 118, 125], [], [26, 99, 137], [5, 48, 75, 92], [66, 74, 145], [17, 67, 84, 99, 131, 132, 138], [], [69, 130, 155], [31, 34, 38, 61, 93, 130, 143, 144, 150, 162], [], [44, 45, 133], [1, 10, 19, 42, 99, 129], [], [2, 19, 99, 131, 142, 143, 149], [1, 48, 73, 81], [1, 6, 10, 15, 36], [10, 24, 26, 37, 99, 104, 131, 141, 148], [39], [], [1, 28, 69, 105, 106, 121, 131, 157, 163], [123], [1, 26, 119], [16, 63, 66, 95, 99, 164], [44, 130, 143], [39, 99, 118], [58, 99, 131, 143], [45, 73, 96, 103, 148], [67, 143, 157, 164], [1, 9, 33, 39, 59, 80, 118, 119, 132, 143], [1, 61, 67, 104, 143, 148], [96, 115, 145], [1, 115, 147], [15, 75, 155, 162], [1], [1, 10, 12, 66, 145, 150], [1, 15, 39, 75, 82, 109, 129, 130], [115, 145, 162, 167], [66, 105, 115, 131, 145], [61], [1, 10, 27, 52, 61, 66, 99, 123, 143, 150], [36, 117, 119, 132], [], [61, 115], [1, 10, 25, 59, 60, 95, 99, 108], [36, 57, 131], [1, 36, 61, 66, 93, 115, 129, 131, 140, 145, 151], [145, 166], [0, 8, 81, 97, 119, 148, 157], [6, 66, 99, 168], [97, 105, 130], [1, 17, 73], [10, 26, 105, 147, 162], [1, 5, 49], [19, 36, 84, 118], [1, 70, 84, 90, 104, 115], [75, 84, 99], [10, 25, 75], [108], [5, 22, 80, 97, 99], [1, 22, 67, 120, 126, 143, 146, 163], [45, 81, 91, 99, 131], [22, 24, 117, 118], [48, 93, 147, 159], [15, 115], [1, 25, 84, 89, 150], [], [1, 22, 24, 161, 162], [10, 17, 106, 149, 162], [46], [15, 49, 101, 115, 150], [1], [1, 31, 36, 59, 131, 133], [143, 162], [31, 101, 144], [20, 66, 77, 94, 117, 118], [1, 22, 24, 36, 43, 78, 99, 129, 132, 152], [1, 155], [27, 61, 66, 76, 86, 99, 140, 149], [36, 66, 78, 89], [0], [58, 119, 126, 132, 143], [76, 126, 132], [19, 24, 33, 63, 99, 148], [1, 22, 24, 31, 36, 42, 59, 69, 147, 159], [27, 33, 34, 38, 58, 76, 93, 140, 144], [99, 147], [67, 99], [91], [], [6, 150, 164], [9, 16, 34, 59, 61, 106], [2, 6, 42, 97, 119, 130, 131, 143, 148, 159, 162, 166], [], [6, 10, 27, 34, 89, 122, 140], [99], [12, 38, 99, 108, 121, 161], [], [1, 22], [22, 24, 36, 39, 74, 115, 120], [99], [1, 2, 115, 169], [61, 73, 149, 166], [], [34, 45, 63, 73, 76, 86, 109, 166], [], [66, 149], [10, 16, 17, 33, 45, 120, 131, 140, 149], [56, 68, 69, 108, 120, 132], [27, 63, 162], [26, 30, 34, 61, 73, 75, 82, 89, 99, 120, 130, 140, 163], [1, 10, 42, 75, 122, 123, 131, 162], [16, 24, 45, 61, 99, 118, 143, 152], [34, 73, 123], [37, 74, 131], [], [27, 34, 38, 45, 60, 61, 66, 99, 149], [1, 16, 66, 67, 122, 131], [], [2, 24, 27, 89, 120, 131, 132], [26, 59, 69, 99, 104, 118], [2, 99, 131, 163], [104, 143, 155], [1, 75, 79, 91, 143, 162], [], [34, 45, 99, 120, 123, 149, 150], [31, 33, 99, 101, 131, 150], [35, 75, 131, 132, 138, 144], [1, 31, 35, 45, 59, 77, 99, 143, 148], [1], [66, 84, 101, 131, 132], [33, 131, 147], [17, 33, 60], [73, 93, 99, 130, 161], [1, 5, 37, 59, 115, 131], [131, 143], [99, 110, 119, 158], [1, 2, 24, 33, 37, 42, 70, 80, 89, 119, 131, 162], [16, 61, 81, 143, 156], [10, 24, 27, 34, 37, 61, 89, 100, 142], [58, 93, 123, 130], [61, 67, 89, 150, 152, 164], [10, 94, 99, 121, 123], [108, 149], [38, 99, 123, 131, 143], [26, 108], [1, 9, 61, 73, 93, 128, 130, 143, 155, 161], [17, 24, 33, 36, 37, 67, 78, 93, 119, 131, 132], [], [33, 36, 61, 99, 143], [31, 99, 118], [10, 31, 61, 69, 99, 131, 155], [1, 8, 115, 145, 167], [24, 97, 99, 123, 131, 132, 158], [45, 96, 108, 119, 147], [], [35, 99, 107, 142], [94, 99, 123], [36, 89, 168], [30, 89, 93, 94, 99, 123, 130, 143, 158], [99, 110, 119, 158], [27, 67, 99, 134, 143], [60, 99, 130, 137, 143, 147], [38, 45, 61, 62, 70, 98, 99, 105, 123, 131, 150, 155], [6, 10, 24, 99, 108, 144, 147, 150, 152], [73, 93, 99, 149, 152], [59, 60, 99, 108, 123, 127], [1, 10, 42, 45, 46, 66, 70, 80, 100, 106, 108, 118, 119, 147, 149, 155, 162], [60, 110, 123, 158], [2, 61, 89, 132, 137, 143, 150], [10, 57, 100, 124, 149], [40, 82], [], [31, 78, 93, 99], [45], [34, 39, 61, 130], [37, 67, 73, 132, 150], [], [34, 61, 73, 93, 99, 110, 150, 155], [1, 97, 115, 152], [20, 61, 103, 143], [34, 45, 51, 61, 62, 93, 110, 120, 124, 130], [34, 86, 99], [], [139], [15, 99], [40, 99], [27, 45, 61, 132], [], [], [], [131, 148], [33, 100, 131, 132, 143, 150], [1, 2, 18, 37, 96, 117, 118], [102], [1, 24, 37, 49, 99, 143, 148, 149], [34, 73, 82, 94, 120, 130], [74], [15, 81, 143], [26, 77, 117, 130, 140], [], [1, 16, 38, 128, 164], [1, 10, 19, 36, 81, 98, 143, 150], [1, 45, 61, 75, 81, 99, 109, 119, 131, 138, 143, 147, 148, 162], [1, 16, 61, 131], [], [2, 31, 52, 78, 149], [60, 62, 123, 162], [147], [], [10, 24, 45, 99, 115, 119, 131, 166], [], [24, 36, 40, 114, 132], [10, 18, 19, 22, 33, 99, 128, 131, 132, 142], [76], [16, 45, 59, 109, 119, 148], [], [], [1, 27, 61, 89, 143], [1, 22, 24, 61, 99, 115, 117, 124, 132, 145, 149, 150, 151, 167], [37, 115, 128, 145, 169], [17, 24, 36, 58, 75, 99, 109], [96, 99, 101, 142], [], [], [7, 31, 162], [], [10, 36, 99, 105], [], [0, 31, 34, 37, 38, 45, 61, 90, 97, 115, 130, 143, 151, 167], [34, 44, 93, 99, 105, 130, 143], [0, 17, 36, 45, 61, 93, 103, 155], [10, 31, 45, 49, 61, 77, 118], [], [7, 26, 34, 52, 75, 89, 99, 120, 161], [1, 26, 66, 130, 140, 155], [17, 36, 89, 100, 133, 143], [1, 16, 22, 31, 37, 44, 61, 75, 132, 145, 147, 148, 150, 159, 162, 167], [31, 36, 61, 131, 138, 143, 144], [1, 17, 26, 99, 115, 131, 132, 143], [1, 2, 99, 148], [20, 61], [31, 36, 99, 131, 149], [1, 94, 97, 120, 128, 131, 143], [25, 26, 34, 44, 46, 61, 69], [], [1, 34, 40, 125, 126, 130, 149], [17, 41, 99, 132, 134], [17, 36, 99, 120, 131], [1, 34, 40, 130, 149], [26, 143], [18, 32, 34, 59, 129, 130], [34, 61, 73, 89, 131], [9, 126, 150], [22, 99, 142], [97, 99, 111, 115, 162], [37, 86], [17, 36, 99, 131, 132, 143], [], [2, 108, 121, 130, 168], [10, 94, 96, 100, 105, 127, 149, 162], [], [115], [2, 22, 27, 61, 99, 126, 150], [15, 19, 45, 132, 143], [1, 10, 99, 134], [1, 34, 36, 130], [1, 39, 103, 129, 151], [36, 101], [24, 36, 74, 75, 95, 99, 131, 132, 142, 147, 148, 157], [36, 37, 39, 75], [1, 39, 43], [1, 34, 45, 119, 130], [], [], [30, 36], [], [], [1, 93, 134], [22, 36, 145], [24, 99, 132, 143, 158], [1, 99, 100, 148], [], [10, 27, 61, 73, 89, 99, 120, 121, 131, 143], [10, 27, 34, 79, 89, 130, 152], [26, 27, 89], [19, 20, 27, 44, 131], [118], [32, 39, 57, 70, 74, 89, 98, 99, 119, 120, 155], [78, 99, 148], [1, 34, 37, 99, 130, 164], [10, 17, 33, 131, 143, 166], [5, 76, 150], [73, 77, 89, 99, 112, 131], [36, 101, 154], [], [31, 89, 99], [106, 114], [], [1, 36, 59, 86, 115, 137, 145, 151, 155], [42, 79, 162], [17, 41, 75, 105, 115, 117, 119, 155, 162], [20, 49, 66, 93], [24, 36, 45, 51, 117, 119, 141, 143, 151, 156], [2, 32, 99, 143, 155], [38, 41, 45, 61, 77, 131, 134, 150, 162], [10, 16, 17, 36, 61, 86, 92, 99, 131, 132, 143], [24, 30, 61, 67, 120, 132, 143], [34, 108], [132, 168], [49, 130, 155], [15, 45, 46, 81, 129, 150], [39, 134, 143, 148], [84, 115, 132], [1, 115], [34, 45, 75, 97, 128], [], [15, 74, 124, 155], [36, 39, 70, 97, 148], [35, 45, 63, 99, 100, 150], [9, 95, 133, 149], [20, 26, 31, 99, 155], [1, 9, 31, 42, 61, 78, 95, 149], [37, 67, 102], [42, 130, 131], [1, 26, 36, 48, 131, 136, 149, 155], [], [1, 40, 73, 131], [59, 77, 99, 143], [1, 19, 36], [99, 136, 142], [2, 34, 61, 62, 99, 108, 126, 163], [36, 144], [1, 31, 36, 61, 81, 99, 104, 131, 132, 134], [49, 62, 81], [36], [0, 1, 2, 6, 130], [147, 149, 158], [36, 129, 131, 148], [45, 61, 127, 145, 155, 157, 169], [1, 5, 162], [98, 115, 161], [1, 27, 30, 32, 51, 81, 89, 129, 143, 149], [67, 81, 99, 152], [8, 38, 144, 165], [1, 6, 99, 149], [1, 2, 6, 19, 37, 39, 167], [9, 66, 108, 157, 168], [1, 15, 43, 67, 99, 134], [30, 36, 44, 89, 110, 118, 155], [1, 19, 20, 24, 52, 100, 131], [], [10, 78, 93, 154], [], [], [], [1, 12, 24, 37, 66, 129], [1, 26, 38, 46, 61, 73, 99], [17, 24, 31, 41, 86, 99, 134, 152], [24, 33, 99, 105, 114, 150, 153], [24, 31, 36, 99, 143, 152, 153], [], [1, 42, 100], [132, 137], [58, 84, 115, 132], [58, 90, 100], [58, 137], [1, 6, 43, 45, 100, 161], [1, 10, 45, 61, 81, 100, 143, 161], [75, 99, 101, 142]]\n"
     ]
    }
   ],
   "source": [
    "# TODO: 모든 맥주에 대해서 맥주가 가진 사전 단어의 인덱스 리스트를 형성\n",
    "print(tokenizedDescriptions)\n",
    "wordIndicesOfDescription = []\n",
    "for wordsOfDescription in tokenizedDescriptions:\n",
    "\twordIndices = [idx for idx, word in enumerate(wordLexicon) if word in wordsOfDescription]\n",
    "\twordIndicesOfDescription.append(wordIndices)\n",
    "print(wordIndicesOfDescription)\n"
   ]
  },
  {
   "cell_type": "markdown",
   "metadata": {},
   "source": [
    "꽤나 많은 문장들이 **빈 리스트**를 갖고 있고 **단어가 하나인 문장**들은 학습에 쓰이지 못한다.\n",
    "\n",
    "일단 하나 이상의 단어를 가진 맥주의 설명에서, **맥주 하나가 가지는 단어들은 유사한 단어**라고 생각하고 각 단어의 페어를 만든다. 이어 Autoencoder 구조를 만들어서 학습시킨다."
   ]
  },
  {
   "cell_type": "code",
   "execution_count": 22,
   "metadata": {},
   "outputs": [],
   "source": [
    "# TODO: 맥주가 가진 단어들의 인덱스의 크기 2짜리 순서쌍을 생성한다."
   ]
  },
  {
   "cell_type": "code",
   "execution_count": 23,
   "metadata": {},
   "outputs": [],
   "source": [
    "# TODO: Autoencoder 구조 생성"
   ]
  },
  {
   "cell_type": "code",
   "execution_count": 24,
   "metadata": {},
   "outputs": [],
   "source": [
    "# TODO: 학습"
   ]
  },
  {
   "cell_type": "code",
   "execution_count": 25,
   "metadata": {},
   "outputs": [],
   "source": [
    "# TODO: Embedding matrix를 통해 모든 단어들의 임베딩 벡터를 구함"
   ]
  },
  {
   "cell_type": "code",
   "execution_count": 26,
   "metadata": {},
   "outputs": [],
   "source": [
    "# TODO: 맥주의 임베딩 벡터를 구함, 맥주가 가진 단어 임베딩 벡터의 평균을 맥주의 임베딩 벡터로 본다."
   ]
  },
  {
   "cell_type": "code",
   "execution_count": 27,
   "metadata": {},
   "outputs": [],
   "source": [
    "# TODO: 맥주의 임베딩 벡터 저장"
   ]
  }
 ],
 "metadata": {
  "interpreter": {
   "hash": "af5f53ab177b1622a14324d8812e84f4794c66b055eb7150ff98cdbf615623fe"
  },
  "kernelspec": {
   "display_name": "Python 3.9.7 ('RecommenderSystem')",
   "language": "python",
   "name": "python3"
  },
  "language_info": {
   "codemirror_mode": {
    "name": "ipython",
    "version": 3
   },
   "file_extension": ".py",
   "mimetype": "text/x-python",
   "name": "python",
   "nbconvert_exporter": "python",
   "pygments_lexer": "ipython3",
   "version": "3.9.7"
  },
  "orig_nbformat": 4
 },
 "nbformat": 4,
 "nbformat_minor": 2
}
