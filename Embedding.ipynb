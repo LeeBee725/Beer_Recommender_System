{
 "cells": [
  {
   "cell_type": "markdown",
   "metadata": {},
   "source": [
    "# Embedding\n",
    "\n",
    "##\n",
    "\n",
    "### 2022-1 RecommenderSystem Project\n",
    "\n",
    "#### Enviroment\n",
    "- python ->\t3.9.7\n",
    "- pandas ->\t1.4.1\n",
    "- numpy ->\t1.21.5\n",
    "- nltk ->\t3.7\n",
    "\n",
    "#### Data\n",
    "- beer_reviews.csv (https://www.kaggle.com/datasets/rdoume/beerreviews)\n",
    "\n",
    "#### Author\n",
    "- Lee Junhee\n",
    "\n",
    "---"
   ]
  },
  {
   "cell_type": "markdown",
   "metadata": {},
   "source": [
    "#### 데이터 살피기\n",
    "\n",
    "필요한 패키지를 추가한다."
   ]
  },
  {
   "cell_type": "code",
   "execution_count": 1,
   "metadata": {},
   "outputs": [],
   "source": [
    "import pandas as pd\n",
    "import numpy as np\n",
    "\n",
    "import matplotlib.pyplot as plt\n",
    "\n",
    "# 자연어 처리 라이브러리 토큰화를 위해 사용\n",
    "import nltk\n",
    "# nltk.tokenize.word_tokenize 함수를 사용하기 위해 주석을 해제하여 실행해야한다.\n",
    "# nltk.download('punkt')\n",
    "\n",
    "# 불용어를 위해 쓰이는 라이브러리\n",
    "import requests\n",
    "import re"
   ]
  },
  {
   "cell_type": "markdown",
   "metadata": {},
   "source": [
    "CSV 파일에서 데이터를 읽어 온다."
   ]
  },
  {
   "cell_type": "code",
   "execution_count": 2,
   "metadata": {},
   "outputs": [],
   "source": [
    "dataTypeDict = {}\n",
    "beers = pd.read_csv(\"./data/merged_data.csv\")"
   ]
  },
  {
   "cell_type": "markdown",
   "metadata": {},
   "source": [
    "상위의 데이터를 살펴본다."
   ]
  },
  {
   "cell_type": "code",
   "execution_count": 3,
   "metadata": {},
   "outputs": [
    {
     "data": {
      "text/html": [
       "<div>\n",
       "<style scoped>\n",
       "    .dataframe tbody tr th:only-of-type {\n",
       "        vertical-align: middle;\n",
       "    }\n",
       "\n",
       "    .dataframe tbody tr th {\n",
       "        vertical-align: top;\n",
       "    }\n",
       "\n",
       "    .dataframe thead th {\n",
       "        text-align: right;\n",
       "    }\n",
       "</style>\n",
       "<table border=\"1\" class=\"dataframe\">\n",
       "  <thead>\n",
       "    <tr style=\"text-align: right;\">\n",
       "      <th></th>\n",
       "      <th>Unnamed: 0</th>\n",
       "      <th>brewery_id</th>\n",
       "      <th>brewery_name</th>\n",
       "      <th>review_time</th>\n",
       "      <th>review_overall</th>\n",
       "      <th>review_aroma</th>\n",
       "      <th>review_appearance</th>\n",
       "      <th>review_profilename</th>\n",
       "      <th>beer_style</th>\n",
       "      <th>review_palate</th>\n",
       "      <th>review_taste</th>\n",
       "      <th>beer_name</th>\n",
       "      <th>beer_abv</th>\n",
       "      <th>beer_beerid</th>\n",
       "      <th>Description</th>\n",
       "    </tr>\n",
       "  </thead>\n",
       "  <tbody>\n",
       "    <tr>\n",
       "      <th>0</th>\n",
       "      <td>10</td>\n",
       "      <td>163</td>\n",
       "      <td>Amstel Brouwerij B. V.</td>\n",
       "      <td>1010963392</td>\n",
       "      <td>3.0</td>\n",
       "      <td>2.0</td>\n",
       "      <td>3.0</td>\n",
       "      <td>fodeeoz</td>\n",
       "      <td>Light Lager</td>\n",
       "      <td>2.5</td>\n",
       "      <td>2.5</td>\n",
       "      <td>Amstel Light</td>\n",
       "      <td>3.5</td>\n",
       "      <td>436</td>\n",
       "      <td>ABV in the USA is 4.1%\\t</td>\n",
       "    </tr>\n",
       "    <tr>\n",
       "      <th>1</th>\n",
       "      <td>18</td>\n",
       "      <td>163</td>\n",
       "      <td>Amstel Brouwerij B. V.</td>\n",
       "      <td>1010861086</td>\n",
       "      <td>2.5</td>\n",
       "      <td>3.0</td>\n",
       "      <td>3.0</td>\n",
       "      <td>jdhilt</td>\n",
       "      <td>Light Lager</td>\n",
       "      <td>2.0</td>\n",
       "      <td>2.0</td>\n",
       "      <td>Amstel Light</td>\n",
       "      <td>3.5</td>\n",
       "      <td>436</td>\n",
       "      <td>ABV in the USA is 4.1%\\t</td>\n",
       "    </tr>\n",
       "    <tr>\n",
       "      <th>2</th>\n",
       "      <td>30</td>\n",
       "      <td>163</td>\n",
       "      <td>Amstel Brouwerij B. V.</td>\n",
       "      <td>1002109880</td>\n",
       "      <td>3.0</td>\n",
       "      <td>2.0</td>\n",
       "      <td>2.0</td>\n",
       "      <td>xXTequila</td>\n",
       "      <td>Light Lager</td>\n",
       "      <td>2.0</td>\n",
       "      <td>3.0</td>\n",
       "      <td>Amstel Light</td>\n",
       "      <td>3.5</td>\n",
       "      <td>436</td>\n",
       "      <td>ABV in the USA is 4.1%\\t</td>\n",
       "    </tr>\n",
       "    <tr>\n",
       "      <th>3</th>\n",
       "      <td>40</td>\n",
       "      <td>163</td>\n",
       "      <td>Amstel Brouwerij B. V.</td>\n",
       "      <td>988202869</td>\n",
       "      <td>3.0</td>\n",
       "      <td>3.0</td>\n",
       "      <td>3.0</td>\n",
       "      <td>Brent</td>\n",
       "      <td>Light Lager</td>\n",
       "      <td>2.0</td>\n",
       "      <td>2.0</td>\n",
       "      <td>Amstel Light</td>\n",
       "      <td>3.5</td>\n",
       "      <td>436</td>\n",
       "      <td>ABV in the USA is 4.1%\\t</td>\n",
       "    </tr>\n",
       "    <tr>\n",
       "      <th>4</th>\n",
       "      <td>750</td>\n",
       "      <td>163</td>\n",
       "      <td>Amstel Brouwerij B. V.</td>\n",
       "      <td>1264904623</td>\n",
       "      <td>3.5</td>\n",
       "      <td>2.5</td>\n",
       "      <td>3.5</td>\n",
       "      <td>brownbeer</td>\n",
       "      <td>Light Lager</td>\n",
       "      <td>3.0</td>\n",
       "      <td>3.0</td>\n",
       "      <td>Amstel Light</td>\n",
       "      <td>3.5</td>\n",
       "      <td>436</td>\n",
       "      <td>ABV in the USA is 4.1%\\t</td>\n",
       "    </tr>\n",
       "  </tbody>\n",
       "</table>\n",
       "</div>"
      ],
      "text/plain": [
       "   Unnamed: 0  brewery_id            brewery_name  review_time  \\\n",
       "0          10         163  Amstel Brouwerij B. V.   1010963392   \n",
       "1          18         163  Amstel Brouwerij B. V.   1010861086   \n",
       "2          30         163  Amstel Brouwerij B. V.   1002109880   \n",
       "3          40         163  Amstel Brouwerij B. V.    988202869   \n",
       "4         750         163  Amstel Brouwerij B. V.   1264904623   \n",
       "\n",
       "   review_overall  review_aroma  review_appearance review_profilename  \\\n",
       "0             3.0           2.0                3.0            fodeeoz   \n",
       "1             2.5           3.0                3.0             jdhilt   \n",
       "2             3.0           2.0                2.0          xXTequila   \n",
       "3             3.0           3.0                3.0              Brent   \n",
       "4             3.5           2.5                3.5          brownbeer   \n",
       "\n",
       "    beer_style  review_palate  review_taste     beer_name  beer_abv  \\\n",
       "0  Light Lager            2.5           2.5  Amstel Light       3.5   \n",
       "1  Light Lager            2.0           2.0  Amstel Light       3.5   \n",
       "2  Light Lager            2.0           3.0  Amstel Light       3.5   \n",
       "3  Light Lager            2.0           2.0  Amstel Light       3.5   \n",
       "4  Light Lager            3.0           3.0  Amstel Light       3.5   \n",
       "\n",
       "   beer_beerid               Description  \n",
       "0          436  ABV in the USA is 4.1%\\t  \n",
       "1          436  ABV in the USA is 4.1%\\t  \n",
       "2          436  ABV in the USA is 4.1%\\t  \n",
       "3          436  ABV in the USA is 4.1%\\t  \n",
       "4          436  ABV in the USA is 4.1%\\t  "
      ]
     },
     "execution_count": 3,
     "metadata": {},
     "output_type": "execute_result"
    }
   ],
   "source": [
    "beers.head()"
   ]
  },
  {
   "cell_type": "markdown",
   "metadata": {},
   "source": [
    "하위의 데이터를 살펴본다."
   ]
  },
  {
   "cell_type": "code",
   "execution_count": 4,
   "metadata": {},
   "outputs": [
    {
     "data": {
      "text/html": [
       "<div>\n",
       "<style scoped>\n",
       "    .dataframe tbody tr th:only-of-type {\n",
       "        vertical-align: middle;\n",
       "    }\n",
       "\n",
       "    .dataframe tbody tr th {\n",
       "        vertical-align: top;\n",
       "    }\n",
       "\n",
       "    .dataframe thead th {\n",
       "        text-align: right;\n",
       "    }\n",
       "</style>\n",
       "<table border=\"1\" class=\"dataframe\">\n",
       "  <thead>\n",
       "    <tr style=\"text-align: right;\">\n",
       "      <th></th>\n",
       "      <th>Unnamed: 0</th>\n",
       "      <th>brewery_id</th>\n",
       "      <th>brewery_name</th>\n",
       "      <th>review_time</th>\n",
       "      <th>review_overall</th>\n",
       "      <th>review_aroma</th>\n",
       "      <th>review_appearance</th>\n",
       "      <th>review_profilename</th>\n",
       "      <th>beer_style</th>\n",
       "      <th>review_palate</th>\n",
       "      <th>review_taste</th>\n",
       "      <th>beer_name</th>\n",
       "      <th>beer_abv</th>\n",
       "      <th>beer_beerid</th>\n",
       "      <th>Description</th>\n",
       "    </tr>\n",
       "  </thead>\n",
       "  <tbody>\n",
       "    <tr>\n",
       "      <th>452949</th>\n",
       "      <td>1683163</td>\n",
       "      <td>14359</td>\n",
       "      <td>The Defiant Brewing Company</td>\n",
       "      <td>1175746381</td>\n",
       "      <td>3.5</td>\n",
       "      <td>4.0</td>\n",
       "      <td>4.0</td>\n",
       "      <td>maddogruss</td>\n",
       "      <td>American IPA</td>\n",
       "      <td>4.0</td>\n",
       "      <td>4.0</td>\n",
       "      <td>India Pale Ale</td>\n",
       "      <td>6.2</td>\n",
       "      <td>35185</td>\n",
       "      <td>This ale is traditionally highly hopped and ro...</td>\n",
       "    </tr>\n",
       "    <tr>\n",
       "      <th>452950</th>\n",
       "      <td>1683164</td>\n",
       "      <td>14359</td>\n",
       "      <td>The Defiant Brewing Company</td>\n",
       "      <td>1171081089</td>\n",
       "      <td>4.0</td>\n",
       "      <td>4.5</td>\n",
       "      <td>4.0</td>\n",
       "      <td>dherling</td>\n",
       "      <td>American IPA</td>\n",
       "      <td>4.0</td>\n",
       "      <td>4.5</td>\n",
       "      <td>India Pale Ale</td>\n",
       "      <td>6.2</td>\n",
       "      <td>35185</td>\n",
       "      <td>Green Man India Pale Ale is delectably hoppy w...</td>\n",
       "    </tr>\n",
       "    <tr>\n",
       "      <th>452951</th>\n",
       "      <td>1683165</td>\n",
       "      <td>14359</td>\n",
       "      <td>The Defiant Brewing Company</td>\n",
       "      <td>1171081089</td>\n",
       "      <td>4.0</td>\n",
       "      <td>4.5</td>\n",
       "      <td>4.0</td>\n",
       "      <td>dherling</td>\n",
       "      <td>American IPA</td>\n",
       "      <td>4.0</td>\n",
       "      <td>4.5</td>\n",
       "      <td>India Pale Ale</td>\n",
       "      <td>6.2</td>\n",
       "      <td>35185</td>\n",
       "      <td>This ale is traditionally highly hopped and ro...</td>\n",
       "    </tr>\n",
       "    <tr>\n",
       "      <th>452952</th>\n",
       "      <td>1683166</td>\n",
       "      <td>14359</td>\n",
       "      <td>The Defiant Brewing Company</td>\n",
       "      <td>1170979828</td>\n",
       "      <td>4.0</td>\n",
       "      <td>4.0</td>\n",
       "      <td>4.5</td>\n",
       "      <td>cbl2</td>\n",
       "      <td>American IPA</td>\n",
       "      <td>4.0</td>\n",
       "      <td>4.0</td>\n",
       "      <td>India Pale Ale</td>\n",
       "      <td>6.2</td>\n",
       "      <td>35185</td>\n",
       "      <td>Green Man India Pale Ale is delectably hoppy w...</td>\n",
       "    </tr>\n",
       "    <tr>\n",
       "      <th>452953</th>\n",
       "      <td>1683167</td>\n",
       "      <td>14359</td>\n",
       "      <td>The Defiant Brewing Company</td>\n",
       "      <td>1170979828</td>\n",
       "      <td>4.0</td>\n",
       "      <td>4.0</td>\n",
       "      <td>4.5</td>\n",
       "      <td>cbl2</td>\n",
       "      <td>American IPA</td>\n",
       "      <td>4.0</td>\n",
       "      <td>4.0</td>\n",
       "      <td>India Pale Ale</td>\n",
       "      <td>6.2</td>\n",
       "      <td>35185</td>\n",
       "      <td>This ale is traditionally highly hopped and ro...</td>\n",
       "    </tr>\n",
       "  </tbody>\n",
       "</table>\n",
       "</div>"
      ],
      "text/plain": [
       "        Unnamed: 0  brewery_id                 brewery_name  review_time  \\\n",
       "452949     1683163       14359  The Defiant Brewing Company   1175746381   \n",
       "452950     1683164       14359  The Defiant Brewing Company   1171081089   \n",
       "452951     1683165       14359  The Defiant Brewing Company   1171081089   \n",
       "452952     1683166       14359  The Defiant Brewing Company   1170979828   \n",
       "452953     1683167       14359  The Defiant Brewing Company   1170979828   \n",
       "\n",
       "        review_overall  review_aroma  review_appearance review_profilename  \\\n",
       "452949             3.5           4.0                4.0         maddogruss   \n",
       "452950             4.0           4.5                4.0           dherling   \n",
       "452951             4.0           4.5                4.0           dherling   \n",
       "452952             4.0           4.0                4.5               cbl2   \n",
       "452953             4.0           4.0                4.5               cbl2   \n",
       "\n",
       "          beer_style  review_palate  review_taste       beer_name  beer_abv  \\\n",
       "452949  American IPA            4.0           4.0  India Pale Ale       6.2   \n",
       "452950  American IPA            4.0           4.5  India Pale Ale       6.2   \n",
       "452951  American IPA            4.0           4.5  India Pale Ale       6.2   \n",
       "452952  American IPA            4.0           4.0  India Pale Ale       6.2   \n",
       "452953  American IPA            4.0           4.0  India Pale Ale       6.2   \n",
       "\n",
       "        beer_beerid                                        Description  \n",
       "452949        35185  This ale is traditionally highly hopped and ro...  \n",
       "452950        35185  Green Man India Pale Ale is delectably hoppy w...  \n",
       "452951        35185  This ale is traditionally highly hopped and ro...  \n",
       "452952        35185  Green Man India Pale Ale is delectably hoppy w...  \n",
       "452953        35185  This ale is traditionally highly hopped and ro...  "
      ]
     },
     "execution_count": 4,
     "metadata": {},
     "output_type": "execute_result"
    }
   ],
   "source": [
    "beers.tail()"
   ]
  },
  {
   "cell_type": "markdown",
   "metadata": {},
   "source": [
    "#### Embedding 과정\n",
    "\n",
    "각 맥주들을 표현한 의미있는 Embedding을 위해 Description 값을 이용한다. Description은 맥주의 설명을 적은 문장이므로, 각 문장을 Vector화 한다면 맥주를 표현하는 Embedding vector라 볼 수 있다.\n",
    "\n",
    "Description을 사용하기 전에 임의 데이터의 Description 값을 출력해본다."
   ]
  },
  {
   "cell_type": "code",
   "execution_count": 5,
   "metadata": {},
   "outputs": [
    {
     "name": "stdout",
     "output_type": "stream",
     "text": [
      "beer_name: Amstel Light \n",
      "description: ABV in the USA is 4.1%\t\n",
      "\n",
      "beer_name: India Pale Ale \n",
      "description: Green Man India Pale Ale is delectably hoppy with a properly balanced body. Generous hop additions give it a wonderful bitterness and pleasant floral nose, while our combination of traditional British malts creates a rich, satisfying flavor and alluring copper color. This authentic English-style IPA is our flagship ale.\t\n",
      "\n"
     ]
    }
   ],
   "source": [
    "print(f\"beer_name: { beers['beer_name'].iloc[0] } \\ndescription: {beers['Description'].iloc[0]}\\n\")\n",
    "print(f\"beer_name: { beers['beer_name'].iloc[452952] } \\ndescription: {beers['Description'].iloc[452952]}\\n\")"
   ]
  },
  {
   "cell_type": "markdown",
   "metadata": {},
   "source": [
    "두개의 데이터 중 상위의 데이터(Amstel Light)의 경우는 Description에서 맥주의 특징을 잘 설명하지 않고 있다. 아래의 데이터(India Pale Ale)는 Description에 맥주에 대한 설명히 자세하게 적혀있다.\n",
    "\n",
    "위의 데이터의 경우, Embedding vector를 얻는 것이 힘들어 보이고 아래 데이터의 경우, 적절한 임베딩 벡터를 얻을 수 있을거라 예상한다.\n",
    "\n",
    "임베딩을 위해서 각 문장을 수치화 해야한다. 문장을 수치화 하기 위한 방법으로 **Bag of Words 모델**을 사용하여 단어의 빈도수에 대한 집합으로 나타낸다. nltk 패키지를 사용하였다.\n",
    "\n",
    "위의 과정을 위해 일단 Description을 따로 DataFrame으로 뽑아낸다."
   ]
  },
  {
   "cell_type": "code",
   "execution_count": 6,
   "metadata": {},
   "outputs": [
    {
     "data": {
      "text/plain": [
       "0                                  ABV in the USA is 4.1%\\t\n",
       "1                                  ABV in the USA is 4.1%\\t\n",
       "2                                  ABV in the USA is 4.1%\\t\n",
       "3                                  ABV in the USA is 4.1%\\t\n",
       "4                                  ABV in the USA is 4.1%\\t\n",
       "                                ...                        \n",
       "452949    This ale is traditionally highly hopped and ro...\n",
       "452950    Green Man India Pale Ale is delectably hoppy w...\n",
       "452951    This ale is traditionally highly hopped and ro...\n",
       "452952    Green Man India Pale Ale is delectably hoppy w...\n",
       "452953    This ale is traditionally highly hopped and ro...\n",
       "Name: Description, Length: 452954, dtype: object"
      ]
     },
     "execution_count": 6,
     "metadata": {},
     "output_type": "execute_result"
    }
   ],
   "source": [
    "descriptions = beers[\"Description\"]\n",
    "descriptions"
   ]
  },
  {
   "cell_type": "markdown",
   "metadata": {},
   "source": [
    "Descriptions는 맥주에 대한 사용자들의 평가 데이터에서 가져온 데이터 이기 때문에 중복이 되어 나타난다.\n",
    "\n",
    "맥주에 대한 Description을 Dataframe로 만든다."
   ]
  },
  {
   "cell_type": "code",
   "execution_count": 7,
   "metadata": {},
   "outputs": [
    {
     "name": "stdout",
     "output_type": "stream",
     "text": [
      "                                      beer_descriptions\n",
      "0                              ABV in the USA is 4.1%\\t\n",
      "1     'Oak Aged Imperial Porter Brewed with Chocolat...\n",
      "2                              Formerly In-Heat Wheat\\t\n",
      "3     An authentic example of a Bavarian Hefeweizen....\n",
      "4     Our Hefeweizen is a light, unfiltered wheat be...\n",
      "...                                                 ...\n",
      "1398  Foster is our Black Wheat IPA, brewed with a l...\n",
      "1399  Batch 2: Barrel aged for 18 months in hand sel...\n",
      "1400  Ephraim (1823-1913) was our great-great grandf...\n",
      "1401  James was our Uncle (Edward James Hill Jr.). H...\n",
      "1402  Fear and Trembling is Hill Farmstead’s first c...\n",
      "\n",
      "[1403 rows x 1 columns]\n"
     ]
    }
   ],
   "source": [
    "beer_descriptions = pd.DataFrame(descriptions.unique(), columns=[\"beer_descriptions\"])\n",
    "print(beer_descriptions)"
   ]
  },
  {
   "cell_type": "markdown",
   "metadata": {},
   "source": [
    "각 Description을 단어로 토큰화 한다."
   ]
  },
  {
   "cell_type": "code",
   "execution_count": 8,
   "metadata": {},
   "outputs": [
    {
     "name": "stdout",
     "output_type": "stream",
     "text": [
      "[list(['ABV', 'in', 'the', 'USA', 'is', '4.1', '%'])\n",
      " list([\"'Oak\", 'Aged', 'Imperial', 'Porter', 'Brewed', 'with', \"Chocolate'Caldera\", 'Kettle', 'SeriesJune', '2011', '-', 'first', 'release', 'in', 'waxed', '22', 'oz', '.', 'bottles'])\n",
      " list(['Formerly', 'In-Heat', 'Wheat'])]\n"
     ]
    }
   ],
   "source": [
    "tokenized_descriptions = beer_descriptions[\"beer_descriptions\"].apply(nltk.tokenize.word_tokenize).to_numpy()\n",
    "# 3개만 출력\n",
    "print(tokenized_descriptions[:3])"
   ]
  },
  {
   "cell_type": "markdown",
   "metadata": {},
   "source": [
    "토큰화된 단어들을 하나의 리스트로 만든다. 그리고 중복된 단어들을 지운 단어의 집합을 만든다. 모든 단어들은 소문자화 한다."
   ]
  },
  {
   "cell_type": "code",
   "execution_count": 9,
   "metadata": {},
   "outputs": [
    {
     "name": "stdout",
     "output_type": "stream",
     "text": [
      "Number of words: 87896\n",
      "Number of unique words: 9674\n"
     ]
    }
   ],
   "source": [
    "all_words = np.concatenate(tokenized_descriptions)\n",
    "lower_case = lambda word: str.lower(word)\n",
    "all_words = [lower_case(word) for word in all_words]\n",
    "words = set(all_words)\n",
    "print(f\"Number of words: {len(all_words)}\")\n",
    "print(f\"Number of unique words: {len(words)}\")\n"
   ]
  },
  {
   "cell_type": "markdown",
   "metadata": {},
   "source": [
    "고유한 한 가지 단어가 나온 빈도수를 값으로 갖는 DataFrame를 만든다."
   ]
  },
  {
   "cell_type": "code",
   "execution_count": 10,
   "metadata": {},
   "outputs": [
    {
     "data": {
      "text/html": [
       "<div>\n",
       "<style scoped>\n",
       "    .dataframe tbody tr th:only-of-type {\n",
       "        vertical-align: middle;\n",
       "    }\n",
       "\n",
       "    .dataframe tbody tr th {\n",
       "        vertical-align: top;\n",
       "    }\n",
       "\n",
       "    .dataframe thead th {\n",
       "        text-align: right;\n",
       "    }\n",
       "</style>\n",
       "<table border=\"1\" class=\"dataframe\">\n",
       "  <thead>\n",
       "    <tr style=\"text-align: right;\">\n",
       "      <th></th>\n",
       "      <th>counts</th>\n",
       "    </tr>\n",
       "  </thead>\n",
       "  <tbody>\n",
       "    <tr>\n",
       "      <th>fruitinessflavor</th>\n",
       "      <td>1</td>\n",
       "    </tr>\n",
       "    <tr>\n",
       "      <th>144carbohydrates</th>\n",
       "      <td>1</td>\n",
       "    </tr>\n",
       "    <tr>\n",
       "      <th>independent™</th>\n",
       "      <td>1</td>\n",
       "    </tr>\n",
       "    <tr>\n",
       "      <th>ark</th>\n",
       "      <td>1</td>\n",
       "    </tr>\n",
       "    <tr>\n",
       "      <th>spend</th>\n",
       "      <td>3</td>\n",
       "    </tr>\n",
       "    <tr>\n",
       "      <th>simple</th>\n",
       "      <td>3</td>\n",
       "    </tr>\n",
       "    <tr>\n",
       "      <th>bucks</th>\n",
       "      <td>1</td>\n",
       "    </tr>\n",
       "    <tr>\n",
       "      <th>two-year</th>\n",
       "      <td>2</td>\n",
       "    </tr>\n",
       "    <tr>\n",
       "      <th>ask</th>\n",
       "      <td>2</td>\n",
       "    </tr>\n",
       "    <tr>\n",
       "      <th>germanic</th>\n",
       "      <td>1</td>\n",
       "    </tr>\n",
       "  </tbody>\n",
       "</table>\n",
       "</div>"
      ],
      "text/plain": [
       "                  counts\n",
       "fruitinessflavor       1\n",
       "144carbohydrates       1\n",
       "independent™           1\n",
       "ark                    1\n",
       "spend                  3\n",
       "simple                 3\n",
       "bucks                  1\n",
       "two-year               2\n",
       "ask                    2\n",
       "germanic               1"
      ]
     },
     "execution_count": 10,
     "metadata": {},
     "output_type": "execute_result"
    }
   ],
   "source": [
    "word_counts = dict.fromkeys(words, 0)\n",
    "for word in all_words:\n",
    "\tword_counts[word] += 1\n",
    "\n",
    "word_counts = pd.DataFrame.from_dict(word_counts, orient='index', columns=[\"counts\"])\n",
    "word_counts.head(10)"
   ]
  },
  {
   "cell_type": "markdown",
   "metadata": {},
   "source": [
    "영어 불용어를 삭제한다. 불용어는 이미 만들어진 것을 가져와 사용했다."
   ]
  },
  {
   "cell_type": "code",
   "execution_count": 11,
   "metadata": {},
   "outputs": [
    {
     "data": {
      "text/html": [
       "<div>\n",
       "<style scoped>\n",
       "    .dataframe tbody tr th:only-of-type {\n",
       "        vertical-align: middle;\n",
       "    }\n",
       "\n",
       "    .dataframe tbody tr th {\n",
       "        vertical-align: top;\n",
       "    }\n",
       "\n",
       "    .dataframe thead th {\n",
       "        text-align: right;\n",
       "    }\n",
       "</style>\n",
       "<table border=\"1\" class=\"dataframe\">\n",
       "  <thead>\n",
       "    <tr style=\"text-align: right;\">\n",
       "      <th></th>\n",
       "      <th>counts</th>\n",
       "    </tr>\n",
       "  </thead>\n",
       "  <tbody>\n",
       "    <tr>\n",
       "      <th>fruitinessflavor</th>\n",
       "      <td>1</td>\n",
       "    </tr>\n",
       "    <tr>\n",
       "      <th>144carbohydrates</th>\n",
       "      <td>1</td>\n",
       "    </tr>\n",
       "    <tr>\n",
       "      <th>independent™</th>\n",
       "      <td>1</td>\n",
       "    </tr>\n",
       "    <tr>\n",
       "      <th>ark</th>\n",
       "      <td>1</td>\n",
       "    </tr>\n",
       "    <tr>\n",
       "      <th>spend</th>\n",
       "      <td>3</td>\n",
       "    </tr>\n",
       "    <tr>\n",
       "      <th>...</th>\n",
       "      <td>...</td>\n",
       "    </tr>\n",
       "    <tr>\n",
       "      <th>royal</th>\n",
       "      <td>2</td>\n",
       "    </tr>\n",
       "    <tr>\n",
       "      <th>edward</th>\n",
       "      <td>2</td>\n",
       "    </tr>\n",
       "    <tr>\n",
       "      <th>maturity</th>\n",
       "      <td>1</td>\n",
       "    </tr>\n",
       "    <tr>\n",
       "      <th>lord</th>\n",
       "      <td>2</td>\n",
       "    </tr>\n",
       "    <tr>\n",
       "      <th>august</th>\n",
       "      <td>5</td>\n",
       "    </tr>\n",
       "  </tbody>\n",
       "</table>\n",
       "<p>9133 rows × 1 columns</p>\n",
       "</div>"
      ],
      "text/plain": [
       "                  counts\n",
       "fruitinessflavor       1\n",
       "144carbohydrates       1\n",
       "independent™           1\n",
       "ark                    1\n",
       "spend                  3\n",
       "...                  ...\n",
       "royal                  2\n",
       "edward                 2\n",
       "maturity               1\n",
       "lord                   2\n",
       "august                 5\n",
       "\n",
       "[9133 rows x 1 columns]"
      ]
     },
     "execution_count": 11,
     "metadata": {},
     "output_type": "execute_result"
    }
   ],
   "source": [
    "stopwords_list = requests.get(\"https://gist.githubusercontent.com/rg089/35e00abf8941d72d419224cfd5b5925d/raw/12d899b70156fd0041fa9778d657330b024b959c/stopwords.txt\").content\n",
    "stopwords = set(stopwords_list.decode().splitlines()) \n",
    "\n",
    "for index in word_counts.index:\n",
    "\tif index in stopwords:\n",
    "\t\tword_counts = word_counts.drop(index)\n",
    "\n",
    "word_counts"
   ]
  },
  {
   "cell_type": "markdown",
   "metadata": {},
   "source": [
    "숫자와 문장부호도 보인다. regular expression을 이용하여 삭제하자."
   ]
  },
  {
   "cell_type": "code",
   "execution_count": 47,
   "metadata": {},
   "outputs": [
    {
     "data": {
      "text/html": [
       "<div>\n",
       "<style scoped>\n",
       "    .dataframe tbody tr th:only-of-type {\n",
       "        vertical-align: middle;\n",
       "    }\n",
       "\n",
       "    .dataframe tbody tr th {\n",
       "        vertical-align: top;\n",
       "    }\n",
       "\n",
       "    .dataframe thead th {\n",
       "        text-align: right;\n",
       "    }\n",
       "</style>\n",
       "<table border=\"1\" class=\"dataframe\">\n",
       "  <thead>\n",
       "    <tr style=\"text-align: right;\">\n",
       "      <th></th>\n",
       "      <th>counts</th>\n",
       "    </tr>\n",
       "  </thead>\n",
       "  <tbody>\n",
       "    <tr>\n",
       "      <th>fruitinessflavor</th>\n",
       "      <td>1</td>\n",
       "    </tr>\n",
       "    <tr>\n",
       "      <th>independent™</th>\n",
       "      <td>1</td>\n",
       "    </tr>\n",
       "    <tr>\n",
       "      <th>ark</th>\n",
       "      <td>1</td>\n",
       "    </tr>\n",
       "    <tr>\n",
       "      <th>spend</th>\n",
       "      <td>3</td>\n",
       "    </tr>\n",
       "    <tr>\n",
       "      <th>simple</th>\n",
       "      <td>3</td>\n",
       "    </tr>\n",
       "    <tr>\n",
       "      <th>...</th>\n",
       "      <td>...</td>\n",
       "    </tr>\n",
       "    <tr>\n",
       "      <th>royal</th>\n",
       "      <td>2</td>\n",
       "    </tr>\n",
       "    <tr>\n",
       "      <th>edward</th>\n",
       "      <td>2</td>\n",
       "    </tr>\n",
       "    <tr>\n",
       "      <th>maturity</th>\n",
       "      <td>1</td>\n",
       "    </tr>\n",
       "    <tr>\n",
       "      <th>lord</th>\n",
       "      <td>2</td>\n",
       "    </tr>\n",
       "    <tr>\n",
       "      <th>august</th>\n",
       "      <td>5</td>\n",
       "    </tr>\n",
       "  </tbody>\n",
       "</table>\n",
       "<p>8500 rows × 1 columns</p>\n",
       "</div>"
      ],
      "text/plain": [
       "                  counts\n",
       "fruitinessflavor       1\n",
       "independent™           1\n",
       "ark                    1\n",
       "spend                  3\n",
       "simple                 3\n",
       "...                  ...\n",
       "royal                  2\n",
       "edward                 2\n",
       "maturity               1\n",
       "lord                   2\n",
       "august                 5\n",
       "\n",
       "[8500 rows x 1 columns]"
      ]
     },
     "execution_count": 47,
     "metadata": {},
     "output_type": "execute_result"
    }
   ],
   "source": [
    "r = re.compile(\"[0-9]+|\\W+\")\n",
    "\n",
    "for index in word_counts.index:\n",
    "\tif r.match(index) != None :\n",
    "\t\tword_counts = word_counts.drop(index)\n",
    "\n",
    "word_counts"
   ]
  },
  {
   "cell_type": "markdown",
   "metadata": {},
   "source": [
    "기술 통계량을 살펴보자."
   ]
  },
  {
   "cell_type": "code",
   "execution_count": 48,
   "metadata": {},
   "outputs": [
    {
     "data": {
      "text/html": [
       "<div>\n",
       "<style scoped>\n",
       "    .dataframe tbody tr th:only-of-type {\n",
       "        vertical-align: middle;\n",
       "    }\n",
       "\n",
       "    .dataframe tbody tr th {\n",
       "        vertical-align: top;\n",
       "    }\n",
       "\n",
       "    .dataframe thead th {\n",
       "        text-align: right;\n",
       "    }\n",
       "</style>\n",
       "<table border=\"1\" class=\"dataframe\">\n",
       "  <thead>\n",
       "    <tr style=\"text-align: right;\">\n",
       "      <th></th>\n",
       "      <th>counts</th>\n",
       "    </tr>\n",
       "  </thead>\n",
       "  <tbody>\n",
       "    <tr>\n",
       "      <th>count</th>\n",
       "      <td>8500.000000</td>\n",
       "    </tr>\n",
       "    <tr>\n",
       "      <th>mean</th>\n",
       "      <td>4.975647</td>\n",
       "    </tr>\n",
       "    <tr>\n",
       "      <th>std</th>\n",
       "      <td>22.249476</td>\n",
       "    </tr>\n",
       "    <tr>\n",
       "      <th>min</th>\n",
       "      <td>1.000000</td>\n",
       "    </tr>\n",
       "    <tr>\n",
       "      <th>25%</th>\n",
       "      <td>1.000000</td>\n",
       "    </tr>\n",
       "    <tr>\n",
       "      <th>50%</th>\n",
       "      <td>1.000000</td>\n",
       "    </tr>\n",
       "    <tr>\n",
       "      <th>75%</th>\n",
       "      <td>3.000000</td>\n",
       "    </tr>\n",
       "    <tr>\n",
       "      <th>max</th>\n",
       "      <td>1041.000000</td>\n",
       "    </tr>\n",
       "  </tbody>\n",
       "</table>\n",
       "</div>"
      ],
      "text/plain": [
       "            counts\n",
       "count  8500.000000\n",
       "mean      4.975647\n",
       "std      22.249476\n",
       "min       1.000000\n",
       "25%       1.000000\n",
       "50%       1.000000\n",
       "75%       3.000000\n",
       "max    1041.000000"
      ]
     },
     "execution_count": 48,
     "metadata": {},
     "output_type": "execute_result"
    }
   ],
   "source": [
    "word_counts.describe()"
   ]
  },
  {
   "cell_type": "markdown",
   "metadata": {},
   "source": [
    "단어 갯수 8500개중 어림잡아 50% 이상 단어의 빈도수가 1임을 알 수 있다. 그리고 가장 큰 빈도수는 1041이다.\n",
    "\n",
    "한 번 나온 단어는 맥주들을 표현하는 단어라고 보기에 적합하지 않다. 전체 맥주에서 맥주를 표현한 단어라면 한 번 나오지는 않았을 것이다. 그러므로 **1은 무의미하니 없앤다.**"
   ]
  },
  {
   "cell_type": "code",
   "execution_count": 49,
   "metadata": {},
   "outputs": [
    {
     "data": {
      "text/html": [
       "<div>\n",
       "<style scoped>\n",
       "    .dataframe tbody tr th:only-of-type {\n",
       "        vertical-align: middle;\n",
       "    }\n",
       "\n",
       "    .dataframe tbody tr th {\n",
       "        vertical-align: top;\n",
       "    }\n",
       "\n",
       "    .dataframe thead th {\n",
       "        text-align: right;\n",
       "    }\n",
       "</style>\n",
       "<table border=\"1\" class=\"dataframe\">\n",
       "  <thead>\n",
       "    <tr style=\"text-align: right;\">\n",
       "      <th></th>\n",
       "      <th>counts</th>\n",
       "    </tr>\n",
       "  </thead>\n",
       "  <tbody>\n",
       "    <tr>\n",
       "      <th>count</th>\n",
       "      <td>3516.000000</td>\n",
       "    </tr>\n",
       "    <tr>\n",
       "      <th>mean</th>\n",
       "      <td>10.611206</td>\n",
       "    </tr>\n",
       "    <tr>\n",
       "      <th>std</th>\n",
       "      <td>33.805129</td>\n",
       "    </tr>\n",
       "    <tr>\n",
       "      <th>min</th>\n",
       "      <td>2.000000</td>\n",
       "    </tr>\n",
       "    <tr>\n",
       "      <th>25%</th>\n",
       "      <td>2.000000</td>\n",
       "    </tr>\n",
       "    <tr>\n",
       "      <th>50%</th>\n",
       "      <td>3.000000</td>\n",
       "    </tr>\n",
       "    <tr>\n",
       "      <th>75%</th>\n",
       "      <td>7.000000</td>\n",
       "    </tr>\n",
       "    <tr>\n",
       "      <th>max</th>\n",
       "      <td>1041.000000</td>\n",
       "    </tr>\n",
       "  </tbody>\n",
       "</table>\n",
       "</div>"
      ],
      "text/plain": [
       "            counts\n",
       "count  3516.000000\n",
       "mean     10.611206\n",
       "std      33.805129\n",
       "min       2.000000\n",
       "25%       2.000000\n",
       "50%       3.000000\n",
       "75%       7.000000\n",
       "max    1041.000000"
      ]
     },
     "execution_count": 49,
     "metadata": {},
     "output_type": "execute_result"
    }
   ],
   "source": [
    "word_counts = word_counts.drop(word_counts[word_counts.counts == 1].index)\n",
    "word_counts.describe()"
   ]
  },
  {
   "cell_type": "markdown",
   "metadata": {},
   "source": [
    "3516개의 단어가 선정 되었다. histogram으로 분포도를 확인해보자."
   ]
  },
  {
   "cell_type": "code",
   "execution_count": 50,
   "metadata": {},
   "outputs": [
    {
     "data": {
      "image/png": "[encoded data removed]",
      "text/plain": [
       "<Figure size 432x288 with 1 Axes>"
      ]
     },
     "metadata": {
      "needs_background": "light"
     },
     "output_type": "display_data"
    }
   ],
   "source": [
    "plt.hist(word_counts, bins=10)\n",
    "plt.show()\n"
   ]
  },
  {
   "cell_type": "markdown",
   "metadata": {},
   "source": [
    "TODO: 데이터 노이즈 더 처리 => 맥주에 대한 사전 완성 => 사전 인덱스로 multi-hot indexing  == 맥주 표현 벡터 => 차원 축소(Autoencoder, CF) => beer 임베딩 \n",
    "\n",
    "최대값 4369나 높은 빈도수를 갖는 단어는 맥주를 표현하는 단어로써 무의미하다. (is, a 같은 것들) **임계치를 정해 지워주자.**"
   ]
  },
  {
   "cell_type": "code",
   "execution_count": null,
   "metadata": {},
   "outputs": [],
   "source": [
    "threshold = 10\n",
    "word_counts = word_counts.drop(word_counts[word_counts.counts > threshold].index)\n",
    "print(word_counts)"
   ]
  },
  {
   "cell_type": "code",
   "execution_count": 147,
   "metadata": {},
   "outputs": [
    {
     "data": {
      "text/html": [
       "<div>\n",
       "<style scoped>\n",
       "    .dataframe tbody tr th:only-of-type {\n",
       "        vertical-align: middle;\n",
       "    }\n",
       "\n",
       "    .dataframe tbody tr th {\n",
       "        vertical-align: top;\n",
       "    }\n",
       "\n",
       "    .dataframe thead th {\n",
       "        text-align: right;\n",
       "    }\n",
       "</style>\n",
       "<table border=\"1\" class=\"dataframe\">\n",
       "  <thead>\n",
       "    <tr style=\"text-align: right;\">\n",
       "      <th></th>\n",
       "      <th>counts</th>\n",
       "    </tr>\n",
       "  </thead>\n",
       "  <tbody>\n",
       "    <tr>\n",
       "      <th>native</th>\n",
       "      <td>8</td>\n",
       "    </tr>\n",
       "    <tr>\n",
       "      <th>White</th>\n",
       "      <td>9</td>\n",
       "    </tr>\n",
       "    <tr>\n",
       "      <th>Revolution</th>\n",
       "      <td>7</td>\n",
       "    </tr>\n",
       "    <tr>\n",
       "      <th>worthy</th>\n",
       "      <td>7</td>\n",
       "    </tr>\n",
       "    <tr>\n",
       "      <th>massive</th>\n",
       "      <td>8</td>\n",
       "    </tr>\n",
       "    <tr>\n",
       "      <th>...</th>\n",
       "      <td>...</td>\n",
       "    </tr>\n",
       "    <tr>\n",
       "      <th>rise</th>\n",
       "      <td>7</td>\n",
       "    </tr>\n",
       "    <tr>\n",
       "      <th>results</th>\n",
       "      <td>9</td>\n",
       "    </tr>\n",
       "    <tr>\n",
       "      <th>apricot</th>\n",
       "      <td>9</td>\n",
       "    </tr>\n",
       "    <tr>\n",
       "      <th>Vol</th>\n",
       "      <td>10</td>\n",
       "    </tr>\n",
       "    <tr>\n",
       "      <th>land</th>\n",
       "      <td>9</td>\n",
       "    </tr>\n",
       "  </tbody>\n",
       "</table>\n",
       "<p>447 rows × 1 columns</p>\n",
       "</div>"
      ],
      "text/plain": [
       "            counts\n",
       "native           8\n",
       "White            9\n",
       "Revolution       7\n",
       "worthy           7\n",
       "massive          8\n",
       "...            ...\n",
       "rise             7\n",
       "results          9\n",
       "apricot          9\n",
       "Vol             10\n",
       "land             9\n",
       "\n",
       "[447 rows x 1 columns]"
      ]
     },
     "execution_count": 147,
     "metadata": {},
     "output_type": "execute_result"
    }
   ],
   "source": [
    "MIN_THRESHOLD = 7\n",
    "\n",
    "word_counts = word_counts.drop(word_counts[word_counts.counts < 7].index)\n",
    "word_counts"
   ]
  },
  {
   "cell_type": "code",
   "execution_count": 148,
   "metadata": {},
   "outputs": [
    {
     "data": {
      "image/png": "[encoded data removed]",
      "text/plain": [
       "<Figure size 432x288 with 1 Axes>"
      ]
     },
     "metadata": {
      "needs_background": "light"
     },
     "output_type": "display_data"
    }
   ],
   "source": [
    "plt.hist(word_counts, bins=10)\n",
    "plt.show()"
   ]
  }
 ],
 "metadata": {
  "interpreter": {
   "hash": "26c4ab516554bc256cdfa78737bf92fc9060afab0605f45fe3ff7e696f68312b"
  },
  "kernelspec": {
   "display_name": "Python 3.9.7 ('RecommenderSystem')",
   "language": "python",
   "name": "python3"
  },
  "language_info": {
   "codemirror_mode": {
    "name": "ipython",
    "version": 3
   },
   "file_extension": ".py",
   "mimetype": "text/x-python",
   "name": "python",
   "nbconvert_exporter": "python",
   "pygments_lexer": "ipython3",
   "version": "3.9.7"
  },
  "orig_nbformat": 4
 },
 "nbformat": 4,
 "nbformat_minor": 2
}
