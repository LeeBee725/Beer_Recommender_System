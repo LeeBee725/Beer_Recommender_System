{
 "cells": [
  {
   "cell_type": "markdown",
   "metadata": {},
   "source": [
    "# Visualization Embedding\n",
    "\n",
    "##\n",
    "\n",
    "### 2022-1 RecommenderSystem Project\n",
    "\n",
    "#### Enviroment\n",
    "\n",
    "- python ->\t3.9.7\n",
    "- pandas ->\t1.4.1\n",
    "- numpy ->\t1.21.5\n",
    "- torch -> 1.10.2\n",
    "\n",
    "#### Data\n",
    "\n",
    "- beer_reviews.csv (<https://www.kaggle.com/datasets/rdoume/beerreviews>)\n",
    "\n",
    "#### Author\n",
    "\n",
    "- Lee Junhee"
   ]
  },
  {
   "cell_type": "code",
   "execution_count": 1,
   "metadata": {},
   "outputs": [],
   "source": [
    "import numpy as np\n",
    "import pandas as pd\n",
    "import pickle\n",
    "\n",
    "import torch\n",
    "\n",
    "import matplotlib.pyplot as plt"
   ]
  },
  {
   "cell_type": "markdown",
   "metadata": {},
   "source": [
    "기존의 맥주 임베딩을 가져온다."
   ]
  },
  {
   "cell_type": "code",
   "execution_count": 2,
   "metadata": {},
   "outputs": [
    {
     "data": {
      "text/html": [
       "<div>\n",
       "<style scoped>\n",
       "    .dataframe tbody tr th:only-of-type {\n",
       "        vertical-align: middle;\n",
       "    }\n",
       "\n",
       "    .dataframe tbody tr th {\n",
       "        vertical-align: top;\n",
       "    }\n",
       "\n",
       "    .dataframe thead th {\n",
       "        text-align: right;\n",
       "    }\n",
       "</style>\n",
       "<table border=\"1\" class=\"dataframe\">\n",
       "  <thead>\n",
       "    <tr style=\"text-align: right;\">\n",
       "      <th></th>\n",
       "      <th>beer_name</th>\n",
       "      <th>beer_style</th>\n",
       "      <th>tokens</th>\n",
       "      <th>encoded</th>\n",
       "      <th>embedding</th>\n",
       "    </tr>\n",
       "  </thead>\n",
       "  <tbody>\n",
       "    <tr>\n",
       "      <th>0</th>\n",
       "      <td># 100</td>\n",
       "      <td>American Barleywine</td>\n",
       "      <td>[batch, wheat, chocolate, yeast, local, water]</td>\n",
       "      <td>[3030, 3446, 3492, 3547, 3552, 3562]</td>\n",
       "      <td>[-0.038733605, -0.141257, -0.1314186, -0.02864...</td>\n",
       "    </tr>\n",
       "    <tr>\n",
       "      <th>1</th>\n",
       "      <td>#9</td>\n",
       "      <td>Fruit / Vegetable Beer</td>\n",
       "      <td>[secrecy, mysterious, unusual, palate, tongue,...</td>\n",
       "      <td>[0, 1, 1624, 2324, 2434, 2542, 2927, 3505, 3528]</td>\n",
       "      <td>[-0.091067806, -0.2556749, 0.36461538, -0.2318...</td>\n",
       "    </tr>\n",
       "    <tr>\n",
       "      <th>2</th>\n",
       "      <td>'t Smisje BBBourgondier</td>\n",
       "      <td>Quadrupel (Quad)</td>\n",
       "      <td>[available, honor]</td>\n",
       "      <td>[2571, 3460]</td>\n",
       "      <td>[-0.04127886, -0.10878571, 0.41264004, -0.2201...</td>\n",
       "    </tr>\n",
       "    <tr>\n",
       "      <th>3</th>\n",
       "      <td>10 Commandments</td>\n",
       "      <td>Belgian Strong Dark Ale</td>\n",
       "      <td>[stronger, version, contemplative, alcohol, co...</td>\n",
       "      <td>[2, 3, 4, 1625, 2435, 2632, 2783, 2837, 3388, ...</td>\n",
       "      <td>[-0.13049294, 0.011829153, 0.28523436, -0.2022...</td>\n",
       "    </tr>\n",
       "    <tr>\n",
       "      <th>4</th>\n",
       "      <td>1100 Wheat Wine</td>\n",
       "      <td>Wheatwine</td>\n",
       "      <td>[first, bourbon]</td>\n",
       "      <td>[3064, 3500]</td>\n",
       "      <td>[-0.28391176, -0.034813236, 0.2492991, -0.2185...</td>\n",
       "    </tr>\n",
       "    <tr>\n",
       "      <th>...</th>\n",
       "      <td>...</td>\n",
       "      <td>...</td>\n",
       "      <td>...</td>\n",
       "      <td>...</td>\n",
       "      <td>...</td>\n",
       "    </tr>\n",
       "    <tr>\n",
       "      <th>1187</th>\n",
       "      <td>Zwickel</td>\n",
       "      <td>Keller Bier / Zwickel BierKeller Bier / Zwicke...</td>\n",
       "      <td>[flagship, lager, zvickel, unfiltered, unpaste...</td>\n",
       "      <td>[2218, 2219, 2291, 2529, 3429, 3450, 3524, 355...</td>\n",
       "      <td>[0.17450069, 0.21993855, -0.28006345, -0.13167...</td>\n",
       "    </tr>\n",
       "    <tr>\n",
       "      <th>1188</th>\n",
       "      <td>ZÔN</td>\n",
       "      <td>Witbier</td>\n",
       "      <td>[summer, seasonal, interpretation, classic, be...</td>\n",
       "      <td>[1616, 2308, 3088, 3298, 3358, 3390, 3471, 349...</td>\n",
       "      <td>[0.069744915, -0.11311212, -0.25845426, 0.2089...</td>\n",
       "    </tr>\n",
       "    <tr>\n",
       "      <th>1189</th>\n",
       "      <td>Éphémère (Apple)</td>\n",
       "      <td>Fruit / Vegetable Beer</td>\n",
       "      <td>[ephemeral, series, seasonal, fruit, refreshin...</td>\n",
       "      <td>[1617, 1618, 1619, 1956, 1998, 2035, 2066, 227...</td>\n",
       "      <td>[0.006539313, -0.2198533, 0.09618703, 0.149628...</td>\n",
       "    </tr>\n",
       "    <tr>\n",
       "      <th>1190</th>\n",
       "      <td>Équinoxe Du Printemps</td>\n",
       "      <td>Scotch Ale / Wee Heavy</td>\n",
       "      <td>[quinoxe, spring, equinox, quintessential, mar...</td>\n",
       "      <td>[1620, 1621, 1622, 1726, 2222, 2333, 2358, 239...</td>\n",
       "      <td>[0.31319603, 0.0055345288, 0.020530751, 0.1622...</td>\n",
       "    </tr>\n",
       "    <tr>\n",
       "      <th>1191</th>\n",
       "      <td>Über Alt</td>\n",
       "      <td>Altbier</td>\n",
       "      <td>[stronger, version, traditional, ancient, styl...</td>\n",
       "      <td>[1623, 1740, 2204, 2801, 2837, 3024, 3094, 318...</td>\n",
       "      <td>[-0.19829927, -0.06820007, -0.16175494, -0.051...</td>\n",
       "    </tr>\n",
       "  </tbody>\n",
       "</table>\n",
       "<p>1192 rows × 5 columns</p>\n",
       "</div>"
      ],
      "text/plain": [
       "                    beer_name  \\\n",
       "0                       # 100   \n",
       "1                          #9   \n",
       "2     't Smisje BBBourgondier   \n",
       "3             10 Commandments   \n",
       "4             1100 Wheat Wine   \n",
       "...                       ...   \n",
       "1187                  Zwickel   \n",
       "1188                      ZÔN   \n",
       "1189         Éphémère (Apple)   \n",
       "1190    Équinoxe Du Printemps   \n",
       "1191                 Über Alt   \n",
       "\n",
       "                                             beer_style  \\\n",
       "0                                   American Barleywine   \n",
       "1                                Fruit / Vegetable Beer   \n",
       "2                                      Quadrupel (Quad)   \n",
       "3                               Belgian Strong Dark Ale   \n",
       "4                                             Wheatwine   \n",
       "...                                                 ...   \n",
       "1187  Keller Bier / Zwickel BierKeller Bier / Zwicke...   \n",
       "1188                                            Witbier   \n",
       "1189                             Fruit / Vegetable Beer   \n",
       "1190                             Scotch Ale / Wee Heavy   \n",
       "1191                                            Altbier   \n",
       "\n",
       "                                                 tokens  \\\n",
       "0        [batch, wheat, chocolate, yeast, local, water]   \n",
       "1     [secrecy, mysterious, unusual, palate, tongue,...   \n",
       "2                                    [available, honor]   \n",
       "3     [stronger, version, contemplative, alcohol, co...   \n",
       "4                                      [first, bourbon]   \n",
       "...                                                 ...   \n",
       "1187  [flagship, lager, zvickel, unfiltered, unpaste...   \n",
       "1188  [summer, seasonal, interpretation, classic, be...   \n",
       "1189  [ephemeral, series, seasonal, fruit, refreshin...   \n",
       "1190  [quinoxe, spring, equinox, quintessential, mar...   \n",
       "1191  [stronger, version, traditional, ancient, styl...   \n",
       "\n",
       "                                                encoded  \\\n",
       "0                  [3030, 3446, 3492, 3547, 3552, 3562]   \n",
       "1      [0, 1, 1624, 2324, 2434, 2542, 2927, 3505, 3528]   \n",
       "2                                          [2571, 3460]   \n",
       "3     [2, 3, 4, 1625, 2435, 2632, 2783, 2837, 3388, ...   \n",
       "4                                          [3064, 3500]   \n",
       "...                                                 ...   \n",
       "1187  [2218, 2219, 2291, 2529, 3429, 3450, 3524, 355...   \n",
       "1188  [1616, 2308, 3088, 3298, 3358, 3390, 3471, 349...   \n",
       "1189  [1617, 1618, 1619, 1956, 1998, 2035, 2066, 227...   \n",
       "1190  [1620, 1621, 1622, 1726, 2222, 2333, 2358, 239...   \n",
       "1191  [1623, 1740, 2204, 2801, 2837, 3024, 3094, 318...   \n",
       "\n",
       "                                              embedding  \n",
       "0     [-0.038733605, -0.141257, -0.1314186, -0.02864...  \n",
       "1     [-0.091067806, -0.2556749, 0.36461538, -0.2318...  \n",
       "2     [-0.04127886, -0.10878571, 0.41264004, -0.2201...  \n",
       "3     [-0.13049294, 0.011829153, 0.28523436, -0.2022...  \n",
       "4     [-0.28391176, -0.034813236, 0.2492991, -0.2185...  \n",
       "...                                                 ...  \n",
       "1187  [0.17450069, 0.21993855, -0.28006345, -0.13167...  \n",
       "1188  [0.069744915, -0.11311212, -0.25845426, 0.2089...  \n",
       "1189  [0.006539313, -0.2198533, 0.09618703, 0.149628...  \n",
       "1190  [0.31319603, 0.0055345288, 0.020530751, 0.1622...  \n",
       "1191  [-0.19829927, -0.06820007, -0.16175494, -0.051...  \n",
       "\n",
       "[1192 rows x 5 columns]"
      ]
     },
     "execution_count": 2,
     "metadata": {},
     "output_type": "execute_result"
    }
   ],
   "source": [
    "with open('./data/beers_with_embedding.pkl', 'rb') as f:\n",
    "    beers = pickle.load(f)\n",
    "beers"
   ]
  },
  {
   "cell_type": "code",
   "execution_count": 3,
   "metadata": {},
   "outputs": [
    {
     "name": "stdout",
     "output_type": "stream",
     "text": [
      "tensor([[-0.0387, -0.1413, -0.1314,  ..., -0.0551,  0.0455, -0.0229],\n",
      "        [-0.0911, -0.2557,  0.3646,  ..., -0.2661, -0.3114, -0.2557],\n",
      "        [-0.0413, -0.1088,  0.4126,  ..., -0.1693,  0.3274, -0.1892],\n",
      "        ...,\n",
      "        [ 0.0065, -0.2199,  0.0962,  ..., -0.2203, -0.0314, -0.1425],\n",
      "        [ 0.3132,  0.0055,  0.0205,  ..., -0.0546, -0.2242,  0.1931],\n",
      "        [-0.1983, -0.0682, -0.1618,  ...,  0.0858, -0.0981, -0.0989]])\n",
      "torch.Size([1192, 100])\n"
     ]
    }
   ],
   "source": [
    "embeddings = []\n",
    "for embedding in beers.embedding:\n",
    "\tembeddings.append(embedding)\n",
    "embeddings = np.array(embeddings)\n",
    "embeddings = torch.tensor(embeddings)\n",
    "print(embeddings)\n",
    "print(embeddings.shape)"
   ]
  },
  {
   "cell_type": "markdown",
   "metadata": {},
   "source": [
    "PCA 모델을 통해 맥주 임베딩 차원을 축소한다. "
   ]
  },
  {
   "cell_type": "code",
   "execution_count": 4,
   "metadata": {},
   "outputs": [
    {
     "name": "stdout",
     "output_type": "stream",
     "text": [
      "torch.Size([1192, 2]) torch.Size([2]) torch.Size([100, 2])\n"
     ]
    },
    {
     "data": {
      "text/plain": [
       "tensor([[-0.1508,  0.0870],\n",
       "        [ 0.0824, -0.0266],\n",
       "        [-0.0093, -0.0274],\n",
       "        ...,\n",
       "        [-0.2640, -0.2632],\n",
       "        [-0.0536, -0.2923],\n",
       "        [ 0.6061,  0.1505]])"
      ]
     },
     "execution_count": 4,
     "metadata": {},
     "output_type": "execute_result"
    }
   ],
   "source": [
    "U, S, V = torch.pca_lowrank(embeddings, 2)\n",
    "print(U.shape, S.shape, V.shape)\n",
    "\n",
    "embeddingsDim2 = np.matmul(embeddings, V)\n",
    "embeddingsDim2"
   ]
  },
  {
   "cell_type": "markdown",
   "metadata": {},
   "source": [
    "2차원의 임베딩 벡터를 시각화 한다."
   ]
  },
  {
   "cell_type": "code",
   "execution_count": 5,
   "metadata": {},
   "outputs": [
    {
     "data": {
      "image/png": "[encoded data removed]",
      "text/plain": [
       "<Figure size 720x720 with 1 Axes>"
      ]
     },
     "metadata": {
      "needs_background": "light"
     },
     "output_type": "display_data"
    }
   ],
   "source": [
    "plt.rcParams['figure.figsize'] = [10, 10] # you can change size for your style\n",
    "plt.xlim(embeddingsDim2[:,0].min(), embeddingsDim2[:,0].max()) # 축 범위 조정\n",
    "plt.ylim(embeddingsDim2[:,1].min(), embeddingsDim2[:,1].max()) # 축 범위 조정\n",
    "\n",
    "plt.scatter(embeddingsDim2[:,0],embeddingsDim2[:,1], s= 3)\n",
    "\n",
    "\n",
    "plt.title('Beer Embedding adopted PCA')\n",
    "plt.show()"
   ]
  },
  {
   "cell_type": "markdown",
   "metadata": {},
   "source": [
    "유의미한 분포를 갖고 있지 않다."
   ]
  },
  {
   "cell_type": "markdown",
   "metadata": {},
   "source": [
    "그래도 일단 임의의 맥주 스타일 특정하여 같은 맥주 스타일을 갖는 맥주 확인해보자"
   ]
  },
  {
   "cell_type": "code",
   "execution_count": 6,
   "metadata": {},
   "outputs": [
    {
     "data": {
      "image/png": "[encoded data removed]",
      "text/plain": [
       "<Figure size 720x720 with 1 Axes>"
      ]
     },
     "metadata": {
      "needs_background": "light"
     },
     "output_type": "display_data"
    }
   ],
   "source": [
    "plt.scatter(embeddingsDim2[:,0],embeddingsDim2[:,1], s= 3)\n",
    "belgianX = embeddingsDim2[beers[beers.beer_style == 'Belgian Strong Dark Ale'].index.values,0]\n",
    "belgianY = embeddingsDim2[beers[beers.beer_style == 'Belgian Strong Dark Ale'].index.values,1]\n",
    "plt.scatter(belgianX, belgianY, s=4, c='red')\n",
    "plt.show()"
   ]
  },
  {
   "cell_type": "markdown",
   "metadata": {},
   "source": [
    "분산되어 있다.\n",
    "\n",
    "Description 단어를 이용해 임베딩 하였으니 특정 단어를 선택하여 다시한번 시도해보자."
   ]
  },
  {
   "cell_type": "code",
   "execution_count": 10,
   "metadata": {},
   "outputs": [
    {
     "name": "stdout",
     "output_type": "stream",
     "text": [
      "[45, 53, 54, 61, 106, 129, 171, 178, 190, 194, 208, 225, 229, 245, 247, 250, 257, 259, 271, 276, 288, 303, 304, 315, 332, 333, 349, 352, 354, 371, 393, 408, 412, 413, 414, 423, 428, 446, 450, 457, 462, 463, 467, 476, 489, 514, 536, 537, 555, 557, 592, 619, 620, 622, 623, 625, 629, 635, 647, 649, 663, 667, 685, 689, 699, 702, 708, 712, 718, 729, 740, 750, 753, 777, 778, 779, 789, 807, 813, 833, 834, 845, 852, 906, 912, 916, 938, 947, 950, 959, 960, 985, 1001, 1008, 1012, 1037, 1050, 1089, 1094, 1098, 1101, 1109, 1127, 1136, 1151, 1166, 1168, 1182]\n"
     ]
    }
   ],
   "source": [
    "sweetBeers = []\n",
    "for index, tokens in enumerate(beers.tokens):\n",
    "\tif 'sweet' in tokens:\n",
    "\t\tsweetBeers.append(index)\n",
    "\n",
    "print(sweetBeers)"
   ]
  },
  {
   "cell_type": "code",
   "execution_count": 11,
   "metadata": {},
   "outputs": [
    {
     "data": {
      "image/png": "[encoded data removed]",
      "text/plain": [
       "<Figure size 720x720 with 1 Axes>"
      ]
     },
     "metadata": {
      "needs_background": "light"
     },
     "output_type": "display_data"
    }
   ],
   "source": [
    "plt.scatter(embeddingsDim2[:,0],embeddingsDim2[:,1], s= 3)\n",
    "belgianX = embeddingsDim2[sweetBeers,0]\n",
    "belgianY = embeddingsDim2[sweetBeers,1]\n",
    "plt.scatter(belgianX, belgianY, s=4, c='red')\n",
    "plt.show()"
   ]
  },
  {
   "cell_type": "markdown",
   "metadata": {},
   "source": [
    "분산되어있다.\n",
    "\n",
    "결론: 임베딩이 잘 안되었다. 해당 임베딩으로 맥주를 추천하기에는 부적합하다.\n",
    "\n",
    "개선방안\n",
    "1. 어휘 구성의 노이즈가 많으니 더 제거한다.\n",
    "2. 특정 맥주의 Description 내부 단어들은 유사한 단어일 것이라는 전제에서 특정 맥주 내부 단어들의 페어를 짰다. 어휘에서 비슷한 단어들을 분류해두고 해당 그룹의 페어로 다시 학습시킨다.\n",
    "3. Pre-trained Word2Vec모델을 사용한다."
   ]
  }
 ],
 "metadata": {
  "interpreter": {
   "hash": "af5f53ab177b1622a14324d8812e84f4794c66b055eb7150ff98cdbf615623fe"
  },
  "kernelspec": {
   "display_name": "Python 3.9.7 ('RecommenderSystem')",
   "language": "python",
   "name": "python3"
  },
  "language_info": {
   "codemirror_mode": {
    "name": "ipython",
    "version": 3
   },
   "file_extension": ".py",
   "mimetype": "text/x-python",
   "name": "python",
   "nbconvert_exporter": "python",
   "pygments_lexer": "ipython3",
   "version": "3.9.7"
  },
  "orig_nbformat": 4
 },
 "nbformat": 4,
 "nbformat_minor": 2
}
